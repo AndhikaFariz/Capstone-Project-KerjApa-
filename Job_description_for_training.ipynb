{
  "cells": [
    {
      "cell_type": "code",
      "execution_count": 1,
      "metadata": {
        "id": "_y5RdyQ4kVS7"
      },
      "outputs": [],
      "source": [
        "import numpy as np\n",
        "import pandas as pd\n",
        "import matplotlib.pyplot as plt\n",
        "import seaborn as sns"
      ]
    },
    {
      "cell_type": "code",
      "execution_count": 2,
      "metadata": {
        "colab": {
          "base_uri": "https://localhost:8080/"
        },
        "id": "8whsEbhdktHG",
        "outputId": "74a22d08-9183-421e-af84-6f9040ff77cd"
      },
      "outputs": [
        {
          "output_type": "stream",
          "name": "stdout",
          "text": [
            "Mounted at /content/drive\n"
          ]
        }
      ],
      "source": [
        "from google.colab import drive\n",
        "drive.mount('/content/drive')"
      ]
    },
    {
      "cell_type": "code",
      "execution_count": 3,
      "metadata": {
        "id": "sNIyj4afncEd"
      },
      "outputs": [],
      "source": [
        "dataset = 'drive/MyDrive/Bangkit 2022/Capstone Project/dice_com-job_us_sample.csv'"
      ]
    },
    {
      "cell_type": "code",
      "execution_count": 4,
      "metadata": {
        "colab": {
          "base_uri": "https://localhost:8080/",
          "height": 565
        },
        "id": "G5nTTWC2pPW_",
        "outputId": "3a6f373c-0b85-47d9-c82e-acdce54fcfaf"
      },
      "outputs": [
        {
          "output_type": "execute_result",
          "data": {
            "text/plain": [
              "                                       advertiserurl  \\\n",
              "0  https://www.dice.com/jobs/detail/AUTOMATION-TE...   \n",
              "1  https://www.dice.com/jobs/detail/Information-S...   \n",
              "2  https://www.dice.com/jobs/detail/Business-Solu...   \n",
              "3  https://www.dice.com/jobs/detail/Java-Develope...   \n",
              "4  https://www.dice.com/jobs/detail/DevOps-Engine...   \n",
              "\n",
              "                             company  \\\n",
              "0  Digital Intelligence Systems, LLC   \n",
              "1  University of Chicago/IT Services   \n",
              "2               Galaxy Systems, Inc.   \n",
              "3                      TransTech LLC   \n",
              "4                   Matrix Resources   \n",
              "\n",
              "                            employmenttype_jobstatus  \\\n",
              "0  C2H Corp-To-Corp, C2H Independent, C2H W2, 3 M...   \n",
              "1                                          Full Time   \n",
              "2                                          Full Time   \n",
              "3                                          Full Time   \n",
              "4                                          Full Time   \n",
              "\n",
              "                                      jobdescription               jobid  \\\n",
              "0  Looking for Selenium engineers...must have sol...  Dice Id : 10110693   \n",
              "1  The University of Chicago has a rapidly growin...  Dice Id : 10114469   \n",
              "2  GalaxE.SolutionsEvery day, our solutions affec...  Dice Id : CXGALXYS   \n",
              "3  Java DeveloperFull-time/direct-hireBolingbrook...  Dice Id : 10113627   \n",
              "4  Midtown based high tech firm has an immediate ...  Dice Id : matrixga   \n",
              "\n",
              "  joblocation_address                                           jobtitle  \\\n",
              "0         Atlanta, GA                           AUTOMATION TEST ENGINEER   \n",
              "1         Chicago, IL                      Information Security Engineer   \n",
              "2      Schaumburg, IL                       Business Solutions Architect   \n",
              "3     Bolingbrook, IL  Java Developer (mid level)- FT- GREAT culture,...   \n",
              "4         Atlanta, GA                                    DevOps Engineer   \n",
              "\n",
              "         postdate                                            shift site_name  \\\n",
              "0      1 hour ago  Telecommuting not available|Travel not required       NaN   \n",
              "1      1 week ago  Telecommuting not available|Travel not required       NaN   \n",
              "2     2 weeks ago  Telecommuting not available|Travel not required       NaN   \n",
              "3     2 weeks ago  Telecommuting not available|Travel not required       NaN   \n",
              "4  48 minutes ago  Telecommuting not available|Travel not required       NaN   \n",
              "\n",
              "                                              skills  \\\n",
              "0                                          SEE BELOW   \n",
              "1  linux/unix, network monitoring, incident respo...   \n",
              "2  Enterprise Solutions Architecture, business in...   \n",
              "3                         Please see job description   \n",
              "4  Configuration Management, Developer, Linux, Ma...   \n",
              "\n",
              "                            uniq_id  \n",
              "0  418ff92580b270ef4e7c14f0ddfc36b4  \n",
              "1  8aec88cba08d53da65ab99cf20f6f9d9  \n",
              "2  46baa1f69ac07779274bcd90b85d9a72  \n",
              "3  3941b2f206ae0f900c4fba4ac0b18719  \n",
              "4  45efa1f6bc65acc32bbbb953a1ed13b7  "
            ],
            "text/html": [
              "\n",
              "  <div id=\"df-756c1294-ef6d-4bbc-9d88-3af49269da31\">\n",
              "    <div class=\"colab-df-container\">\n",
              "      <div>\n",
              "<style scoped>\n",
              "    .dataframe tbody tr th:only-of-type {\n",
              "        vertical-align: middle;\n",
              "    }\n",
              "\n",
              "    .dataframe tbody tr th {\n",
              "        vertical-align: top;\n",
              "    }\n",
              "\n",
              "    .dataframe thead th {\n",
              "        text-align: right;\n",
              "    }\n",
              "</style>\n",
              "<table border=\"1\" class=\"dataframe\">\n",
              "  <thead>\n",
              "    <tr style=\"text-align: right;\">\n",
              "      <th></th>\n",
              "      <th>advertiserurl</th>\n",
              "      <th>company</th>\n",
              "      <th>employmenttype_jobstatus</th>\n",
              "      <th>jobdescription</th>\n",
              "      <th>jobid</th>\n",
              "      <th>joblocation_address</th>\n",
              "      <th>jobtitle</th>\n",
              "      <th>postdate</th>\n",
              "      <th>shift</th>\n",
              "      <th>site_name</th>\n",
              "      <th>skills</th>\n",
              "      <th>uniq_id</th>\n",
              "    </tr>\n",
              "  </thead>\n",
              "  <tbody>\n",
              "    <tr>\n",
              "      <th>0</th>\n",
              "      <td>https://www.dice.com/jobs/detail/AUTOMATION-TE...</td>\n",
              "      <td>Digital Intelligence Systems, LLC</td>\n",
              "      <td>C2H Corp-To-Corp, C2H Independent, C2H W2, 3 M...</td>\n",
              "      <td>Looking for Selenium engineers...must have sol...</td>\n",
              "      <td>Dice Id : 10110693</td>\n",
              "      <td>Atlanta, GA</td>\n",
              "      <td>AUTOMATION TEST ENGINEER</td>\n",
              "      <td>1 hour ago</td>\n",
              "      <td>Telecommuting not available|Travel not required</td>\n",
              "      <td>NaN</td>\n",
              "      <td>SEE BELOW</td>\n",
              "      <td>418ff92580b270ef4e7c14f0ddfc36b4</td>\n",
              "    </tr>\n",
              "    <tr>\n",
              "      <th>1</th>\n",
              "      <td>https://www.dice.com/jobs/detail/Information-S...</td>\n",
              "      <td>University of Chicago/IT Services</td>\n",
              "      <td>Full Time</td>\n",
              "      <td>The University of Chicago has a rapidly growin...</td>\n",
              "      <td>Dice Id : 10114469</td>\n",
              "      <td>Chicago, IL</td>\n",
              "      <td>Information Security Engineer</td>\n",
              "      <td>1 week ago</td>\n",
              "      <td>Telecommuting not available|Travel not required</td>\n",
              "      <td>NaN</td>\n",
              "      <td>linux/unix, network monitoring, incident respo...</td>\n",
              "      <td>8aec88cba08d53da65ab99cf20f6f9d9</td>\n",
              "    </tr>\n",
              "    <tr>\n",
              "      <th>2</th>\n",
              "      <td>https://www.dice.com/jobs/detail/Business-Solu...</td>\n",
              "      <td>Galaxy Systems, Inc.</td>\n",
              "      <td>Full Time</td>\n",
              "      <td>GalaxE.SolutionsEvery day, our solutions affec...</td>\n",
              "      <td>Dice Id : CXGALXYS</td>\n",
              "      <td>Schaumburg, IL</td>\n",
              "      <td>Business Solutions Architect</td>\n",
              "      <td>2 weeks ago</td>\n",
              "      <td>Telecommuting not available|Travel not required</td>\n",
              "      <td>NaN</td>\n",
              "      <td>Enterprise Solutions Architecture, business in...</td>\n",
              "      <td>46baa1f69ac07779274bcd90b85d9a72</td>\n",
              "    </tr>\n",
              "    <tr>\n",
              "      <th>3</th>\n",
              "      <td>https://www.dice.com/jobs/detail/Java-Develope...</td>\n",
              "      <td>TransTech LLC</td>\n",
              "      <td>Full Time</td>\n",
              "      <td>Java DeveloperFull-time/direct-hireBolingbrook...</td>\n",
              "      <td>Dice Id : 10113627</td>\n",
              "      <td>Bolingbrook, IL</td>\n",
              "      <td>Java Developer (mid level)- FT- GREAT culture,...</td>\n",
              "      <td>2 weeks ago</td>\n",
              "      <td>Telecommuting not available|Travel not required</td>\n",
              "      <td>NaN</td>\n",
              "      <td>Please see job description</td>\n",
              "      <td>3941b2f206ae0f900c4fba4ac0b18719</td>\n",
              "    </tr>\n",
              "    <tr>\n",
              "      <th>4</th>\n",
              "      <td>https://www.dice.com/jobs/detail/DevOps-Engine...</td>\n",
              "      <td>Matrix Resources</td>\n",
              "      <td>Full Time</td>\n",
              "      <td>Midtown based high tech firm has an immediate ...</td>\n",
              "      <td>Dice Id : matrixga</td>\n",
              "      <td>Atlanta, GA</td>\n",
              "      <td>DevOps Engineer</td>\n",
              "      <td>48 minutes ago</td>\n",
              "      <td>Telecommuting not available|Travel not required</td>\n",
              "      <td>NaN</td>\n",
              "      <td>Configuration Management, Developer, Linux, Ma...</td>\n",
              "      <td>45efa1f6bc65acc32bbbb953a1ed13b7</td>\n",
              "    </tr>\n",
              "  </tbody>\n",
              "</table>\n",
              "</div>\n",
              "      <button class=\"colab-df-convert\" onclick=\"convertToInteractive('df-756c1294-ef6d-4bbc-9d88-3af49269da31')\"\n",
              "              title=\"Convert this dataframe to an interactive table.\"\n",
              "              style=\"display:none;\">\n",
              "        \n",
              "  <svg xmlns=\"http://www.w3.org/2000/svg\" height=\"24px\"viewBox=\"0 0 24 24\"\n",
              "       width=\"24px\">\n",
              "    <path d=\"M0 0h24v24H0V0z\" fill=\"none\"/>\n",
              "    <path d=\"M18.56 5.44l.94 2.06.94-2.06 2.06-.94-2.06-.94-.94-2.06-.94 2.06-2.06.94zm-11 1L8.5 8.5l.94-2.06 2.06-.94-2.06-.94L8.5 2.5l-.94 2.06-2.06.94zm10 10l.94 2.06.94-2.06 2.06-.94-2.06-.94-.94-2.06-.94 2.06-2.06.94z\"/><path d=\"M17.41 7.96l-1.37-1.37c-.4-.4-.92-.59-1.43-.59-.52 0-1.04.2-1.43.59L10.3 9.45l-7.72 7.72c-.78.78-.78 2.05 0 2.83L4 21.41c.39.39.9.59 1.41.59.51 0 1.02-.2 1.41-.59l7.78-7.78 2.81-2.81c.8-.78.8-2.07 0-2.86zM5.41 20L4 18.59l7.72-7.72 1.47 1.35L5.41 20z\"/>\n",
              "  </svg>\n",
              "      </button>\n",
              "      \n",
              "  <style>\n",
              "    .colab-df-container {\n",
              "      display:flex;\n",
              "      flex-wrap:wrap;\n",
              "      gap: 12px;\n",
              "    }\n",
              "\n",
              "    .colab-df-convert {\n",
              "      background-color: #E8F0FE;\n",
              "      border: none;\n",
              "      border-radius: 50%;\n",
              "      cursor: pointer;\n",
              "      display: none;\n",
              "      fill: #1967D2;\n",
              "      height: 32px;\n",
              "      padding: 0 0 0 0;\n",
              "      width: 32px;\n",
              "    }\n",
              "\n",
              "    .colab-df-convert:hover {\n",
              "      background-color: #E2EBFA;\n",
              "      box-shadow: 0px 1px 2px rgba(60, 64, 67, 0.3), 0px 1px 3px 1px rgba(60, 64, 67, 0.15);\n",
              "      fill: #174EA6;\n",
              "    }\n",
              "\n",
              "    [theme=dark] .colab-df-convert {\n",
              "      background-color: #3B4455;\n",
              "      fill: #D2E3FC;\n",
              "    }\n",
              "\n",
              "    [theme=dark] .colab-df-convert:hover {\n",
              "      background-color: #434B5C;\n",
              "      box-shadow: 0px 1px 3px 1px rgba(0, 0, 0, 0.15);\n",
              "      filter: drop-shadow(0px 1px 2px rgba(0, 0, 0, 0.3));\n",
              "      fill: #FFFFFF;\n",
              "    }\n",
              "  </style>\n",
              "\n",
              "      <script>\n",
              "        const buttonEl =\n",
              "          document.querySelector('#df-756c1294-ef6d-4bbc-9d88-3af49269da31 button.colab-df-convert');\n",
              "        buttonEl.style.display =\n",
              "          google.colab.kernel.accessAllowed ? 'block' : 'none';\n",
              "\n",
              "        async function convertToInteractive(key) {\n",
              "          const element = document.querySelector('#df-756c1294-ef6d-4bbc-9d88-3af49269da31');\n",
              "          const dataTable =\n",
              "            await google.colab.kernel.invokeFunction('convertToInteractive',\n",
              "                                                     [key], {});\n",
              "          if (!dataTable) return;\n",
              "\n",
              "          const docLinkHtml = 'Like what you see? Visit the ' +\n",
              "            '<a target=\"_blank\" href=https://colab.research.google.com/notebooks/data_table.ipynb>data table notebook</a>'\n",
              "            + ' to learn more about interactive tables.';\n",
              "          element.innerHTML = '';\n",
              "          dataTable['output_type'] = 'display_data';\n",
              "          await google.colab.output.renderOutput(dataTable, element);\n",
              "          const docLink = document.createElement('div');\n",
              "          docLink.innerHTML = docLinkHtml;\n",
              "          element.appendChild(docLink);\n",
              "        }\n",
              "      </script>\n",
              "    </div>\n",
              "  </div>\n",
              "  "
            ]
          },
          "metadata": {},
          "execution_count": 4
        }
      ],
      "source": [
        "df1 = pd.read_csv(dataset)\n",
        "#df1.head()"
      ]
    },
    {
      "cell_type": "code",
      "execution_count": null,
      "metadata": {
        "colab": {
          "base_uri": "https://localhost:8080/"
        },
        "id": "VUjXWdkG2pWG",
        "outputId": "af4506d7-f140-44bf-a513-a3ab5090d14c"
      },
      "outputs": [
        {
          "output_type": "stream",
          "name": "stdout",
          "text": [
            "<class 'pandas.core.frame.DataFrame'>\n",
            "RangeIndex: 22000 entries, 0 to 21999\n",
            "Data columns (total 12 columns):\n",
            " #   Column                    Non-Null Count  Dtype \n",
            "---  ------                    --------------  ----- \n",
            " 0   advertiserurl             22000 non-null  object\n",
            " 1   company                   21950 non-null  object\n",
            " 2   employmenttype_jobstatus  21770 non-null  object\n",
            " 3   jobdescription            22000 non-null  object\n",
            " 4   jobid                     22000 non-null  object\n",
            " 5   joblocation_address       21997 non-null  object\n",
            " 6   jobtitle                  22000 non-null  object\n",
            " 7   postdate                  22000 non-null  object\n",
            " 8   shift                     21643 non-null  object\n",
            " 9   site_name                 3490 non-null   object\n",
            " 10  skills                    21957 non-null  object\n",
            " 11  uniq_id                   22000 non-null  object\n",
            "dtypes: object(12)\n",
            "memory usage: 2.0+ MB\n"
          ]
        }
      ],
      "source": [
        "#df1.info()"
      ]
    },
    {
      "cell_type": "code",
      "execution_count": 5,
      "metadata": {
        "id": "mI5m-8O22zlp"
      },
      "outputs": [],
      "source": [
        "df1=df1.dropna()"
      ]
    },
    {
      "cell_type": "code",
      "execution_count": null,
      "metadata": {
        "colab": {
          "base_uri": "https://localhost:8080/"
        },
        "id": "9A_cPBQs265a",
        "outputId": "707c4037-091b-4f2c-c75e-906f3210ff0d"
      },
      "outputs": [
        {
          "output_type": "stream",
          "name": "stdout",
          "text": [
            "<class 'pandas.core.frame.DataFrame'>\n",
            "Int64Index: 3417 entries, 96 to 18359\n",
            "Data columns (total 12 columns):\n",
            " #   Column                    Non-Null Count  Dtype \n",
            "---  ------                    --------------  ----- \n",
            " 0   advertiserurl             3417 non-null   object\n",
            " 1   company                   3417 non-null   object\n",
            " 2   employmenttype_jobstatus  3417 non-null   object\n",
            " 3   jobdescription            3417 non-null   object\n",
            " 4   jobid                     3417 non-null   object\n",
            " 5   joblocation_address       3417 non-null   object\n",
            " 6   jobtitle                  3417 non-null   object\n",
            " 7   postdate                  3417 non-null   object\n",
            " 8   shift                     3417 non-null   object\n",
            " 9   site_name                 3417 non-null   object\n",
            " 10  skills                    3417 non-null   object\n",
            " 11  uniq_id                   3417 non-null   object\n",
            "dtypes: object(12)\n",
            "memory usage: 347.0+ KB\n"
          ]
        }
      ],
      "source": [
        "#df1.info()"
      ]
    },
    {
      "cell_type": "code",
      "source": [
        "#df1.to_csv('filtered_data.csv', index=False)"
      ],
      "metadata": {
        "id": "om4SdiRHVukK"
      },
      "execution_count": null,
      "outputs": []
    },
    {
      "cell_type": "code",
      "execution_count": 7,
      "metadata": {
        "id": "J8TYdegMpZ45"
      },
      "outputs": [],
      "source": [
        "from sklearn.feature_extraction.text import TfidfVectorizer\n",
        "\n",
        "tdif = TfidfVectorizer(stop_words='english')\n",
        "df1['jobdescription'] = df1['jobdescription'].fillna('')"
      ]
    },
    {
      "cell_type": "code",
      "execution_count": null,
      "metadata": {
        "colab": {
          "base_uri": "https://localhost:8080/"
        },
        "id": "8Fp-1_1n3jNF",
        "outputId": "4e26cb86-e379-40a3-9467-3924b50b800e"
      },
      "outputs": [
        {
          "name": "stdout",
          "output_type": "stream",
          "text": [
            "<class 'pandas.core.frame.DataFrame'>\n",
            "Int64Index: 3417 entries, 96 to 18359\n",
            "Data columns (total 12 columns):\n",
            " #   Column                    Non-Null Count  Dtype \n",
            "---  ------                    --------------  ----- \n",
            " 0   advertiserurl             3417 non-null   object\n",
            " 1   company                   3417 non-null   object\n",
            " 2   employmenttype_jobstatus  3417 non-null   object\n",
            " 3   jobdescription            3417 non-null   object\n",
            " 4   jobid                     3417 non-null   object\n",
            " 5   joblocation_address       3417 non-null   object\n",
            " 6   jobtitle                  3417 non-null   object\n",
            " 7   postdate                  3417 non-null   object\n",
            " 8   shift                     3417 non-null   object\n",
            " 9   site_name                 3417 non-null   object\n",
            " 10  skills                    3417 non-null   object\n",
            " 11  uniq_id                   3417 non-null   object\n",
            "dtypes: object(12)\n",
            "memory usage: 347.0+ KB\n"
          ]
        }
      ],
      "source": [
        "#df1.info()"
      ]
    },
    {
      "cell_type": "code",
      "execution_count": 8,
      "metadata": {
        "id": "WfkZD4kv3lql"
      },
      "outputs": [],
      "source": [
        "tdif_matrix = tdif.fit_transform(df1['jobdescription'])"
      ]
    },
    {
      "cell_type": "code",
      "execution_count": null,
      "metadata": {
        "colab": {
          "base_uri": "https://localhost:8080/"
        },
        "id": "T4wGm5gr4In3",
        "outputId": "5197089b-d784-4e23-fa1c-26006b97d874"
      },
      "outputs": [
        {
          "data": {
            "text/plain": [
              "(3417, 34094)"
            ]
          },
          "execution_count": 18,
          "metadata": {},
          "output_type": "execute_result"
        }
      ],
      "source": [
        "#tdif_matrix.shape"
      ]
    },
    {
      "cell_type": "code",
      "execution_count": 11,
      "metadata": {
        "id": "R8gN_Svc4NIJ"
      },
      "outputs": [],
      "source": [
        "from sklearn.metrics.pairwise import linear_kernel\n",
        "\n",
        "cosine_sim = linear_kernel(tdif_matrix, tdif_matrix)\n",
        "indices = pd.Series(df1.index, index=df1['jobtitle']).drop_duplicates()"
      ]
    },
    {
      "cell_type": "code",
      "source": [
        "def get_recommendation(title, cosine_sim=cosine_sim):\n",
        "  idx = indices[title]\n",
        "  sim_scores = list(enumerate(cosine_sim[idx]))\n",
        "  sim_scores = sorted(sim_scores, key=lambda X:X[1], reverse=True)\n",
        "  sim_scores = sim_scores[1:16]\n",
        "  tech_indices = [i[0] for i in sim_scores]\n",
        "  return df1['jobtitle'].iloc[tech_indices]"
      ],
      "metadata": {
        "id": "1icZCsj2k0Bj"
      },
      "execution_count": 12,
      "outputs": []
    },
    {
      "cell_type": "code",
      "source": [
        "get_recommendation('Lead DevOps Engineer')"
      ],
      "metadata": {
        "colab": {
          "base_uri": "https://localhost:8080/"
        },
        "id": "2D2Znl_Ulwfl",
        "outputId": "342c3c08-8256-418c-f6fe-77171898f3f6"
      },
      "execution_count": 13,
      "outputs": [
        {
          "output_type": "execute_result",
          "data": {
            "text/plain": [
              "15365                                       Java Developer\n",
              "1248                                         Web Developer\n",
              "15721                                        PHP Developer\n",
              "856                                         Perl Architect\n",
              "2194        Java Automation Engineer with Selenium AND UFT\n",
              "514                                         Java developer\n",
              "15926    Top Secret (TS/SCI) Clearance - Senior PHP Dev...\n",
              "601                                         java developer\n",
              "1708                                Web Designer/Developer\n",
              "359      Senior Software Engineer - Growing Company & A...\n",
              "1893                                  Sr Angular Developer\n",
              "685                                      Software Engineer\n",
              "1931        PHP Developer - Urgent, Dallas - Laravel, Zend\n",
              "18319                           Java/J2EE PL-SQL Developer\n",
              "874        PHP/ Magento Developer - PHP/ Magento Developer\n",
              "Name: jobtitle, dtype: object"
            ]
          },
          "metadata": {},
          "execution_count": 13
        }
      ]
    },
    {
      "cell_type": "code",
      "source": [
        ""
      ],
      "metadata": {
        "id": "-XijzlCnl2Qo"
      },
      "execution_count": null,
      "outputs": []
    }
  ],
  "metadata": {
    "colab": {
      "name": "Job_description_for_training.ipynb",
      "provenance": []
    },
    "kernelspec": {
      "display_name": "Python 3",
      "name": "python3"
    },
    "language_info": {
      "name": "python"
    }
  },
  "nbformat": 4,
  "nbformat_minor": 0
}