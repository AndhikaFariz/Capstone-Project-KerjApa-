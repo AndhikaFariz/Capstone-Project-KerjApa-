{
  "nbformat": 4,
  "nbformat_minor": 0,
  "metadata": {
    "colab": {
      "name": "Resume_for_Training.ipynb",
      "provenance": [],
      "collapsed_sections": []
    },
    "kernelspec": {
      "name": "python3",
      "display_name": "Python 3"
    }
  },
  "cells": [
    {
      "cell_type": "code",
      "metadata": {
        "id": "poiUReSDo1r6",
        "colab": {
          "base_uri": "https://localhost:8080/"
        },
        "outputId": "e26faeef-ad29-4a59-f9e1-fdc5f58f9d49"
      },
      "source": [
        "# Install nltk\n",
        "!pip install --user -U nltk"
      ],
      "execution_count": null,
      "outputs": [
        {
          "output_type": "stream",
          "name": "stdout",
          "text": [
            "Looking in indexes: https://pypi.org/simple, https://us-python.pkg.dev/colab-wheels/public/simple/\n",
            "Requirement already satisfied: nltk in /usr/local/lib/python3.7/dist-packages (3.2.5)\n",
            "Collecting nltk\n",
            "  Downloading nltk-3.7-py3-none-any.whl (1.5 MB)\n",
            "\u001b[K     |████████████████████████████████| 1.5 MB 5.2 MB/s \n",
            "\u001b[?25hRequirement already satisfied: tqdm in /usr/local/lib/python3.7/dist-packages (from nltk) (4.64.0)\n",
            "Requirement already satisfied: joblib in /usr/local/lib/python3.7/dist-packages (from nltk) (1.1.0)\n",
            "Requirement already satisfied: click in /usr/local/lib/python3.7/dist-packages (from nltk) (7.1.2)\n",
            "Collecting regex>=2021.8.3\n",
            "  Downloading regex-2022.4.24-cp37-cp37m-manylinux_2_17_x86_64.manylinux2014_x86_64.whl (749 kB)\n",
            "\u001b[K     |████████████████████████████████| 749 kB 49.6 MB/s \n",
            "\u001b[?25hInstalling collected packages: regex, nltk\n",
            "\u001b[33m  WARNING: The script nltk is installed in '/root/.local/bin' which is not on PATH.\n",
            "  Consider adding this directory to PATH or, if you prefer to suppress this warning, use --no-warn-script-location.\u001b[0m\n",
            "Successfully installed nltk-3.7 regex-2022.4.24\n"
          ]
        }
      ]
    },
    {
      "cell_type": "code",
      "metadata": {
        "id": "vOUgXHY6pAIh",
        "colab": {
          "base_uri": "https://localhost:8080/"
        },
        "outputId": "175e0174-af60-4016-a679-accb869d1216"
      },
      "source": [
        "# Import all libraries\n",
        "import matplotlib.pyplot as plt\n",
        "import nltk\n",
        "from nltk.corpus import stopwords\n",
        "from nltk.tokenize import word_tokenize\n",
        "import numpy as np\n",
        "import pandas as pd\n",
        "import pickle\n",
        "import re\n",
        "import seaborn as sns\n",
        "from sklearn import metrics\n",
        "from sklearn.metrics import accuracy_score\n",
        "from sklearn.utils import shuffle\n",
        "import string\n",
        "import tensorflow as tf\n",
        "from tensorflow.keras.preprocessing.sequence import pad_sequences\n",
        "from tensorflow.keras.preprocessing.text import Tokenizer\n",
        "import warnings\n",
        "\n",
        "warnings.filterwarnings('ignore')\n",
        "np.set_printoptions(precision=4)\n",
        "\n",
        "nltk.download('stopwords')\n",
        "nltk.download('punkt')"
      ],
      "execution_count": null,
      "outputs": [
        {
          "output_type": "stream",
          "name": "stdout",
          "text": [
            "[nltk_data] Downloading package stopwords to /root/nltk_data...\n",
            "[nltk_data]   Unzipping corpora/stopwords.zip.\n",
            "[nltk_data] Downloading package punkt to /root/nltk_data...\n",
            "[nltk_data]   Unzipping tokenizers/punkt.zip.\n"
          ]
        },
        {
          "output_type": "execute_result",
          "data": {
            "text/plain": [
              "True"
            ]
          },
          "metadata": {},
          "execution_count": 2
        }
      ]
    },
    {
      "cell_type": "code",
      "source": [
        "from google.colab import drive\n",
        "drive.mount('/content/drive')"
      ],
      "metadata": {
        "colab": {
          "base_uri": "https://localhost:8080/"
        },
        "id": "AcQCPiDghHLg",
        "outputId": "653301d8-0a21-4665-eefe-1798e764cd26"
      },
      "execution_count": null,
      "outputs": [
        {
          "output_type": "stream",
          "name": "stdout",
          "text": [
            "Mounted at /content/drive\n"
          ]
        }
      ]
    },
    {
      "cell_type": "code",
      "source": [
        "dataset = 'drive/MyDrive/Bangkit 2022/Capstone Project/UpdatedResumeDataSet.csv'"
      ],
      "metadata": {
        "id": "IBRvHJhChpF2"
      },
      "execution_count": null,
      "outputs": []
    },
    {
      "cell_type": "code",
      "metadata": {
        "id": "raKtqeIDpBf0",
        "colab": {
          "base_uri": "https://localhost:8080/",
          "height": 206
        },
        "outputId": "c4b0faab-e6e2-4c72-f5c0-0b49ccbb9873"
      },
      "source": [
        "# Load dataset\n",
        "#data = pd.read_csv('/content/UpdatedResumeDataSet.csv', engine='python')\n",
        "data = pd.read_csv(dataset) # Comment this line and uncomment the above line if this does not work for you\n",
        "data.head()"
      ],
      "execution_count": null,
      "outputs": [
        {
          "output_type": "execute_result",
          "data": {
            "text/plain": [
              "       Category                                             Resume\n",
              "0  Data Science  Skills * Programming Languages: Python (pandas...\n",
              "1  Data Science  Education Details \\r\\nMay 2013 to May 2017 B.E...\n",
              "2  Data Science  Areas of Interest Deep Learning, Control Syste...\n",
              "3  Data Science  Skills â¢ R â¢ Python â¢ SAP HANA â¢ Table...\n",
              "4  Data Science  Education Details \\r\\n MCA   YMCAUST,  Faridab..."
            ],
            "text/html": [
              "\n",
              "  <div id=\"df-7265d877-75e6-4ff4-bc5e-68e51ab2c836\">\n",
              "    <div class=\"colab-df-container\">\n",
              "      <div>\n",
              "<style scoped>\n",
              "    .dataframe tbody tr th:only-of-type {\n",
              "        vertical-align: middle;\n",
              "    }\n",
              "\n",
              "    .dataframe tbody tr th {\n",
              "        vertical-align: top;\n",
              "    }\n",
              "\n",
              "    .dataframe thead th {\n",
              "        text-align: right;\n",
              "    }\n",
              "</style>\n",
              "<table border=\"1\" class=\"dataframe\">\n",
              "  <thead>\n",
              "    <tr style=\"text-align: right;\">\n",
              "      <th></th>\n",
              "      <th>Category</th>\n",
              "      <th>Resume</th>\n",
              "    </tr>\n",
              "  </thead>\n",
              "  <tbody>\n",
              "    <tr>\n",
              "      <th>0</th>\n",
              "      <td>Data Science</td>\n",
              "      <td>Skills * Programming Languages: Python (pandas...</td>\n",
              "    </tr>\n",
              "    <tr>\n",
              "      <th>1</th>\n",
              "      <td>Data Science</td>\n",
              "      <td>Education Details \\r\\nMay 2013 to May 2017 B.E...</td>\n",
              "    </tr>\n",
              "    <tr>\n",
              "      <th>2</th>\n",
              "      <td>Data Science</td>\n",
              "      <td>Areas of Interest Deep Learning, Control Syste...</td>\n",
              "    </tr>\n",
              "    <tr>\n",
              "      <th>3</th>\n",
              "      <td>Data Science</td>\n",
              "      <td>Skills â¢ R â¢ Python â¢ SAP HANA â¢ Table...</td>\n",
              "    </tr>\n",
              "    <tr>\n",
              "      <th>4</th>\n",
              "      <td>Data Science</td>\n",
              "      <td>Education Details \\r\\n MCA   YMCAUST,  Faridab...</td>\n",
              "    </tr>\n",
              "  </tbody>\n",
              "</table>\n",
              "</div>\n",
              "      <button class=\"colab-df-convert\" onclick=\"convertToInteractive('df-7265d877-75e6-4ff4-bc5e-68e51ab2c836')\"\n",
              "              title=\"Convert this dataframe to an interactive table.\"\n",
              "              style=\"display:none;\">\n",
              "        \n",
              "  <svg xmlns=\"http://www.w3.org/2000/svg\" height=\"24px\"viewBox=\"0 0 24 24\"\n",
              "       width=\"24px\">\n",
              "    <path d=\"M0 0h24v24H0V0z\" fill=\"none\"/>\n",
              "    <path d=\"M18.56 5.44l.94 2.06.94-2.06 2.06-.94-2.06-.94-.94-2.06-.94 2.06-2.06.94zm-11 1L8.5 8.5l.94-2.06 2.06-.94-2.06-.94L8.5 2.5l-.94 2.06-2.06.94zm10 10l.94 2.06.94-2.06 2.06-.94-2.06-.94-.94-2.06-.94 2.06-2.06.94z\"/><path d=\"M17.41 7.96l-1.37-1.37c-.4-.4-.92-.59-1.43-.59-.52 0-1.04.2-1.43.59L10.3 9.45l-7.72 7.72c-.78.78-.78 2.05 0 2.83L4 21.41c.39.39.9.59 1.41.59.51 0 1.02-.2 1.41-.59l7.78-7.78 2.81-2.81c.8-.78.8-2.07 0-2.86zM5.41 20L4 18.59l7.72-7.72 1.47 1.35L5.41 20z\"/>\n",
              "  </svg>\n",
              "      </button>\n",
              "      \n",
              "  <style>\n",
              "    .colab-df-container {\n",
              "      display:flex;\n",
              "      flex-wrap:wrap;\n",
              "      gap: 12px;\n",
              "    }\n",
              "\n",
              "    .colab-df-convert {\n",
              "      background-color: #E8F0FE;\n",
              "      border: none;\n",
              "      border-radius: 50%;\n",
              "      cursor: pointer;\n",
              "      display: none;\n",
              "      fill: #1967D2;\n",
              "      height: 32px;\n",
              "      padding: 0 0 0 0;\n",
              "      width: 32px;\n",
              "    }\n",
              "\n",
              "    .colab-df-convert:hover {\n",
              "      background-color: #E2EBFA;\n",
              "      box-shadow: 0px 1px 2px rgba(60, 64, 67, 0.3), 0px 1px 3px 1px rgba(60, 64, 67, 0.15);\n",
              "      fill: #174EA6;\n",
              "    }\n",
              "\n",
              "    [theme=dark] .colab-df-convert {\n",
              "      background-color: #3B4455;\n",
              "      fill: #D2E3FC;\n",
              "    }\n",
              "\n",
              "    [theme=dark] .colab-df-convert:hover {\n",
              "      background-color: #434B5C;\n",
              "      box-shadow: 0px 1px 3px 1px rgba(0, 0, 0, 0.15);\n",
              "      filter: drop-shadow(0px 1px 2px rgba(0, 0, 0, 0.3));\n",
              "      fill: #FFFFFF;\n",
              "    }\n",
              "  </style>\n",
              "\n",
              "      <script>\n",
              "        const buttonEl =\n",
              "          document.querySelector('#df-7265d877-75e6-4ff4-bc5e-68e51ab2c836 button.colab-df-convert');\n",
              "        buttonEl.style.display =\n",
              "          google.colab.kernel.accessAllowed ? 'block' : 'none';\n",
              "\n",
              "        async function convertToInteractive(key) {\n",
              "          const element = document.querySelector('#df-7265d877-75e6-4ff4-bc5e-68e51ab2c836');\n",
              "          const dataTable =\n",
              "            await google.colab.kernel.invokeFunction('convertToInteractive',\n",
              "                                                     [key], {});\n",
              "          if (!dataTable) return;\n",
              "\n",
              "          const docLinkHtml = 'Like what you see? Visit the ' +\n",
              "            '<a target=\"_blank\" href=https://colab.research.google.com/notebooks/data_table.ipynb>data table notebook</a>'\n",
              "            + ' to learn more about interactive tables.';\n",
              "          element.innerHTML = '';\n",
              "          dataTable['output_type'] = 'display_data';\n",
              "          await google.colab.output.renderOutput(dataTable, element);\n",
              "          const docLink = document.createElement('div');\n",
              "          docLink.innerHTML = docLinkHtml;\n",
              "          element.appendChild(docLink);\n",
              "        }\n",
              "      </script>\n",
              "    </div>\n",
              "  </div>\n",
              "  "
            ]
          },
          "metadata": {},
          "execution_count": 5
        }
      ]
    },
    {
      "cell_type": "code",
      "metadata": {
        "id": "lQWr0RJRpIQ9",
        "colab": {
          "base_uri": "https://localhost:8080/"
        },
        "outputId": "c24ff280-2fd9-4b11-a731-a70c48a41816"
      },
      "source": [
        "# Print unique categories of resumes\n",
        "print(data['Category'].value_counts())"
      ],
      "execution_count": null,
      "outputs": [
        {
          "output_type": "stream",
          "name": "stdout",
          "text": [
            "Java Developer               84\n",
            "Testing                      70\n",
            "DevOps Engineer              55\n",
            "Python Developer             48\n",
            "Web Designing                45\n",
            "HR                           44\n",
            "Hadoop                       42\n",
            "Blockchain                   40\n",
            "ETL Developer                40\n",
            "Operations Manager           40\n",
            "Data Science                 40\n",
            "Sales                        40\n",
            "Mechanical Engineer          40\n",
            "Arts                         36\n",
            "Database                     33\n",
            "Electrical Engineering       30\n",
            "Health and fitness           30\n",
            "PMO                          30\n",
            "Business Analyst             28\n",
            "DotNet Developer             28\n",
            "Automation Testing           26\n",
            "Network Security Engineer    25\n",
            "SAP Developer                24\n",
            "Civil Engineer               24\n",
            "Advocate                     20\n",
            "Name: Category, dtype: int64\n"
          ]
        }
      ]
    },
    {
      "cell_type": "code",
      "metadata": {
        "id": "4ml2WddhpNEl"
      },
      "source": [
        "# Drop rows where category is \"Testing\" and store new size of dataset\n",
        "data = data[data.Category != 'Testing']\n",
        "data_size = len(data)"
      ],
      "execution_count": null,
      "outputs": []
    },
    {
      "cell_type": "code",
      "source": [
        "#data.head()"
      ],
      "metadata": {
        "colab": {
          "base_uri": "https://localhost:8080/",
          "height": 206
        },
        "id": "auGvtzGciRGh",
        "outputId": "0dfb9d87-a746-4437-8613-9739264e1d3c"
      },
      "execution_count": null,
      "outputs": [
        {
          "output_type": "execute_result",
          "data": {
            "text/plain": [
              "       Category                                             Resume\n",
              "0  Data Science  Skills * Programming Languages: Python (pandas...\n",
              "1  Data Science  Education Details \\r\\nMay 2013 to May 2017 B.E...\n",
              "2  Data Science  Areas of Interest Deep Learning, Control Syste...\n",
              "3  Data Science  Skills â¢ R â¢ Python â¢ SAP HANA â¢ Table...\n",
              "4  Data Science  Education Details \\r\\n MCA   YMCAUST,  Faridab..."
            ],
            "text/html": [
              "\n",
              "  <div id=\"df-8ff2df6b-4fa6-4dc7-a4f2-6eef66724f10\">\n",
              "    <div class=\"colab-df-container\">\n",
              "      <div>\n",
              "<style scoped>\n",
              "    .dataframe tbody tr th:only-of-type {\n",
              "        vertical-align: middle;\n",
              "    }\n",
              "\n",
              "    .dataframe tbody tr th {\n",
              "        vertical-align: top;\n",
              "    }\n",
              "\n",
              "    .dataframe thead th {\n",
              "        text-align: right;\n",
              "    }\n",
              "</style>\n",
              "<table border=\"1\" class=\"dataframe\">\n",
              "  <thead>\n",
              "    <tr style=\"text-align: right;\">\n",
              "      <th></th>\n",
              "      <th>Category</th>\n",
              "      <th>Resume</th>\n",
              "    </tr>\n",
              "  </thead>\n",
              "  <tbody>\n",
              "    <tr>\n",
              "      <th>0</th>\n",
              "      <td>Data Science</td>\n",
              "      <td>Skills * Programming Languages: Python (pandas...</td>\n",
              "    </tr>\n",
              "    <tr>\n",
              "      <th>1</th>\n",
              "      <td>Data Science</td>\n",
              "      <td>Education Details \\r\\nMay 2013 to May 2017 B.E...</td>\n",
              "    </tr>\n",
              "    <tr>\n",
              "      <th>2</th>\n",
              "      <td>Data Science</td>\n",
              "      <td>Areas of Interest Deep Learning, Control Syste...</td>\n",
              "    </tr>\n",
              "    <tr>\n",
              "      <th>3</th>\n",
              "      <td>Data Science</td>\n",
              "      <td>Skills â¢ R â¢ Python â¢ SAP HANA â¢ Table...</td>\n",
              "    </tr>\n",
              "    <tr>\n",
              "      <th>4</th>\n",
              "      <td>Data Science</td>\n",
              "      <td>Education Details \\r\\n MCA   YMCAUST,  Faridab...</td>\n",
              "    </tr>\n",
              "  </tbody>\n",
              "</table>\n",
              "</div>\n",
              "      <button class=\"colab-df-convert\" onclick=\"convertToInteractive('df-8ff2df6b-4fa6-4dc7-a4f2-6eef66724f10')\"\n",
              "              title=\"Convert this dataframe to an interactive table.\"\n",
              "              style=\"display:none;\">\n",
              "        \n",
              "  <svg xmlns=\"http://www.w3.org/2000/svg\" height=\"24px\"viewBox=\"0 0 24 24\"\n",
              "       width=\"24px\">\n",
              "    <path d=\"M0 0h24v24H0V0z\" fill=\"none\"/>\n",
              "    <path d=\"M18.56 5.44l.94 2.06.94-2.06 2.06-.94-2.06-.94-.94-2.06-.94 2.06-2.06.94zm-11 1L8.5 8.5l.94-2.06 2.06-.94-2.06-.94L8.5 2.5l-.94 2.06-2.06.94zm10 10l.94 2.06.94-2.06 2.06-.94-2.06-.94-.94-2.06-.94 2.06-2.06.94z\"/><path d=\"M17.41 7.96l-1.37-1.37c-.4-.4-.92-.59-1.43-.59-.52 0-1.04.2-1.43.59L10.3 9.45l-7.72 7.72c-.78.78-.78 2.05 0 2.83L4 21.41c.39.39.9.59 1.41.59.51 0 1.02-.2 1.41-.59l7.78-7.78 2.81-2.81c.8-.78.8-2.07 0-2.86zM5.41 20L4 18.59l7.72-7.72 1.47 1.35L5.41 20z\"/>\n",
              "  </svg>\n",
              "      </button>\n",
              "      \n",
              "  <style>\n",
              "    .colab-df-container {\n",
              "      display:flex;\n",
              "      flex-wrap:wrap;\n",
              "      gap: 12px;\n",
              "    }\n",
              "\n",
              "    .colab-df-convert {\n",
              "      background-color: #E8F0FE;\n",
              "      border: none;\n",
              "      border-radius: 50%;\n",
              "      cursor: pointer;\n",
              "      display: none;\n",
              "      fill: #1967D2;\n",
              "      height: 32px;\n",
              "      padding: 0 0 0 0;\n",
              "      width: 32px;\n",
              "    }\n",
              "\n",
              "    .colab-df-convert:hover {\n",
              "      background-color: #E2EBFA;\n",
              "      box-shadow: 0px 1px 2px rgba(60, 64, 67, 0.3), 0px 1px 3px 1px rgba(60, 64, 67, 0.15);\n",
              "      fill: #174EA6;\n",
              "    }\n",
              "\n",
              "    [theme=dark] .colab-df-convert {\n",
              "      background-color: #3B4455;\n",
              "      fill: #D2E3FC;\n",
              "    }\n",
              "\n",
              "    [theme=dark] .colab-df-convert:hover {\n",
              "      background-color: #434B5C;\n",
              "      box-shadow: 0px 1px 3px 1px rgba(0, 0, 0, 0.15);\n",
              "      filter: drop-shadow(0px 1px 2px rgba(0, 0, 0, 0.3));\n",
              "      fill: #FFFFFF;\n",
              "    }\n",
              "  </style>\n",
              "\n",
              "      <script>\n",
              "        const buttonEl =\n",
              "          document.querySelector('#df-8ff2df6b-4fa6-4dc7-a4f2-6eef66724f10 button.colab-df-convert');\n",
              "        buttonEl.style.display =\n",
              "          google.colab.kernel.accessAllowed ? 'block' : 'none';\n",
              "\n",
              "        async function convertToInteractive(key) {\n",
              "          const element = document.querySelector('#df-8ff2df6b-4fa6-4dc7-a4f2-6eef66724f10');\n",
              "          const dataTable =\n",
              "            await google.colab.kernel.invokeFunction('convertToInteractive',\n",
              "                                                     [key], {});\n",
              "          if (!dataTable) return;\n",
              "\n",
              "          const docLinkHtml = 'Like what you see? Visit the ' +\n",
              "            '<a target=\"_blank\" href=https://colab.research.google.com/notebooks/data_table.ipynb>data table notebook</a>'\n",
              "            + ' to learn more about interactive tables.';\n",
              "          element.innerHTML = '';\n",
              "          dataTable['output_type'] = 'display_data';\n",
              "          await google.colab.output.renderOutput(dataTable, element);\n",
              "          const docLink = document.createElement('div');\n",
              "          docLink.innerHTML = docLinkHtml;\n",
              "          element.appendChild(docLink);\n",
              "        }\n",
              "      </script>\n",
              "    </div>\n",
              "  </div>\n",
              "  "
            ]
          },
          "metadata": {},
          "execution_count": 9
        }
      ]
    },
    {
      "cell_type": "code",
      "metadata": {
        "id": "MgLthsGHpN_6",
        "colab": {
          "base_uri": "https://localhost:8080/",
          "height": 844
        },
        "outputId": "c8d2a701-3441-4d25-f23c-b3f36520eae9"
      },
      "source": [
        "# Bar graph visualization\n",
        "plt.figure(figsize=(15,15))\n",
        "plt.xticks(rotation=90)\n",
        "sns.countplot(y=\"Category\", data=data)"
      ],
      "execution_count": null,
      "outputs": [
        {
          "output_type": "execute_result",
          "data": {
            "text/plain": [
              "<matplotlib.axes._subplots.AxesSubplot at 0x7f4cd6459850>"
            ]
          },
          "metadata": {},
          "execution_count": 8
        },
        {
          "output_type": "display_data",
          "data": {
            "text/plain": [
              "<Figure size 1080x1080 with 1 Axes>"
            ],
            "image/png": "[encoded data removed]"
          },
          "metadata": {
            "needs_background": "light"
          }
        }
      ]
    },
    {
      "cell_type": "code",
      "metadata": {
        "id": "xHxRTJ_QpS_o"
      },
      "source": [
        "# Get set of stopwords\n",
        "from nltk.corpus import stopwords\n",
        "stopwords_set = set(stopwords.words('english')+['``',\"''\"])"
      ],
      "execution_count": null,
      "outputs": []
    },
    {
      "cell_type": "code",
      "metadata": {
        "id": "81wWgOKYpU1-"
      },
      "source": [
        "# Function to clean resume text\n",
        "def clean_text(resume_text):\n",
        "    resume_text = re.sub('http\\S+\\s*', ' ', resume_text)  # remove URLs\n",
        "    resume_text = re.sub('RT|cc', ' ', resume_text)  # remove RT and cc\n",
        "    resume_text = re.sub('#\\S+', '', resume_text)  # remove hashtags\n",
        "    resume_text = re.sub('@\\S+', '  ', resume_text)  # remove mentions\n",
        "    resume_text = re.sub('[%s]' % re.escape(\"\"\"!\"#$%&'()*+,-./:;<=>?@\n",
        "    [\\]^_`{|}~\"\"\"), ' ', resume_text)  # remove punctuations\n",
        "    resume_text = re.sub(r'[^\\x00-\\x7f]',r' ', resume_text) \n",
        "    resume_text = re.sub('\\s+', ' ', resume_text)  # remove extra whitespace\n",
        "    resume_text = resume_text.lower()  # convert to lowercase\n",
        "    resume_text_tokens = word_tokenize(resume_text)  # tokenize\n",
        "    filtered_text = [w for w in resume_text_tokens if not w in stopwords_set]\n",
        "    # remove stopwords\n",
        "    return ' '.join(filtered_text)\n"
      ],
      "execution_count": null,
      "outputs": []
    },
    {
      "cell_type": "code",
      "metadata": {
        "id": "IKol74xcpWfR",
        "colab": {
          "base_uri": "https://localhost:8080/"
        },
        "outputId": "d0cd2dff-f108-4a74-df32-3f3084379b64"
      },
      "source": [
        "# Print a sample original resume\n",
        "print('--- Original resume ---')\n",
        "print(data['Resume'][0])"
      ],
      "execution_count": null,
      "outputs": [
        {
          "output_type": "stream",
          "name": "stdout",
          "text": [
            "--- Original resume ---\n",
            "Skills * Programming Languages: Python (pandas, numpy, scipy, scikit-learn, matplotlib), Sql, Java, JavaScript/JQuery. * Machine learning: Regression, SVM, NaÃ¯ve Bayes, KNN, Random Forest, Decision Trees, Boosting techniques, Cluster Analysis, Word Embedding, Sentiment Analysis, Natural Language processing, Dimensionality reduction, Topic Modelling (LDA, NMF), PCA & Neural Nets. * Database Visualizations: Mysql, SqlServer, Cassandra, Hbase, ElasticSearch D3.js, DC.js, Plotly, kibana, matplotlib, ggplot, Tableau. * Others: Regular Expression, HTML, CSS, Angular 6, Logstash, Kafka, Python Flask, Git, Docker, computer vision - Open CV and understanding of Deep learning.Education Details \r\n",
            "\r\n",
            "Data Science Assurance Associate \r\n",
            "\r\n",
            "Data Science Assurance Associate - Ernst & Young LLP\r\n",
            "Skill Details \r\n",
            "JAVASCRIPT- Exprience - 24 months\r\n",
            "jQuery- Exprience - 24 months\r\n",
            "Python- Exprience - 24 monthsCompany Details \r\n",
            "company - Ernst & Young LLP\r\n",
            "description - Fraud Investigations and Dispute Services   Assurance\r\n",
            "TECHNOLOGY ASSISTED REVIEW\r\n",
            "TAR (Technology Assisted Review) assists in accelerating the review process and run analytics and generate reports.\r\n",
            "* Core member of a team helped in developing automated review platform tool from scratch for assisting E discovery domain, this tool implements predictive coding and topic modelling by automating reviews, resulting in reduced labor costs and time spent during the lawyers review.\r\n",
            "* Understand the end to end flow of the solution, doing research and development for classification models, predictive analysis and mining of the information present in text data. Worked on analyzing the outputs and precision monitoring for the entire tool.\r\n",
            "* TAR assists in predictive coding, topic modelling from the evidence by following EY standards. Developed the classifier models in order to identify \"red flags\" and fraud-related issues.\r\n",
            "\r\n",
            "Tools & Technologies: Python, scikit-learn, tfidf, word2vec, doc2vec, cosine similarity, NaÃ¯ve Bayes, LDA, NMF for topic modelling, Vader and text blob for sentiment analysis. Matplot lib, Tableau dashboard for reporting.\r\n",
            "\r\n",
            "MULTIPLE DATA SCIENCE AND ANALYTIC PROJECTS (USA CLIENTS)\r\n",
            "TEXT ANALYTICS - MOTOR VEHICLE CUSTOMER REVIEW DATA * Received customer feedback survey data for past one year. Performed sentiment (Positive, Negative & Neutral) and time series analysis on customer comments across all 4 categories.\r\n",
            "* Created heat map of terms by survey category based on frequency of words * Extracted Positive and Negative words across all the Survey categories and plotted Word cloud.\r\n",
            "* Created customized tableau dashboards for effective reporting and visualizations.\r\n",
            "CHATBOT * Developed a user friendly chatbot for one of our Products which handle simple questions about hours of operation, reservation options and so on.\r\n",
            "* This chat bot serves entire product related questions. Giving overview of tool via QA platform and also give recommendation responses so that user question to build chain of relevant answer.\r\n",
            "* This too has intelligence to build the pipeline of questions as per user requirement and asks the relevant /recommended questions.\r\n",
            "\r\n",
            "Tools & Technologies: Python, Natural language processing, NLTK, spacy, topic modelling, Sentiment analysis, Word Embedding, scikit-learn, JavaScript/JQuery, SqlServer\r\n",
            "\r\n",
            "INFORMATION GOVERNANCE\r\n",
            "Organizations to make informed decisions about all of the information they store. The integrated Information Governance portfolio synthesizes intelligence across unstructured data sources and facilitates action to ensure organizations are best positioned to counter information risk.\r\n",
            "* Scan data from multiple sources of formats and parse different file formats, extract Meta data information, push results for indexing elastic search and created customized, interactive dashboards using kibana.\r\n",
            "* Preforming ROT Analysis on the data which give information of data which helps identify content that is either Redundant, Outdated, or Trivial.\r\n",
            "* Preforming full-text search analysis on elastic search with predefined methods which can tag as (PII) personally identifiable information (social security numbers, addresses, names, etc.) which frequently targeted during cyber-attacks.\r\n",
            "Tools & Technologies: Python, Flask, Elastic Search, Kibana\r\n",
            "\r\n",
            "FRAUD ANALYTIC PLATFORM\r\n",
            "Fraud Analytics and investigative platform to review all red flag cases.\r\n",
            "â¢ FAP is a Fraud Analytics and investigative platform with inbuilt case manager and suite of Analytics for various ERP systems.\r\n",
            "* It can be used by clients to interrogate their Accounting systems for identifying the anomalies which can be indicators of fraud by running advanced analytics\r\n",
            "Tools & Technologies: HTML, JavaScript, SqlServer, JQuery, CSS, Bootstrap, Node.js, D3.js, DC.js\n"
          ]
        }
      ]
    },
    {
      "cell_type": "code",
      "metadata": {
        "id": "ixmhpVkfpYH8",
        "colab": {
          "base_uri": "https://localhost:8080/"
        },
        "outputId": "1ddd4e3e-0c18-43ad-8c93-9a54744125a4"
      },
      "source": [
        "# Clean the resume\n",
        "data['cleaned_resume'] = data.Resume.apply(lambda x: clean_text(x))\n",
        "\n",
        "print('--- Cleaned resume ---')\n",
        "print(data['cleaned_resume'][0])"
      ],
      "execution_count": null,
      "outputs": [
        {
          "output_type": "stream",
          "name": "stdout",
          "text": [
            "--- Cleaned resume ---\n",
            "skills programming languages python pandas numpy scipy scikit learn matplotlib sql java javascript jquery machine learning regression svm na bayes knn random forest decision trees boosting techniques cluster analysis word embedding sentiment analysis natural language processing dimensionality reduction topic modelling lda nmf pca neural nets database visualizations mysql sqlserver cassandra hbase elasticsearch d3 js dc js plotly kibana matplotlib ggplot tableau others regular expression html css angular 6 logstash kafka python flask git docker computer vision open cv understanding deep learning education details data science assurance associate data science assurance associate ernst young llp skill details javascript exprience 24 months jquery exprience 24 months python exprience 24 monthscompany details company ernst young llp description fraud investigations dispute services assurance technology assisted review tar technology assisted review assists elerating review process run analytics generate reports core member team helped developing automated review platform tool scratch assisting e discovery domain tool implements predictive coding topic modelling automating reviews resulting reduced labor costs time spent lawyers review understand end end flow solution research development classification models predictive analysis mining information present text data worked analyzing outputs precision monitoring entire tool tar assists predictive coding topic modelling evidence following ey standards developed classifier models order identify red flags fraud related issues tools technologies python scikit learn tfidf word2vec doc2vec cosine similarity na bayes lda nmf topic modelling vader text blob sentiment analysis matplot lib tableau dashboard reporting multiple data science analytic projects usa clients text analytics motor vehicle customer review data received customer feedback survey data past one year performed sentiment positive negative neutral time series analysis customer comments across 4 categories created heat map terms survey category based frequency words extracted positive negative words across survey categories plotted word cloud created customized tableau dashboards effective reporting visualizations chatbot developed user friendly chatbot one products handle simple questions hours operation reservation options chat bot serves entire product related questions giving overview tool via qa platform also give recommendation responses user question build chain relevant answer intelligence build pipeline questions per user requirement asks relevant recommended questions tools technologies python natural language processing nltk spacy topic modelling sentiment analysis word embedding scikit learn javascript jquery sqlserver information governance organizations make informed decisions information store integrated information governance portfolio synthesizes intelligence across unstructured data sources facilitates action ensure organizations best positioned counter information risk scan data multiple sources formats parse different file formats extract meta data information push results indexing elastic search created customized interactive dashboards using kibana preforming rot analysis data give information data helps identify content either redundant outdated trivial preforming full text search analysis elastic search predefined methods tag pii personally identifiable information social security numbers addresses names etc frequently targeted cyber attacks tools technologies python flask elastic search kibana fraud analytic platform fraud analytics investigative platform review red flag cases fap fraud analytics investigative platform inbuilt case manager suite analytics various erp systems used clients interrogate ounting systems identifying anomalies indicators fraud running advanced analytics tools technologies html javascript sqlserver jquery css bootstrap node js d3 js dc js\n"
          ]
        }
      ]
    },
    {
      "cell_type": "code",
      "metadata": {
        "id": "OcxDvdYoparS",
        "colab": {
          "base_uri": "https://localhost:8080/"
        },
        "outputId": "10061d6d-8f84-4c84-c8b3-816c19abcbe8"
      },
      "source": [
        "# Get features and labels from data and shuffle\n",
        "features = data['cleaned_resume'].values\n",
        "#print(features)\n",
        "original_labels = data['Category'].values\n",
        "#print(original_labels)\n",
        "labels = original_labels[:]\n",
        "#print(labels)\n",
        "\n",
        "for i in range(data_size):\n",
        "  labels[i] = str(labels[i].lower())  # convert to lowercase\n",
        "  labels[i] = labels[i].replace(\" \", \"\")  # use hyphens to convert multi-token labels into single tokens\n",
        "#print(labels)\n",
        "\n",
        "import random\n",
        "random.seed(20)\n",
        "features, labels = shuffle(features, labels, random_state=20)\n",
        "\n",
        "# Print example feature and label\n",
        "print(features[0])\n",
        "print(labels[0])"
      ],
      "execution_count": null,
      "outputs": [
        {
          "output_type": "stream",
          "name": "stdout",
          "text": [
            "education details august 2010 may 2017 electronics communication jabalpur madhya pradesh takshshila institute technology java developer skill details java javascript exprience 6 monthscompany details company wab softwere pvt ltd description jr java developer\n",
            "javadeveloper\n"
          ]
        }
      ]
    },
    {
      "cell_type": "code",
      "source": [
        "#print(labels)"
      ],
      "metadata": {
        "colab": {
          "base_uri": "https://localhost:8080/"
        },
        "id": "BWOoAtamm7X0",
        "outputId": "14e92849-e1a9-462a-c2f9-805322960301"
      },
      "execution_count": null,
      "outputs": [
        {
          "output_type": "stream",
          "name": "stdout",
          "text": [
            "['javadeveloper' 'networksecurityengineer' 'etldeveloper'\n",
            " 'dotnetdeveloper' 'hr' 'hr' 'hadoop' 'pythondeveloper' 'javadeveloper'\n",
            " 'blockchain' 'automationtesting' 'webdesigning' 'javadeveloper'\n",
            " 'advocate' 'civilengineer' 'javadeveloper' 'database' 'businessanalyst'\n",
            " 'electricalengineering' 'javadeveloper' 'hr' 'devopsengineer'\n",
            " 'automationtesting' 'operationsmanager' 'sapdeveloper' 'healthandfitness'\n",
            " 'dotnetdeveloper' 'webdesigning' 'datascience' 'javadeveloper'\n",
            " 'javadeveloper' 'devopsengineer' 'arts' 'database' 'sapdeveloper'\n",
            " 'blockchain' 'datascience' 'sapdeveloper' 'mechanicalengineer' 'hadoop'\n",
            " 'datascience' 'hadoop' 'mechanicalengineer' 'javadeveloper'\n",
            " 'dotnetdeveloper' 'webdesigning' 'businessanalyst' 'pythondeveloper'\n",
            " 'civilengineer' 'javadeveloper' 'sales' 'devopsengineer' 'javadeveloper'\n",
            " 'mechanicalengineer' 'pythondeveloper' 'electricalengineering'\n",
            " 'pythondeveloper' 'javadeveloper' 'pmo' 'electricalengineering'\n",
            " 'pythondeveloper' 'mechanicalengineer' 'arts' 'pythondeveloper'\n",
            " 'javadeveloper' 'civilengineer' 'datascience' 'dotnetdeveloper'\n",
            " 'operationsmanager' 'hadoop' 'javadeveloper' 'networksecurityengineer'\n",
            " 'businessanalyst' 'mechanicalengineer' 'sapdeveloper' 'civilengineer'\n",
            " 'mechanicalengineer' 'webdesigning' 'datascience' 'blockchain' 'advocate'\n",
            " 'blockchain' 'networksecurityengineer' 'healthandfitness' 'etldeveloper'\n",
            " 'datascience' 'datascience' 'hadoop' 'hr' 'javadeveloper' 'webdesigning'\n",
            " 'datascience' 'mechanicalengineer' 'webdesigning' 'hadoop' 'arts'\n",
            " 'electricalengineering' 'devopsengineer' 'hr' 'civilengineer'\n",
            " 'javadeveloper' 'javadeveloper' 'datascience' 'electricalengineering'\n",
            " 'advocate' 'devopsengineer' 'devopsengineer' 'operationsmanager'\n",
            " 'database' 'mechanicalengineer' 'datascience' 'hadoop' 'blockchain'\n",
            " 'arts' 'blockchain' 'javadeveloper' 'operationsmanager' 'pythondeveloper'\n",
            " 'database' 'electricalengineering' 'javadeveloper'\n",
            " 'electricalengineering' 'sapdeveloper' 'javadeveloper' 'javadeveloper'\n",
            " 'devopsengineer' 'javadeveloper' 'arts' 'database' 'database'\n",
            " 'sapdeveloper' 'hadoop' 'javadeveloper' 'hr' 'sales'\n",
            " 'electricalengineering' 'webdesigning' 'javadeveloper' 'etldeveloper'\n",
            " 'operationsmanager' 'operationsmanager' 'etldeveloper' 'healthandfitness'\n",
            " 'pythondeveloper' 'operationsmanager' 'dotnetdeveloper' 'database'\n",
            " 'operationsmanager' 'webdesigning' 'automationtesting' 'javadeveloper'\n",
            " 'javadeveloper' 'database' 'mechanicalengineer' 'javadeveloper' 'hadoop'\n",
            " 'javadeveloper' 'hadoop' 'javadeveloper' 'arts' 'pmo' 'javadeveloper'\n",
            " 'datascience' 'civilengineer' 'mechanicalengineer' 'webdesigning'\n",
            " 'database' 'automationtesting' 'advocate' 'javadeveloper'\n",
            " 'devopsengineer' 'devopsengineer' 'blockchain' 'businessanalyst' 'pmo'\n",
            " 'businessanalyst' 'sapdeveloper' 'pythondeveloper'\n",
            " 'electricalengineering' 'etldeveloper' 'datascience' 'hr' 'arts'\n",
            " 'devopsengineer' 'operationsmanager' 'healthandfitness'\n",
            " 'networksecurityengineer' 'pythondeveloper' 'operationsmanager'\n",
            " 'electricalengineering' 'devopsengineer' 'hr' 'datascience' 'blockchain'\n",
            " 'javadeveloper' 'hadoop' 'sapdeveloper' 'automationtesting' 'sales'\n",
            " 'electricalengineering' 'datascience' 'blockchain' 'mechanicalengineer'\n",
            " 'pythondeveloper' 'blockchain' 'pmo' 'sales' 'dotnetdeveloper'\n",
            " 'mechanicalengineer' 'webdesigning' 'networksecurityengineer' 'hr'\n",
            " 'webdesigning' 'businessanalyst' 'dotnetdeveloper' 'arts'\n",
            " 'healthandfitness' 'hr' 'webdesigning' 'hadoop' 'healthandfitness'\n",
            " 'etldeveloper' 'pythondeveloper' 'datascience' 'sales' 'blockchain'\n",
            " 'blockchain' 'mechanicalengineer' 'javadeveloper' 'electricalengineering'\n",
            " 'electricalengineering' 'electricalengineering' 'pmo' 'arts' 'hr'\n",
            " 'networksecurityengineer' 'devopsengineer' 'businessanalyst'\n",
            " 'pythondeveloper' 'webdesigning' 'mechanicalengineer' 'sales'\n",
            " 'healthandfitness' 'devopsengineer' 'sales' 'operationsmanager'\n",
            " 'pythondeveloper' 'businessanalyst' 'advocate' 'hr' 'businessanalyst'\n",
            " 'networksecurityengineer' 'datascience' 'database' 'operationsmanager'\n",
            " 'sales' 'sales' 'civilengineer' 'hr' 'pythondeveloper' 'businessanalyst'\n",
            " 'hr' 'electricalengineering' 'mechanicalengineer' 'operationsmanager'\n",
            " 'devopsengineer' 'operationsmanager' 'etldeveloper' 'hadoop' 'advocate'\n",
            " 'arts' 'etldeveloper' 'devopsengineer' 'healthandfitness' 'sapdeveloper'\n",
            " 'electricalengineering' 'database' 'database' 'electricalengineering'\n",
            " 'blockchain' 'webdesigning' 'pmo' 'healthandfitness' 'etldeveloper'\n",
            " 'civilengineer' 'businessanalyst' 'datascience' 'pythondeveloper'\n",
            " 'dotnetdeveloper' 'civilengineer' 'networksecurityengineer' 'blockchain'\n",
            " 'sales' 'sales' 'arts' 'etldeveloper' 'pmo' 'webdesigning'\n",
            " 'dotnetdeveloper' 'javadeveloper' 'datascience' 'dotnetdeveloper' 'hr'\n",
            " 'blockchain' 'operationsmanager' 'operationsmanager' 'devopsengineer'\n",
            " 'etldeveloper' 'hr' 'etldeveloper' 'pmo' 'sales' 'javadeveloper'\n",
            " 'automationtesting' 'operationsmanager' 'networksecurityengineer'\n",
            " 'etldeveloper' 'pmo' 'javadeveloper' 'civilengineer' 'datascience'\n",
            " 'civilengineer' 'automationtesting' 'datascience' 'devopsengineer'\n",
            " 'javadeveloper' 'civilengineer' 'hr' 'sapdeveloper' 'pmo'\n",
            " 'healthandfitness' 'datascience' 'businessanalyst'\n",
            " 'electricalengineering' 'networksecurityengineer' 'automationtesting'\n",
            " 'civilengineer' 'devopsengineer' 'healthandfitness' 'healthandfitness'\n",
            " 'devopsengineer' 'javadeveloper' 'javadeveloper' 'devopsengineer'\n",
            " 'etldeveloper' 'arts' 'automationtesting' 'sapdeveloper'\n",
            " 'networksecurityengineer' 'sapdeveloper' 'hadoop' 'pmo' 'advocate'\n",
            " 'healthandfitness' 'datascience' 'civilengineer' 'devopsengineer'\n",
            " 'operationsmanager' 'database' 'electricalengineering' 'pythondeveloper'\n",
            " 'webdesigning' 'hadoop' 'webdesigning' 'sapdeveloper' 'sales'\n",
            " 'sapdeveloper' 'datascience' 'advocate' 'networksecurityengineer'\n",
            " 'pythondeveloper' 'hr' 'businessanalyst' 'pmo' 'javadeveloper'\n",
            " 'javadeveloper' 'mechanicalengineer' 'operationsmanager' 'javadeveloper'\n",
            " 'blockchain' 'pythondeveloper' 'advocate' 'database' 'datascience'\n",
            " 'pythondeveloper' 'javadeveloper' 'operationsmanager' 'pmo' 'database'\n",
            " 'networksecurityengineer' 'electricalengineering' 'hr' 'blockchain'\n",
            " 'devopsengineer' 'etldeveloper' 'webdesigning' 'database'\n",
            " 'mechanicalengineer' 'mechanicalengineer' 'operationsmanager' 'advocate'\n",
            " 'webdesigning' 'datascience' 'automationtesting' 'pythondeveloper' 'arts'\n",
            " 'etldeveloper' 'dotnetdeveloper' 'devopsengineer' 'sales' 'javadeveloper'\n",
            " 'database' 'database' 'datascience' 'webdesigning' 'automationtesting'\n",
            " 'arts' 'pmo' 'arts' 'hr' 'etldeveloper' 'datascience' 'hadoop' 'hadoop'\n",
            " 'etldeveloper' 'operationsmanager' 'hadoop' 'database' 'blockchain'\n",
            " 'operationsmanager' 'javadeveloper' 'blockchain' 'etldeveloper'\n",
            " 'civilengineer' 'sapdeveloper' 'sales' 'hr' 'businessanalyst' 'advocate'\n",
            " 'sapdeveloper' 'hadoop' 'javadeveloper' 'arts' 'dotnetdeveloper' 'sales'\n",
            " 'pythondeveloper' 'javadeveloper' 'dotnetdeveloper' 'healthandfitness'\n",
            " 'devopsengineer' 'javadeveloper' 'devopsengineer' 'pythondeveloper'\n",
            " 'blockchain' 'civilengineer' 'database' 'javadeveloper' 'javadeveloper'\n",
            " 'networksecurityengineer' 'sales' 'pythondeveloper' 'operationsmanager'\n",
            " 'etldeveloper' 'blockchain' 'etldeveloper' 'pmo' 'operationsmanager'\n",
            " 'pythondeveloper' 'civilengineer' 'hr' 'pythondeveloper' 'datascience'\n",
            " 'webdesigning' 'javadeveloper' 'devopsengineer' 'hr'\n",
            " 'networksecurityengineer' 'healthandfitness' 'javadeveloper'\n",
            " 'mechanicalengineer' 'sapdeveloper' 'database' 'javadeveloper' 'hadoop'\n",
            " 'civilengineer' 'sales' 'javadeveloper' 'arts' 'datascience' 'arts'\n",
            " 'devopsengineer' 'hr' 'arts' 'hadoop' 'advocate' 'pmo' 'pmo'\n",
            " 'operationsmanager' 'blockchain' 'devopsengineer' 'automationtesting'\n",
            " 'javadeveloper' 'sapdeveloper' 'electricalengineering' 'devopsengineer'\n",
            " 'javadeveloper' 'mechanicalengineer' 'sapdeveloper' 'blockchain'\n",
            " 'pythondeveloper' 'pythondeveloper' 'datascience' 'webdesigning'\n",
            " 'devopsengineer' 'automationtesting' 'hadoop' 'pmo' 'devopsengineer'\n",
            " 'automationtesting' 'javadeveloper' 'blockchain' 'database'\n",
            " 'dotnetdeveloper' 'webdesigning' 'blockchain' 'operationsmanager'\n",
            " 'datascience' 'businessanalyst' 'arts' 'hr' 'javadeveloper'\n",
            " 'pythondeveloper' 'networksecurityengineer' 'etldeveloper'\n",
            " 'dotnetdeveloper' 'mechanicalengineer' 'arts' 'pmo' 'hadoop'\n",
            " 'operationsmanager' 'pmo' 'pythondeveloper' 'dotnetdeveloper'\n",
            " 'electricalengineering' 'advocate' 'hadoop' 'automationtesting' 'sales'\n",
            " 'blockchain' 'sales' 'hr' 'operationsmanager' 'pythondeveloper'\n",
            " 'database' 'civilengineer' 'devopsengineer' 'dotnetdeveloper' 'advocate'\n",
            " 'mechanicalengineer' 'devopsengineer' 'sales' 'pmo' 'etldeveloper'\n",
            " 'businessanalyst' 'devopsengineer' 'blockchain' 'webdesigning'\n",
            " 'civilengineer' 'blockchain' 'dotnetdeveloper' 'datascience' 'sales'\n",
            " 'businessanalyst' 'pythondeveloper' 'devopsengineer' 'dotnetdeveloper'\n",
            " 'pmo' 'javadeveloper' 'healthandfitness' 'electricalengineering'\n",
            " 'networksecurityengineer' 'hr' 'webdesigning' 'pythondeveloper'\n",
            " 'devopsengineer' 'businessanalyst' 'sales' 'etldeveloper'\n",
            " 'networksecurityengineer' 'electricalengineering' 'database'\n",
            " 'pythondeveloper' 'hr' 'automationtesting' 'javadeveloper'\n",
            " 'devopsengineer' 'dotnetdeveloper' 'pythondeveloper' 'database'\n",
            " 'webdesigning' 'devopsengineer' 'blockchain' 'sapdeveloper'\n",
            " 'healthandfitness' 'arts' 'arts' 'blockchain' 'electricalengineering'\n",
            " 'arts' 'mechanicalengineer' 'sales' 'dotnetdeveloper'\n",
            " 'mechanicalengineer' 'hadoop' 'civilengineer' 'arts' 'javadeveloper'\n",
            " 'devopsengineer' 'networksecurityengineer' 'javadeveloper'\n",
            " 'javadeveloper' 'operationsmanager' 'webdesigning' 'javadeveloper'\n",
            " 'operationsmanager' 'sales' 'javadeveloper' 'sapdeveloper' 'etldeveloper'\n",
            " 'businessanalyst' 'devopsengineer' 'webdesigning' 'sales' 'javadeveloper'\n",
            " 'automationtesting' 'etldeveloper' 'devopsengineer' 'advocate'\n",
            " 'devopsengineer' 'dotnetdeveloper' 'hr' 'webdesigning'\n",
            " 'automationtesting' 'datascience' 'businessanalyst' 'datascience' 'arts'\n",
            " 'datascience' 'datascience' 'civilengineer' 'hr' 'hr' 'etldeveloper'\n",
            " 'advocate' 'networksecurityengineer' 'hr' 'sales' 'devopsengineer'\n",
            " 'businessanalyst' 'datascience' 'arts' 'civilengineer' 'javadeveloper'\n",
            " 'javadeveloper' 'sales' 'arts' 'dotnetdeveloper' 'mechanicalengineer'\n",
            " 'etldeveloper' 'arts' 'businessanalyst' 'database' 'hadoop'\n",
            " 'operationsmanager' 'pmo' 'businessanalyst' 'automationtesting'\n",
            " 'civilengineer' 'pythondeveloper' 'javadeveloper' 'mechanicalengineer'\n",
            " 'healthandfitness' 'hr' 'hr' 'hadoop' 'javadeveloper' 'healthandfitness'\n",
            " 'pythondeveloper' 'webdesigning' 'arts' 'arts' 'pythondeveloper' 'pmo'\n",
            " 'mechanicalengineer' 'webdesigning' 'javadeveloper' 'arts' 'webdesigning'\n",
            " 'hadoop' 'mechanicalengineer' 'dotnetdeveloper' 'arts' 'datascience'\n",
            " 'database' 'businessanalyst' 'webdesigning' 'hr' 'database'\n",
            " 'javadeveloper' 'devopsengineer' 'healthandfitness' 'sales' 'advocate'\n",
            " 'javadeveloper' 'datascience' 'devopsengineer' 'devopsengineer' 'hr'\n",
            " 'mechanicalengineer' 'sales' 'pythondeveloper' 'pythondeveloper'\n",
            " 'database' 'webdesigning' 'hr' 'electricalengineering' 'database'\n",
            " 'automationtesting' 'javadeveloper' 'pmo' 'hadoop' 'javadeveloper'\n",
            " 'advocate' 'pmo' 'dotnetdeveloper' 'webdesigning' 'javadeveloper'\n",
            " 'automationtesting' 'healthandfitness' 'hadoop' 'javadeveloper'\n",
            " 'webdesigning' 'blockchain' 'healthandfitness' 'networksecurityengineer'\n",
            " 'hr' 'operationsmanager' 'advocate' 'mechanicalengineer' 'javadeveloper'\n",
            " 'devopsengineer' 'webdesigning' 'devopsengineer' 'healthandfitness'\n",
            " 'mechanicalengineer' 'javadeveloper' 'networksecurityengineer'\n",
            " 'mechanicalengineer' 'sales' 'devopsengineer' 'hr' 'webdesigning' 'sales'\n",
            " 'hadoop' 'advocate' 'blockchain' 'etldeveloper' 'pythondeveloper'\n",
            " 'pythondeveloper' 'electricalengineering' 'hadoop' 'blockchain' 'sales'\n",
            " 'devopsengineer' 'javadeveloper' 'pmo' 'webdesigning' 'javadeveloper'\n",
            " 'sapdeveloper' 'webdesigning' 'webdesigning' 'etldeveloper' 'sales'\n",
            " 'mechanicalengineer' 'hadoop' 'etldeveloper' 'electricalengineering'\n",
            " 'networksecurityengineer' 'mechanicalengineer' 'pythondeveloper'\n",
            " 'automationtesting' 'mechanicalengineer' 'pythondeveloper'\n",
            " 'networksecurityengineer' 'mechanicalengineer' 'hadoop'\n",
            " 'healthandfitness' 'blockchain' 'sapdeveloper' 'database' 'blockchain'\n",
            " 'sales' 'etldeveloper' 'webdesigning' 'hadoop' 'devopsengineer'\n",
            " 'etldeveloper' 'webdesigning' 'devopsengineer' 'arts' 'etldeveloper' 'hr'\n",
            " 'etldeveloper' 'healthandfitness' 'devopsengineer' 'database'\n",
            " 'businessanalyst' 'sales' 'arts' 'javadeveloper' 'hr' 'operationsmanager'\n",
            " 'sales' 'sales' 'operationsmanager' 'operationsmanager'\n",
            " 'networksecurityengineer' 'operationsmanager' 'pmo' 'pythondeveloper'\n",
            " 'operationsmanager' 'hr' 'automationtesting' 'healthandfitness'\n",
            " 'etldeveloper' 'pmo' 'operationsmanager' 'businessanalyst'\n",
            " 'businessanalyst' 'blockchain' 'pythondeveloper' 'pmo' 'hr'\n",
            " 'etldeveloper' 'blockchain' 'hr' 'hadoop' 'javadeveloper'\n",
            " 'electricalengineering' 'sales' 'healthandfitness' 'blockchain' 'hadoop'\n",
            " 'hadoop' 'healthandfitness' 'automationtesting' 'sapdeveloper'\n",
            " 'dotnetdeveloper' 'dotnetdeveloper' 'mechanicalengineer' 'database'\n",
            " 'operationsmanager' 'devopsengineer' 'healthandfitness' 'datascience'\n",
            " 'sales' 'electricalengineering' 'hadoop' 'devopsengineer' 'webdesigning'\n",
            " 'mechanicalengineer' 'blockchain' 'hadoop' 'hadoop' 'etldeveloper'\n",
            " 'hadoop' 'etldeveloper' 'blockchain' 'automationtesting'\n",
            " 'pythondeveloper' 'arts' 'webdesigning' 'pythondeveloper' 'etldeveloper'\n",
            " 'dotnetdeveloper' 'businessanalyst' 'javadeveloper' 'mechanicalengineer'\n",
            " 'mechanicalengineer' 'healthandfitness' 'automationtesting'\n",
            " 'javadeveloper']\n"
          ]
        }
      ]
    },
    {
      "cell_type": "code",
      "metadata": {
        "id": "ymbM9wkVpe7l",
        "colab": {
          "base_uri": "https://localhost:8080/"
        },
        "outputId": "3bd8d3a8-c528-4287-99ee-d566a0ebdd9b"
      },
      "source": [
        "# Split for train and test\n",
        "train_split = 0.8\n",
        "train_size = int(train_split * data_size)\n",
        "\n",
        "train_features = features[:train_size]\n",
        "train_labels = labels[:train_size]\n",
        "\n",
        "test_features = features[train_size:]\n",
        "test_labels = labels[train_size:]\n",
        "\n",
        "# Print size of each split\n",
        "print(len(train_labels))\n",
        "print(len(test_labels))"
      ],
      "execution_count": null,
      "outputs": [
        {
          "output_type": "stream",
          "name": "stdout",
          "text": [
            "713\n",
            "179\n"
          ]
        }
      ]
    },
    {
      "cell_type": "code",
      "metadata": {
        "id": "siMQvlJapkmZ",
        "colab": {
          "base_uri": "https://localhost:8080/"
        },
        "outputId": "08259186-3bfd-4936-c89f-2cde42516ca0"
      },
      "source": [
        "# Tokenize feature data and print word dictionary\n",
        "vocab_size = 6000\n",
        "oov_tok = '<OOV>'\n",
        "\n",
        "feature_tokenizer = Tokenizer(num_words=vocab_size, oov_token=oov_tok)\n",
        "feature_tokenizer.fit_on_texts(features)\n",
        "\n",
        "feature_index = feature_tokenizer.word_index\n",
        "print(dict(list(feature_index.items())))\n",
        "\n",
        "# Print example sequences from train and test datasets\n",
        "train_feature_sequences = feature_tokenizer.texts_to_sequences(train_features)\n",
        "print(train_feature_sequences[0])\n",
        "\n",
        "test_feature_sequences = feature_tokenizer.texts_to_sequences(test_features)\n",
        "print(test_feature_sequences[0])"
      ],
      "execution_count": null,
      "outputs": [
        {
          "output_type": "stream",
          "name": "stdout",
          "text": [
            "{'<OOV>': 1, 'exprience': 2, 'company': 3, 'project': 4, 'months': 5, 'description': 6, 'details': 7, 'data': 8, '1': 9, 'management': 10, 'team': 11, 'year': 12, '6': 13, 'system': 14, 'maharashtra': 15, 'database': 16, 'development': 17, 'business': 18, 'less': 19, 'sql': 20, 'ltd': 21, 'using': 22, 'developer': 23, 'client': 24, 'java': 25, 'skill': 26, 'testing': 27, 'application': 28, 'pune': 29, 'engineering': 30, 'january': 31, 'services': 32, 'work': 33, 'skills': 34, 'c': 35, 'test': 36, 'software': 37, 'sales': 38, 'responsibilities': 39, 'pvt': 40, 'operations': 41, 'requirements': 42, 'reports': 43, 'education': 44, 'server': 45, 'technical': 46, 'process': 47, 'india': 48, 'customer': 49, 'various': 50, 'design': 51, 'technologies': 52, 'university': 53, 'working': 54, 'python': 55, 'monthscompany': 56, '2': 57, 'environment': 58, 'web': 59, 'like': 60, 'college': 61, 'automation': 62, 'support': 63, 'mysql': 64, 'worked': 65, 'role': 66, 'technology': 67, 'activities': 68, 'time': 69, 'e': 70, 'used': 71, 'based': 72, 'manager': 73, 'training': 74, 'projects': 75, 'knowledge': 76, 'issues': 77, 'mumbai': 78, '4': 79, '3': 80, 'information': 81, 'new': 82, 'different': 83, 'experience': 84, 'engineer': 85, 'computer': 86, 'etc': 87, 'managing': 88, 'per': 89, 'systems': 90, 'network': 91, 'b': 92, 'oracle': 93, 'requirement': 94, 'quality': 95, 'handling': 96, 'end': 97, 'monitoring': 98, 'performance': 99, 'job': 100, 'science': 101, 'windows': 102, 'user': 103, 'involved': 104, 'hadoop': 105, 'users': 106, 'ensure': 107, 'analysis': 108, 'tools': 109, 'maintenance': 110, 'ms': 111, 'maintaining': 112, 'completed': 113, 'developing': 114, 'report': 115, 'service': 116, 'developed': 117, 'servers': 118, '5': 119, 'related': 120, 'sap': 121, 'html': 122, 'customers': 123, 'control': 124, 'security': 125, 'responsible': 126, 'ensuring': 127, 'javascript': 128, 'required': 129, 'jquery': 130, 'creating': 131, '2017': 132, 'linux': 133, 'provide': 134, 'shell': 135, 'etl': 136, '2016': 137, 'clients': 138, 'school': 139, 'office': 140, 'key': 141, 'solutions': 142, 'processes': 143, 'documentation': 144, 'production': 145, 'net': 146, 'also': 147, 'build': 148, 'reporting': 149, 'hive': 150, 'electrical': 151, 'good': 152, 'internal': 153, 'roles': 154, 'level': 155, 'applications': 156, 'product': 157, 'learning': 158, 'queries': 159, 'configuration': 160, 'power': 161, 'scripts': 162, 'operating': 163, 'high': 164, 'machine': 165, '24': 166, 'maintain': 167, 'delivery': 168, '7': 169, 'review': 170, 'communication': 171, 'meetings': 172, 'platform': 173, 'providing': 174, 'daily': 175, 'scripting': 176, 'document': 177, 'website': 178, 'bank': 179, 'manage': 180, 'members': 181, 'su': 182, '2008': 183, 'documents': 184, 'created': 185, 'planning': 186, 'plan': 187, '2015': 188, 'well': 189, '10': 190, 'solution': 191, 'functional': 192, 'global': 193, 'timely': 194, 'understanding': 195, 'designed': 196, 'develop': 197, 'css': 198, 'products': 199, 'multiple': 200, 'administration': 201, 'preparing': 202, 'international': 203, 'june': 204, 'site': 205, 'limited': 206, '2012': 207, 'co': 208, 'order': 209, 'responsibility': 210, 'billing': 211, 'informatica': 212, 'board': 213, 'programming': 214, 'state': 215, 'name': 216, 'databases': 217, 'lead': 218, 'health': 219, '2014': 220, 'unit': 221, 'cases': 222, 'ajax': 223, 'activity': 224, 'languages': 225, 'tool': 226, 'senior': 227, 'vendor': 228, 'framework': 229, 'integration': 230, 'implementation': 231, 'diploma': 232, 'nagpur': 233, 'monitor': 234, 'jobs': 235, 'preparation': 236, 'institute': 237, 'bootstrap': 238, 'marketing': 239, 'create': 240, 'fitness': 241, 'weekly': 242, 'cisco': 243, 'one': 244, 'bachelor': 245, 'unix': 246, 'implemented': 247, 'program': 248, 'performed': 249, 'may': 250, 'inventory': 251, 'mechanical': 252, 'writing': 253, 'microsoft': 254, 'deployment': 255, 'within': 256, 'backup': 257, '2018': 258, 'blockchain': 259, '12': 260, 'devops': 261, 'including': 262, 'cloud': 263, 'identify': 264, 'sla': 265, 'commerce': 266, 'creation': 267, 'script': 268, 'across': 269, 'core': 270, 'analytics': 271, 'monthly': 272, 'risk': 273, 'analyzing': 274, '8': 275, 'payment': 276, 'vendors': 277, 'ess': 278, 'ability': 279, 'online': 280, 'size': 281, 'teams': 282, 'change': 283, 'schedule': 284, 'complete': 285, 'code': 286, 'day': 287, 'track': 288, 'qa': 289, '9': 290, 'tasks': 291, 'understand': 292, 'made': 293, '2010': 294, 'installation': 295, 'type': 296, 'basis': 297, 'trust': 298, 'plans': 299, 'tech': 300, 'date': 301, 'designing': 302, 'honeywell': 303, 'make': 304, 'troubleshooting': 305, 'employee': 306, 'essfully': 307, 'insurance': 308, 'studio': 309, 'procedures': 310, 'staff': 311, 'progress': 312, 'existing': 313, 'group': 314, 'files': 315, 'source': 316, 'excel': 317, 'fat': 318, 'hana': 319, 'resource': 320, 'perform': 321, 'spring': 322, 'sqoop': 323, 'title': 324, 'scope': 325, 'monitored': 326, 'building': 327, 'pre': 328, 'banking': 329, 'civil': 330, 'ges': 331, 'manual': 332, 'schedules': 333, 'personal': 334, 'provided': 335, 'plc': 336, 'financial': 337, 'proposal': 338, 'effective': 339, 'tables': 340, 'purchase': 341, 'operational': 342, 'center': 343, '2013': 344, 'years': 345, 'changes': 346, 'asp': 347, 'hdfs': 348, 'execution': 349, 'distribution': 350, 'mvc': 351, 'status': 352, 'till': 353, 'basic': 354, 'standard': 355, 'hr': 356, 'entire': 357, 'flow': 358, 'tracking': 359, 'part': 360, 'tata': 361, 'stakeholders': 362, 'api': 363, 'modules': 364, 'erp': 365, 'generate': 366, 'release': 367, 'aws': 368, 'arts': 369, 'participated': 370, 'organization': 371, 'corporate': 372, 'implementing': 373, 'private': 374, 'processing': 375, 'git': 376, 'jsp': 377, 'cluster': 378, 'standards': 379, 'com': 380, 'credit': 381, 'dr': 382, 'cost': 383, 'duration': 384, 'people': 385, 'use': 386, 'handled': 387, 'db': 388, 'gathering': 389, 'check': 390, 'issue': 391, 'analyst': 392, 'bo': 393, '0': 394, 'html5': 395, 'case': 396, 'php': 397, 'portal': 398, 'commercial': 399, 'js': 400, 'research': 401, 'korea': 402, 'set': 403, 'hibernate': 404, 'estimation': 405, 'calls': 406, 'warehouse': 407, 'panels': 408, 'r': 409, 'ui': 410, 'position': 411, 'leading': 412, 'participate': 413, 'bugs': 414, 'enterprise': 415, 'point': 416, 'ounts': 417, 'talend': 418, 'days': 419, 'coordinating': 420, 'material': 421, 'resolve': 422, 'attending': 423, 'industrial': 424, 'reduce': 425, 'spark': 426, 'photoshop': 427, 'profile': 428, 'programs': 429, '2011': 430, 'done': 431, 'h': 432, 'graphics': 433, 'back': 434, 'audit': 435, 'manufacturing': 436, 'infrastructure': 437, 'help': 438, 'g': 439, 'designer': 440, 'industry': 441, 'orders': 442, 'best': 443, 'includes': 444, 'automated': 445, 'coordinate': 446, 'prepare': 447, 'target': 448, 'replication': 449, 'contract': 450, 'resources': 451, 'electronics': 452, 'secondary': 453, 'file': 454, 'text': 455, 'regression': 456, 'administrator': 457, 'department': 458, 'agile': 459, 'css3': 460, 'employees': 461, 'identifying': 462, 'architecture': 463, 'freight': 464, 'critical': 465, 'visual': 466, 'layer': 467, 'qtp': 468, 'problem': 469, 'jenkins': 470, 'life': 471, 'drawing': 472, 'overall': 473, 'consultancy': 474, 'k': 475, 'developers': 476, 'mis': 477, 'equipment': 478, 'excellent': 479, 'language': 480, 'analyze': 481, 'loan': 482, 'shipments': 483, 'stock': 484, 'strong': 485, 'ethereum': 486, 'angular': 487, 'professional': 488, 'events': 489, 'english': 490, 'targets': 491, 'ssc': 492, 'xp': 493, 'present': 494, 'specifications': 495, 'hsc': 496, 'meeting': 497, '20': 498, 'along': 499, 'compliance': 500, '15': 501, 'leader': 502, 'area': 503, 'revenue': 504, 'consultant': 505, '48': 506, 'given': 507, 'construction': 508, 'suppliers': 509, 'multi': 510, 'load': 511, 'networking': 512, 'interface': 513, 'panel': 514, 'components': 515, 'pmo': 516, 'requests': 517, 'student': 518, 'master': 519, 'managers': 520, 'uat': 521, 'smooth': 522, 'problems': 523, 'j2ee': 524, 'comments': 525, 'line': 526, 'base': 527, 'models': 528, 'admin': 529, 'smart': 530, 'field': 531, 'potential': 532, 'external': 533, 'engineers': 534, 'solving': 535, '11g': 536, 'mappings': 537, 'workshop': 538, 'shipping': 539, 'wipro': 540, 'dot': 541, 'conducted': 542, 'model': 543, 'version': 544, 'post': 545, 'migration': 546, 'maintained': 547, 'firewall': 548, 'resolving': 549, 'opportunities': 550, 'efficiency': 551, 'nashik': 552, 'uk': 553, 'take': 554, 'national': 555, 'strategies': 556, 'side': 557, 'areas': 558, 'complex': 559, 'apache': 560, 'nendrasys': 561, 'getting': 562, 'conducting': 563, 'materials': 564, 'checking': 565, 'reviews': 566, 'loading': 567, 'achieve': 568, 'supply': 569, 'inspection': 570, 'media': 571, 'methodology': 572, 'expertise': 573, 'delivered': 574, 'controls': 575, 'hpm': 576, 'map': 577, 'plant': 578, 'improve': 579, 'departments': 580, 'view': 581, 'july': 582, 'servlet': 583, 'specification': 584, 'british': 585, 'thai': 586, 'provides': 587, 'continuous': 588, 'taking': 589, 'wrote': 590, 'result': 591, 'pig': 592, 'request': 593, 'ount': 594, 'log': 595, 'included': 596, 'm3': 597, 'troubleshoot': 598, 'export': 599, 'presentation': 600, 'follow': 601, 'devices': 602, 'certificate': 603, 'offers': 604, 'maven': 605, 'autocad': 606, 'logs': 607, 'risks': 608, 'environments': 609, '2009': 610, 'usa': 611, 'json': 612, 'shared': 613, 'processed': 614, 'decision': 615, 'budget': 616, 'extract': 617, 'interaction': 618, 'foundation': 619, 'django': 620, 'deployed': 621, 'actively': 622, 'relationship': 623, 'setup': 624, 'flat': 625, 'investment': 626, 'policies': 627, 'august': 628, 'eclipse': 629, 'driven': 630, 'capacity': 631, 'keeping': 632, 'learn': 633, 'running': 634, 'direct': 635, 'world': 636, 'making': 637, 'qatar': 638, 'sessions': 639, 'scheduling': 640, 'functions': 641, 'checks': 642, 'course': 643, 'onsite': 644, 'supporting': 645, 'pradesh': 646, 'logic': 647, 'results': 648, 'us': 649, 'os': 650, 'reconciliation': 651, 'www': 652, 'united': 653, 'regular': 654, 'defined': 655, '01': 656, 'backups': 657, 'cash': 658, 'leadership': 659, 'via': 660, 'crm': 661, 'architect': 662, 'backend': 663, 'drawings': 664, 'hotel': 665, 'qc': 666, 'higher': 667, 'dev': 668, 'dashboard': 669, 'hands': 670, 'configuring': 671, 'mongodb': 672, 'discuss': 673, 'operation': 674, 'sent': 675, 'r2': 676, 'assistant': 677, 'chain': 678, 'records': 679, 'mapreduce': 680, 'achieving': 681, 'gym': 682, 'generated': 683, 'selenium': 684, 'jan': 685, 'ording': 686, 'following': 687, 'public': 688, 'station': 689, 'enquiries': 690, 'wiring': 691, 'bny': 692, 'mellon': 693, 'switches': 694, '11': 695, 'transaction': 696, 'goal': 697, 'sr': 698, 'overseeing': 699, 'essful': 700, 'types': 701, 'sources': 702, 'appropriate': 703, 'techniques': 704, 'detailed': 705, 'front': 706, 'leads': 707, 'transformations': 708, 'word': 709, 'usage': 710, 'procurement': 711, 'air': 712, 'top': 713, 'categories': 714, 'trade': 715, 'stake': 716, 'holders': 717, 'marshalling': 718, 'prepaid': 719, 'ge': 720, '2006': 721, 'availability': 722, 'local': 723, 'certified': 724, 'update': 725, 'government': 726, 'deliverables': 727, '2000': 728, 'self': 729, 'analytical': 730, 'bug': 731, '2007': 732, 'structure': 733, 'capital': 734, 'generating': 735, 'views': 736, 'strategic': 737, 'deep': 738, 'necessary': 739, 'real': 740, 'communications': 741, 'polytechnic': 742, 'mapping': 743, 'phule': 744, 'executing': 745, 'mahindra': 746, 'groups': 747, 'active': 748, 'businesses': 749, 'cricket': 750, 'cards': 751, 'call': 752, 'hbase': 753, 'rest': 754, 'features': 755, 'modern': 756, 'market': 757, 'logistics': 758, 'integrated': 759, 'reviewing': 760, 'helping': 761, '31': 762, 'relevant': 763, 'implement': 764, 'big': 765, 'executive': 766, 'region': 767, 'cycle': 768, 'healthcare': 769, 'available': 770, 'sub': 771, 'algorithms': 772, 'first': 773, 'form': 774, 'completion': 775, 'designation': 776, 'validate': 777, 'sure': 778, '16': 779, 'go': 780, 'mentioned': 781, 'execute': 782, 'conduct': 783, 'pm': 784, '72': 785, 'finance': 786, 'platforms': 787, 'debugging': 788, 'errors': 789, 'ad': 790, 'nov': 791, 'raised': 792, 'interacting': 793, 'future': 794, 'pl': 795, 'jira': 796, 'router': 797, 'repository': 798, 'applying': 799, 'advance': 800, 'le': 801, 'branches': 802, 'relationships': 803, 'managed': 804, 'ways': 805, 'amravati': 806, '30': 807, 'movex': 808, 'synopsis': 809, 'upgrade': 810, 'towards': 811, 'savitribai': 812, 'paper': 813, 'communicating': 814, 'levels': 815, 'bi': 816, 'ftp': 817, 'firewalls': 818, 'setting': 819, 'auto': 820, '400': 821, 'costs': 822, 'ibm': 823, 'strategy': 824, 'closely': 825, 'council': 826, 'routing': 827, 'transactions': 828, 'countries': 829, '28': 830, 'price': 831, 'deploy': 832, 'module': 833, 'fine': 834, 'proper': 835, 'music': 836, '36': 837, 'query': 838, 'contribution': 839, 'function': 840, 'webi': 841, 'filenet': 842, 'safety': 843, '2005': 844, 'meet': 845, 'floor': 846, 'metrics': 847, 'ant': 848, 'bbl': 849, 'domain': 850, 'organizing': 851, 'correct': 852, 'generation': 853, 'get': 854, 'prepared': 855, 'app': 856, 'tableau': 857, 'head': 858, 'repositories': 859, 'hardware': 860, 'packages': 861, 'scala': 862, 'page': 863, 'bond': 864, 'every': 865, 'azure': 866, 'resolution': 867, 'customized': 868, 'capabilities': 869, 'sending': 870, 'care': 871, 'currently': 872, 'governance': 873, 'range': 874, 'dell': 875, 'free': 876, 'card': 877, 'rules': 878, 'fixing': 879, 'achieved': 880, 'aug': 881, 'sdlc': 882, 'individual': 883, 'involves': 884, 'duties': 885, 'include': 886, 'v': 887, 'utilization': 888, 'emails': 889, 'feeds': 890, 'corporation': 891, 'assist': 892, 'legal': 893, 'improvement': 894, 'specific': 895, 'period': 896, 'negotiating': 897, 'facility': 898, 'handle': 899, 'member': 900, 'intelligence': 901, 'universe': 902, 'communicate': 903, 'installing': 904, 'need': 905, 'throughout': 906, 'transition': 907, 'feedback': 908, 'assurant': 909, 'bods': 910, 'capgemini': 911, 'clinical': 912, 'frame': 913, 'task': 914, 'transfer': 915, 'postgresql': 916, 'codes': 917, 'drives': 918, 'scenarios': 919, 'updating': 920, 'tests': 921, 'tomcat': 922, 'rman': 923, 'possible': 924, '14': 925, 'centre': 926, 'ubuntu': 927, 'consulting': 928, 'jdbc': 929, 'dubai': 930, 'efficient': 931, 'p': 932, 'calculation': 933, 'diagrams': 934, 'quick': 935, 'controller': 936, 'dashboards': 937, 'dcs': 938, 'powerpoint': 939, 'ide': 940, 'store': 941, 'hindi': 942, 'regularly': 943, 'around': 944, 'supported': 945, 'tuning': 946, 'offshore': 947, 'partners': 948, 'companies': 949, 'live': 950, 'configured': 951, 'asa': 952, 'march': 953, 'internet': 954, 'formats': 955, 'main': 956, 'image': 957, 'n': 958, 'needs': 959, 'reviewed': 960, 'restore': 961, 'iso': 962, 'motor': 963, 'transport': 964, 'contributions': 965, 'general': 966, 'clear': 967, 'nutrition': 968, '27': 969, 'location': 970, 'define': 971, 'fds': 972, 'tenure': 973, 'performing': 974, 'effectively': 975, 'invoicing': 976, 'interpersonal': 977, 'positive': 978, 'quarterly': 979, 'matrix': 980, 'coordination': 981, 'major': 982, 'impact': 983, 'selection': 984, 'rates': 985, 'sites': 986, 'talent': 987, 'final': 988, 'direction': 989, 'law': 990, 'number': 991, 'invoices': 992, 'pan': 993, 'right': 994, 'negotiations': 995, 'energy': 996, 'quotations': 997, 'fixed': 998, 'helps': 999, 'programme': 1000, 'validation': 1001, 'controllers': 1002, 'pos': 1003, 'import': 1004, 'open': 1005, 'cross': 1006, 'mobile': 1007, 'stipulated': 1008, 'assisting': 1009, 'xml': 1010, 'growth': 1011, 'audits': 1012, 'sector': 1013, 'plus': 1014, 'feature': 1015, 'providers': 1016, 'utility': 1017, 'ticket': 1018, 'commissioning': 1019, 'competition': 1020, 'numpy': 1021, 'contracts': 1022, 'communicated': 1023, 'storage': 1024, 'oil': 1025, 'satisfaction': 1026, '96': 1027, 'rdbms': 1028, 'node': 1029, 'month': 1030, 'proven': 1031, 'hmi': 1032, 'ups': 1033, 'provider': 1034, 'strengths': 1035, 'fixes': 1036, 'ounting': 1037, 'enhance': 1038, 'objects': 1039, 'large': 1040, 'structured': 1041, 'run': 1042, 'series': 1043, 'achievements': 1044, 'sc': 1045, 'got': 1046, 'single': 1047, 'android': 1048, 'ci': 1049, 'cbs': 1050, 'terms': 1051, '17': 1052, 'layout': 1053, 'cable': 1054, 'lt': 1055, 'scrum': 1056, 'able': 1057, 'supplies': 1058, 'consignments': 1059, 'scheduled': 1060, 'lifecycle': 1061, 'central': 1062, 'ecosystem': 1063, 'optimization': 1064, 'visio': 1065, 'u': 1066, 'updates': 1067, 'mba': 1068, 'merchants': 1069, 'patching': 1070, 'written': 1071, 'april': 1072, 'mail': 1073, 'bitbucket': 1074, 'received': 1075, 'summary': 1076, 'driving': 1077, 'exposure': 1078, 'recruitment': 1079, 'submission': 1080, 'liaising': 1081, 'analyzed': 1082, 'nlp': 1083, 'effort': 1084, 'defining': 1085, 'feb': 1086, 'car': 1087, 'engg': 1088, 'actual': 1089, 'past': 1090, 'actions': 1091, 'methodologies': 1092, 'established': 1093, 'concepts': 1094, 'recovery': 1095, 'spoc': 1096, 'switching': 1097, 'built': 1098, 'interest': 1099, 'objective': 1100, 'parameters': 1101, 'stores': 1102, 'permissions': 1103, 'prod': 1104, 'defect': 1105, 'satellite': 1106, 'p8': 1107, 'works': 1108, 'f': 1109, 'analysts': 1110, 'sloan': 1111, 'hiring': 1112, 'directly': 1113, 'workflow': 1114, 'st': 1115, 'association': 1116, 'frontend': 1117, 'incident': 1118, 'coordinated': 1119, 'annual': 1120, 'policy': 1121, 'exports': 1122, 'manner': 1123, 'receiving': 1124, 'social': 1125, 'iit': 1126, 'visit': 1127, 'redundant': 1128, 'inputs': 1129, 'nos': 1130, 'trends': 1131, 'tracker': 1132, 'entities': 1133, 'pr': 1134, 'vpn': 1135, 'stored': 1136, 'address': 1137, 'academy': 1138, 'trainer': 1139, 'primary': 1140, 'current': 1141, 'factory': 1142, 'road': 1143, 'four': 1144, 'advanced': 1145, 'robot': 1146, 'largest': 1147, 'custom': 1148, 'proactively': 1149, 'value': 1150, 'basically': 1151, 'instances': 1152, 'proficient': 1153, 'identified': 1154, 'builds': 1155, 'content': 1156, 'assigned': 1157, 'wave': 1158, 'fabrication': 1159, 'flume': 1160, 'cloudera': 1161, 'academic': 1162, 'offices': 1163, 'automate': 1164, 'followed': 1165, 'tax': 1166, 'played': 1167, 'place': 1168, 'bom': 1169, 'eptance': 1170, 'times': 1171, 'goods': 1172, 'tickets': 1173, 'dynamic': 1174, 'full': 1175, 'payments': 1176, 'sharepoint': 1177, 'increase': 1178, 'autosys': 1179, 'pneumatic': 1180, 'ordination': 1181, 'sharing': 1182, 'neural': 1183, 'sri': 1184, 'assigning': 1185, 'act': 1186, 'event': 1187, 'house': 1188, 'branch': 1189, 'excellence': 1190, 'email': 1191, 'hosted': 1192, 'experienced': 1193, 'evaluation': 1194, 'met': 1195, 'give': 1196, 'bombay': 1197, 'enhancements': 1198, 'another': 1199, 'modelling': 1200, 'gather': 1201, 'salary': 1202, 'schema': 1203, 'keep': 1204, 'jr': 1205, 'september': 1206, '2003': 1207, '60': 1208, 'expenses': 1209, 'respective': 1210, 'raw': 1211, 'vision': 1212, 'nature': 1213, 'techno': 1214, 'three': 1215, 'retail': 1216, 'detection': 1217, 'physical': 1218, 'property': 1219, 'easy': 1220, 'action': 1221, 'non': 1222, 'regarding': 1223, 'onshore': 1224, 'simple': 1225, '2nd': 1226, 'routers': 1227, 'lan': 1228, 'purpose': 1229, 'govt': 1230, '21': 1231, 'deployments': 1232, 'adding': 1233, 'internship': 1234, 'find': 1235, 'undertaking': 1236, 'five': 1237, 'arranging': 1238, 'oriented': 1239, 'telephonic': 1240, 'ny': 1241, 'dhcp': 1242, 'madhya': 1243, 'upgrades': 1244, 'bsc': 1245, 'inter': 1246, 'degree': 1247, 'magazine': 1248, 'friendly': 1249, 'methods': 1250, 'conference': 1251, 'ordinate': 1252, 'coding': 1253, 'builder': 1254, 'two': 1255, 'thinking': 1256, 'startup': 1257, 'focuses': 1258, 'identification': 1259, 'supervising': 1260, 'nestle': 1261, 'visa': 1262, 'deploying': 1263, 'learner': 1264, '13': 1265, 'plastering': 1266, 'among': 1267, 'escalation': 1268, 'networks': 1269, 'wide': 1270, 'phone': 1271, 'determine': 1272, 'properly': 1273, 'payroll': 1274, 'x': 1275, 'inc': 1276, 'water': 1277, 'industries': 1278, 'tally': 1279, 'proficiency': 1280, 'vista': 1281, 'logistic': 1282, 'enhancement': 1283, 'predictive': 1284, 'ops': 1285, 'channels': 1286, 'virtual': 1287, 'rights': 1288, 'patient': 1289, 'highlights': 1290, 'profiles': 1291, 'manages': 1292, 'budgets': 1293, 'barclays': 1294, 'enture': 1295, 'ordance': 1296, 'hot': 1297, 'grid': 1298, 'ht': 1299, 'l': 1300, 'sets': 1301, 'matlab': 1302, 'supplier': 1303, 'warehousing': 1304, 'bangalore': 1305, 'invoice': 1306, 'executed': 1307, 'transform': 1308, 'news': 1309, 'oozie': 1310, 'recommendations': 1311, 'old': 1312, 'scada': 1313, 'layers': 1314, 'connectivity': 1315, 'sun': 1316, 'b2b': 1317, 'secured': 1318, '10g': 1319, 'secure': 1320, 'conditions': 1321, 'tested': 1322, 'designs': 1323, 'challenges': 1324, 'administrative': 1325, 'competencies': 1326, 'history': 1327, 'static': 1328, 'cnc': 1329, 'channel': 1330, 'junior': 1331, 'pump': 1332, '300': 1333, 'coverage': 1334, 'releases': 1335, 'checkpoint': 1336, 'outstanding': 1337, 'entity': 1338, 'move': 1339, 'gsm': 1340, 'ocean': 1341, 'since': 1342, 'win': 1343, 'mac': 1344, 'masters': 1345, 'pressure': 1346, 'certification': 1347, '07': 1348, 'tat': 1349, 'liasing': 1350, 'imports': 1351, 'forwarders': 1352, 'benefits': 1353, 'gea': 1354, 'east': 1355, 'modes': 1356, 'contractual': 1357, 'worldwide': 1358, 'dhl': 1359, 'informing': 1360, 'bengaluru': 1361, 'images': 1362, 'forecasting': 1363, '19': 1364, 'bitcoin': 1365, 'solidity': 1366, '85': 1367, 'filtering': 1368, 'cad': 1369, 'stage': 1370, 'lessons': 1371, 'chennai': 1372, 'assessment': 1373, 'agreed': 1374, 'whenever': 1375, 'epks': 1376, 'deliverable': 1377, 'cabinets': 1378, 'preventive': 1379, 'demand': 1380, '39': 1381, 'engine': 1382, 'trained': 1383, 'fully': 1384, 'package': 1385, 'installed': 1386, 'adherence': 1387, 'ensured': 1388, 'staging': 1389, 'lob': 1390, 'draft': 1391, 'staffing': 1392, 'penalty': 1393, 'dicom': 1394, 'message': 1395, 'defects': 1396, 'mocks': 1397, 'dba': 1398, 'hyderabad': 1399, 'telangana': 1400, 'show': 1401, 'hoc': 1402, 'moving': 1403, 'sports': 1404, 'timelines': 1405, 'dec': 1406, 'rational': 1407, 'utilities': 1408, 'easily': 1409, 'putty': 1410, 'forecast': 1411, 'sourcing': 1412, 'wallet': 1413, 'svn': 1414, 'gold': 1415, 'asset': 1416, 'digital': 1417, 'quickly': 1418, 'deadlines': 1419, 'color': 1420, 'send': 1421, 'box': 1422, 'nanded': 1423, 'travel': 1424, 'sea': 1425, 'sbi': 1426, 'formalities': 1427, 'filing': 1428, 'multinational': 1429, 'visualization': 1430, 'component': 1431, 'insights': 1432, 'allow': 1433, 'coe': 1434, 'important': 1435, 'prototype': 1436, 'proactive': 1437, 'hydraulic': 1438, 'schematics': 1439, 'urate': 1440, 'kerala': 1441, 'screen': 1442, 'discussing': 1443, 'delivering': 1444, 'itil': 1445, 'attend': 1446, 'mar': 1447, 'going': 1448, 'recognition': 1449, 'playing': 1450, '3d': 1451, 'safe': 1452, 'space': 1453, 'tcs': 1454, 'attendance': 1455, 'lines': 1456, 'express': 1457, 'karnataka': 1458, 'sublime': 1459, 'github': 1460, 'specially': 1461, 'classes': 1462, 'contact': 1463, '26': 1464, 'suggesting': 1465, 'associated': 1466, 'desk': 1467, 'regulations': 1468, 'due': 1469, 'ideas': 1470, 'trustbank': 1471, 'bazar': 1472, 'responsive': 1473, 'softgst': 1474, 'gstr': 1475, 'returns': 1476, 'jalloshband': 1477, 'hardworking': 1478, 'sense': 1479, 'bajaj': 1480, 'units': 1481, 'hours': 1482, 'incidents': 1483, 'root': 1484, 'institutional': 1485, 'rm': 1486, 'black': 1487, 'clearance': 1488, 'books': 1489, 'pivotal': 1490, 'stations': 1491, 'zone': 1492, 'detail': 1493, 'kpi': 1494, 'ionic': 1495, 'added': 1496, 'sound': 1497, 'guidance': 1498, 'impala': 1499, 'compare': 1500, 'intellimatch': 1501, 'allahabad': 1502, 'uttar': 1503, 'midc': 1504, 'al': 1505, 'valves': 1506, 'consultants': 1507, 'delhi': 1508, 'lng': 1509, 'sentiment': 1510, 'coaching': 1511, 'loop': 1512, 'hvac': 1513, 'abap': 1514, 'programmes': 1515, 'lanka': 1516, 'cold': 1517, 'gap': 1518, '80': 1519, 'dns': 1520, 'record': 1521, 'cultural': 1522, 'marathi': 1523, 'cse': 1524, '08': 1525, 'president': 1526, 'carrying': 1527, 'home': 1528, 'attitude': 1529, 'presenting': 1530, 'proposals': 1531, 'mitigation': 1532, 'search': 1533, 'claims': 1534, 'medical': 1535, 'known': 1536, 'district': 1537, 'restful': 1538, 'october': 1539, 'advocate': 1540, 'drafting': 1541, 'productivity': 1542, 'survey': 1543, '2019': 1544, 'javaee': 1545, 'aes': 1546, 'rfid': 1547, 'parkar': 1548, 'labs': 1549, 'long': 1550, 'million': 1551, 'promotion': 1552, 'telecom': 1553, 'llp': 1554, 'video': 1555, 'lambda': 1556, 'tibco': 1557, 'spotfire': 1558, 'xen': 1559, 'cpi': 1560, 'genworth': 1561, 'total': 1562, 'needed': 1563, 'modeling': 1564, 'costing': 1565, 'modifications': 1566, 'extraction': 1567, 'list': 1568, 'six': 1569, '23': 1570, 'exchange': 1571, 'sme': 1572, 'ap': 1573, 'advertising': 1574, 'fraud': 1575, 'relay': 1576, 'ansible': 1577, 'merging': 1578, 'standby': 1579, 'kyc': 1580, 'workforce': 1581, 'uft': 1582, 'sept': 1583, 'error': 1584, 'particular': 1585, 'human': 1586, 'idea': 1587, 'selected': 1588, 'collection': 1589, 'better': 1590, 'always': 1591, 'mirroring': 1592, 'parent': 1593, 'middle': 1594, '2001': 1595, 'patterns': 1596, 'means': 1597, 'telecommunications': 1598, 'simultaneously': 1599, 'turn': 1600, 'organize': 1601, 'collaboration': 1602, 'ip': 1603, 'small': 1604, 'multimedia': 1605, '12c': 1606, 'tablespaces': 1607, 'syntel': 1608, 'study': 1609, 'organized': 1610, 'coded': 1611, 'object': 1612, 'statutory': 1613, 'goals': 1614, 'modified': 1615, 'would': 1616, 'stories': 1617, 'disk': 1618, 'cause': 1619, 'carried': 1620, 'flexibility': 1621, 'topic': 1622, 'classification': 1623, 'protection': 1624, 'residential': 1625, 'quotation': 1626, 'mw': 1627, 'gateway': 1628, 'dbms': 1629, 'receive': 1630, 'traceability': 1631, 'bandra': 1632, 'hotels': 1633, 'finalizing': 1634, 'generates': 1635, 'late': 1636, 'alternate': 1637, 'discrepancies': 1638, 'term': 1639, 'joined': 1640, 'giving': 1641, 'computing': 1642, 'reliance': 1643, 'table': 1644, 'editing': 1645, 'weeks': 1646, 'auditing': 1647, 'extracting': 1648, 'disease': 1649, 'pandas': 1650, 'inside': 1651, 'evaluate': 1652, 'calculate': 1653, 'stream': 1654, 'serve': 1655, 'authority': 1656, 'alert': 1657, 'srs': 1658, 'ccu': 1659, 'cmu': 1660, 'responses': 1661, 'interacted': 1662, 'supervise': 1663, 'catia': 1664, 'xinfin': 1665, 'correspondence': 1666, 'hp': 1667, 'calling': 1668, 'asm': 1669, 'appraisals': 1670, 'drive': 1671, 'money': 1672, 'pacs': 1673, 'bed': 1674, 'yes': 1675, 'mentor': 1676, 'workshops': 1677, 'printing': 1678, 'pack': 1679, '2008r2': 1680, 'innovative': 1681, 'mr': 1682, 'encrypted': 1683, 'faster': 1684, 'globally': 1685, 'promoted': 1686, 'linear': 1687, 'registration': 1688, 'soft': 1689, 'corrective': 1690, 'protocols': 1691, 'oct': 1692, 'person': 1693, 'deal': 1694, 'configure': 1695, 'context': 1696, 'low': 1697, 'f5': 1698, 'proxy': 1699, 'february': 1700, 'capita': 1701, 'subject': 1702, 'appraisal': 1703, 'prgx': 1704, 'speaking': 1705, 'atos': 1706, 'bill': 1707, 'negotiation': 1708, 'hard': 1709, 'volume': 1710, 'issuance': 1711, 'sop': 1712, 'receivables': 1713, 'reducing': 1714, 'sectors': 1715, 'transit': 1716, 'holding': 1717, 'establishing': 1718, 'quantity': 1719, 'transshipment': 1720, 'points': 1721, 'complaints': 1722, 'serck': 1723, 'quotes': 1724, 'recording': 1725, 'elements': 1726, 'train': 1727, 'mssql': 1728, 'columns': 1729, 'urately': 1730, 'instrumentation': 1731, 'carry': 1732, 'indian': 1733, 'unique': 1734, 'draw': 1735, 'assessing': 1736, 'utilized': 1737, 'bhopal': 1738, 'constraints': 1739, 'hospital': 1740, 'gm': 1741, 'kom': 1742, 'cabinet': 1743, 'loops': 1744, 'focal': 1745, 'furnace': 1746, 'experion': 1747, 'jbk': 1748, 'schematic': 1749, 'presence': 1750, 'compensation': 1751, 'brd': 1752, 'medicines': 1753, 'aim': 1754, 'associate': 1755, 'distributed': 1756, 'insight': 1757, 'privileges': 1758, 'zaggle': 1759, 'inr': 1760, 'improving': 1761, 'temperature': 1762, 'loaded': 1763, 'fee': 1764, 'rcsa': 1765, 'concurrence': 1766, 'delinquent': 1767, 'ca': 1768, 'clarity': 1769, 'joining': 1770, 'headcount': 1771, 'tagging': 1772, 'rookie': 1773, 'vlan': 1774, 'plane': 1775, '49': 1776, 'represent': 1777, 'websites': 1778, 'american': 1779, '18': 1780, 'others': 1781, 'finding': 1782, 'synechron': 1783, 'alerts': 1784, 'earthing': 1785, 'food': 1786, 'measures': 1787, 'qualification': 1788, 'ticketing': 1789, 'globe': 1790, 'concept': 1791, 'professionals': 1792, 'graduate': 1793, 'elastic': 1794, 'redhat': 1795, 'automating': 1796, 'promoting': 1797, 'options': 1798, 'lists': 1799, 'collect': 1800, 'estate': 1801, 'therapies': 1802, 'recognized': 1803, 'player': 1804, 'searching': 1805, 'face': 1806, 'motivate': 1807, 'plsql': 1808, 'york': 1809, 'scd': 1810, 'round': 1811, 'closing': 1812, 'banks': 1813, 'driver': 1814, '50': 1815, 'court': 1816, 'interact': 1817, 'response': 1818, 'severity': 1819, 'assurance': 1820, 'sheet': 1821, 'smoke': 1822, 'resume': 1823, 'entry': 1824, 'interviewing': 1825, 'increased': 1826, 'partnerships': 1827, 'special': 1828, 'traffic': 1829, 'johnson': 1830, 'deliveries': 1831, 'port': 1832, 'teradata': 1833, 'career': 1834, 'presented': 1835, 'phase': 1836, 'tree': 1837, 'fetch': 1838, 'add': 1839, 'dynamics': 1840, 'steel': 1841, 'brand': 1842, 'clarifications': 1843, 'rfq': 1844, 'sow': 1845, 'foundry': 1846, '29': 1847, 'london': 1848, 'mitigate': 1849, 'uh': 1850, 'highlighting': 1851, 'called': 1852, 'classifier': 1853, 'makes': 1854, 'scientist': 1855, 'directory': 1856, 'downtime': 1857, '2004': 1858, 'shopping': 1859, 'stack': 1860, 'way': 1861, 'middleware': 1862, 'verbal': 1863, 'switch': 1864, 'algorithm': 1865, 'vice': 1866, 'aspects': 1867, 'visiting': 1868, 'visits': 1869, 'io': 1870, 'audience': 1871, 'individuals': 1872, 'questions': 1873, 'functionality': 1874, 'efforts': 1875, 'practice': 1876, 'controlled': 1877, 'as400': 1878, 'infosys': 1879, 'mangers': 1880, 'utilizing': 1881, 'locations': 1882, 'doctor': 1883, 'failures': 1884, 'gaps': 1885, 'patil': 1886, 'authentication': 1887, 'objectives': 1888, 'tier': 1889, 'exposys': 1890, 'notepad': 1891, 'fruits': 1892, 'sangli': 1893, 'upgrading': 1894, 'boarding': 1895, 'coming': 1896, 'comes': 1897, 'angularjs': 1898, 'fill': 1899, 'watch': 1900, 'brought': 1901, 'updated': 1902, 'income': 1903, 'landing': 1904, 'urban': 1905, 'qualifications': 1906, 'experiences': 1907, 'j': 1908, 'strength': 1909, 'input': 1910, 'atm': 1911, 'gas': 1912, 'verification': 1913, 'tours': 1914, 'star': 1915, 'held': 1916, 'warehouses': 1917, 'europe': 1918, 'agents': 1919, 'optimize': 1920, 'damage': 1921, 'holds': 1922, 'systematic': 1923, 'standardized': 1924, 'involving': 1925, 'struts': 1926, 'epted': 1927, 'db2': 1928, 'indore': 1929, 'count': 1930, 'declaration': 1931, 'motors': 1932, 'expe': 1933, '1998': 1934, 'trainings': 1935, 'examination': 1936, 'closure': 1937, 'deliver': 1938, 'parties': 1939, 'expectations': 1940, 'proof': 1941, 'charts': 1942, 'causes': 1943, 'remote': 1944, 'think': 1945, 'relational': 1946, 'effectiveness': 1947, 'communities': 1948, 'launch': 1949, 'switchgear': 1950, 'mcc': 1951, 'ct': 1952, 'protocol': 1953, 'timesheet': 1954, 'upto': 1955, 'noc': 1956, 'sungard': 1957, 'bw': 1958, 'allows': 1959, 'sign': 1960, 'several': 1961, 'clustering': 1962, 'basics': 1963, 'sorting': 1964, 'usability': 1965, 'willing': 1966, 'sweden': 1967, 'coach': 1968, 'abstract': 1969, 'cvs': 1970, 'patni': 1971, 'insert': 1972, 'delete': 1973, 'extra': 1974, 'rajasthan': 1975, '120': 1976, 'managements': 1977, 'already': 1978, 'fast': 1979, 'require': 1980, 'booking': 1981, '25': 1982, 'suggestions': 1983, 'sep': 1984, 'spa': 1985, 'heterogeneous': 1986, 'controlling': 1987, 'crystal': 1988, 'library': 1989, 'b2c': 1990, 'ii': 1991, 'slas': 1992, 'goqii': 1993, 'club': 1994, '43': 1995, 'california': 1996, 'facets': 1997, 'extensively': 1998, 'display': 1999, 'see': 2000, 'embedded': 2001, 'legacy': 2002, 'meaningful': 2003, 'micro': 2004, 'oltp': 2005, 'capture': 2006, 'nasscom': 2007, 'ieee': 2008, 'kpit': 2009, 'class': 2010, 'corpcloud': 2011, 'proposed': 2012, 'postman': 2013, 'block': 2014, 'tasking': 2015, 'courses': 2016, 'extractor': 2017, 'foreign': 2018, 'informed': 2019, 'answering': 2020, 'purchasing': 2021, 'heat': 2022, 'bex': 2023, 'optimizing': 2024, 'oss': 2025, 'bar': 2026, 'hyperledger': 2027, 'beginner': 2028, 'r3': 2029, 'cbse': 2030, 'mesa': 2031, 'electric': 2032, 'dedication': 2033, 'actuator': 2034, 'actuators': 2035, 'po': 2036, 'suitable': 2037, 'last': 2038, 'frames': 2039, 'cement': 2040, 'detailing': 2041, 'tensorflow': 2042, 'crawling': 2043, 'rpg': 2044, 'organizational': 2045, 'comparison': 2046, 'asst': 2047, 'arsys': 2048, 'logger': 2049, 'mas': 2050, 'telecommunication': 2051, 'sprint': 2052, 'contractor': 2053, 'mvc5': 2054, 'diverse': 2055, 'vs': 2056, 'disabled': 2057, 'greyed': 2058, 'delta': 2059, 'demo': 2060, 'pair': 2061, 'rpa': 2062, 'determined': 2063, 'salesforce': 2064, 'ranchi': 2065, 'marshall': 2066, 'svm': 2067, 'places': 2068, 'extracted': 2069, 'sqlserver': 2070, 'vehicle': 2071, 'editor': 2072, 'vb': 2073, 'listener': 2074, 'hybrid': 2075, 'inouvelle': 2076, 'ventures': 2077, 'karate': 2078, 'honda': 2079, 'dealership': 2080, 'tac': 2081, 'tmap': 2082, 'rewards': 2083, 'anti': 2084, 'laundering': 2085, 'aegis': 2086, 'tdd': 2087, 'taf': 2088, 'hl7': 2089, 'reconstruction': 2090, 'logix': 2091, 'talk': 2092, 'rslinx': 2093, 'classic': 2094, 'increment': 2095, 'vbscripts': 2096, 'painting': 2097, 'curriculum': 2098, 'subcontractors': 2099, 'tester': 2100, 'dedicated': 2101, 'streamline': 2102, 'appreciation': 2103, 'uml': 2104, 'mechanism': 2105, 'outs': 2106, 'band': 2107, 'permanent': 2108, 'significant': 2109, 'funds': 2110, 'foods': 2111, 'shut': 2112, 'yrs': 2113, 'transformation': 2114, 'newly': 2115, 'facilitating': 2116, '1999': 2117, 'engagement': 2118, 'ongoing': 2119, 'art': 2120, 'natural': 2121, 'planned': 2122, 'letters': 2123, 'experts': 2124, 'institution': 2125, 'emerging': 2126, 'slave': 2127, 'offline': 2128, 'norms': 2129, 'highest': 2130, 'install': 2131, 'spaces': 2132, 'settings': 2133, 'blue': 2134, 'joiner': 2135, 'lookup': 2136, 'statements': 2137, 'solapur': 2138, 'man': 2139, 'tamil': 2140, 'nadu': 2141, 'attended': 2142, 'royal': 2143, 'society': 2144, 'offer': 2145, 'establish': 2146, 'waste': 2147, 'regional': 2148, 'substation': 2149, '1st': 2150, 'consistently': 2151, 'items': 2152, 'ksa': 2153, 'cargo': 2154, 'equipments': 2155, 'shipment': 2156, 'linked': 2157, 'semi': 2158, 'ranjangaon': 2159, 'brain': 2160, 'publication': 2161, 'chinchwad': 2162, 'mining': 2163, 'organisation': 2164, 'gui': 2165, 'interior': 2166, 'statement': 2167, 'estimates': 2168, 'feasible': 2169, 'machines': 2170, 'german': 2171, 'a1': 2172, 'flows': 2173, 'statistical': 2174, 'either': 2175, 'book': 2176, '22': 2177, 'resolved': 2178, 'feasibility': 2179, 'depending': 2180, 'timeframe': 2181, 'consumed': 2182, 'jaunpur': 2183, 'personally': 2184, 'names': 2185, 'oversight': 2186, 'director': 2187, 'oversee': 2188, 'buildings': 2189, 'together': 2190, 'break': 2191, 'bharat': 2192, 'findings': 2193, 'dimensions': 2194, 'peer': 2195, 'consistent': 2196, 'aviation': 2197, 'remediation': 2198, 'downloaded': 2199, 'obtain': 2200, 'batches': 2201, 'guide': 2202, 'rac': 2203, 'sensor': 2204, 'asia': 2205, 'introducing': 2206, 'llc': 2207, 'discussions': 2208, 'oral': 2209, 'presentations': 2210, 'initiative': 2211, 'frameworks': 2212, 'ec2': 2213, 'scaling': 2214, 'recruit': 2215, 'commands': 2216, 'financials': 2217, 'brainstorming': 2218, 'window': 2219, 'compile': 2220, 'generations': 2221, 'allocation': 2222, 'additional': 2223, 'force': 2224, 'talwalkars': 2225, 'miami': 2226, 'nodes': 2227, 'consultation': 2228, 'solar': 2229, 'jntu': 2230, 'applied': 2231, 'console': 2232, 'tracked': 2233, '03': 2234, 'tieto': 2235, 'arrange': 2236, 'juniper': 2237, 'ssl': 2238, 'infra': 2239, 'trouble': 2240, 'shooting': 2241, 'useful': 2242, 'family': 2243, 'session': 2244, 'fact': 2245, 'attacks': 2246, 'computers': 2247, 'wagh': 2248, 'testng': 2249, 'enhanced': 2250, 'criminal': 2251, 'matters': 2252, 'takes': 2253, 'diagnostic': 2254, 'remedy': 2255, 'modification': 2256, 'aims': 2257, 'sld': 2258, 'layouts': 2259, 'treatment': 2260, 'enthusiastic': 2261, 'programmer': 2262, 'servlets': 2263, 'mass': 2264, 'covered': 2265, 'flotilla': 2266, 'exceed': 2267, '4000': 2268, 'landmark': 2269, 'brokers': 2270, 'customs': 2271, 'ecoflex': 2272, 'forwarding': 2273, 'pricing': 2274, 'maximizing': 2275, 'profits': 2276, 'destinations': 2277, 'gcc': 2278, 'reasonable': 2279, 'shore': 2280, 'volumes': 2281, '9001': 2282, 'hour': 2283, 'truck': 2284, 'egypt': 2285, 'inbound': 2286, 'parts': 2287, 'idt': 2288, 'cmc': 2289, 'universes': 2290, 'reference': 2291, 'tower': 2292, 'ba': 2293, 'sale': 2294, 'technological': 2295, 'reduction': 2296, 'rds': 2297, 'dump': 2298, 'kisan': 2299, 'country': 2300, 'promote': 2301, 'bring': 2302, 'discussion': 2303, 'flask': 2304, 'functioning': 2305, 'minimize': 2306, 'hereby': 2307, 'amount': 2308, 'maruti': 2309, 'finish': 2310, 'housing': 2311, 'personnel': 2312, 'competency': 2313, 'close': 2314, 'estimated': 2315, 'feedbacks': 2316, 'quantitative': 2317, 'priority': 2318, 'funding': 2319, 'learned': 2320, 'ppt': 2321, 'calibration': 2322, 'lifestyle': 2323, 'scikit': 2324, 'leave': 2325, 'explorer': 2326, 'facts': 2327, 'fzco': 2328, 'kick': 2329, 'clarification': 2330, 'em': 2331, 'revised': 2332, 'proto': 2333, 'sis': 2334, 'fgs': 2335, 'amc': 2336, 'tps': 2337, 'pu': 2338, 'downloading': 2339, 'r410': 2340, 'fdm': 2341, 'fox': 2342, 'perfect': 2343, 'abilities': 2344, 'steps': 2345, 'priorities': 2346, 'specialty': 2347, 'birthday': 2348, 'kind': 2349, 'wan': 2350, 'ipsec': 2351, 'matplotlib': 2352, 'bot': 2353, 'dc': 2354, 'chat': 2355, 'push': 2356, 'servereducation': 2357, 'respond': 2358, 'inquiries': 2359, 'minimizing': 2360, 'losses': 2361, 'axis': 2362, 'venture': 2363, 'infotek': 2364, 'yalamanchili': 2365, 'ftc': 2366, 'terminals': 2367, 'transmitter': 2368, 'child': 2369, 'treasury': 2370, 'corporations': 2371, 'broker': 2372, 'dealer': 2373, 'escalated': 2374, 'assessments': 2375, 'initiate': 2376, 'transitions': 2377, 'hires': 2378, 'siebel': 2379, 'addressed': 2380, '95': 2381, 'columbia': 2382, '34': 2383, '125': 2384, 'responsiblites': 2385, 'deliery': 2386, 'mom': 2387, 'chasing': 2388, 'rr': 2389, 'deputation': 2390, 'invoicings': 2391, 'activites': 2392, 'invocing': 2393, 'cem': 2394, 'sdm': 2395, 'save': 2396, 'towers': 2397, 'tofa': 2398, 'tailgating': 2399, 'asall': 2400, 'drivekey': 2401, 'roadblocks': 2402, 'compliancereport': 2403, 'quarter': 2404, 'allowances': 2405, 'milestone': 2406, 'ratio': 2407, 'merchant': 2408, 'ab': 2409, 'nat': 2410, 'mpls': 2411, 'eigrp': 2412, 'ospf': 2413, 'tftp': 2414, 'violation': 2415, 'printers': 2416, 'villa': 2417, 'shield': 2418, 'hospitals': 2419, 'select': 2420, 'id': 2421, 'approach': 2422, 'consumer': 2423, 'protect': 2424, 'employment': 2425, 'exp': 2426, 'minimal': 2427, 'procedure': 2428, 'agent': 2429, 'evaluating': 2430, 'environmental': 2431, 'representative': 2432, 'smoothly': 2433, 'toad': 2434, 'saved': 2435, 'structures': 2436, 'organizations': 2437, 'counselling': 2438, 'qualities': 2439, 'mentoring': 2440, 'facilities': 2441, 'automatically': 2442, 'agreement': 2443, 'scalable': 2444, 'start': 2445, 'calculations': 2446, 'rate': 2447, 'infotech': 2448, 'gandhi': 2449, 'rule': 2450, 'filter': 2451, 'union': 2452, 'commitment': 2453, 'spot': 2454, 'format': 2455, 'ecosystems': 2456, 'pharmaceutical': 2457, 'innovation': 2458, 'agriculture': 2459, 'maxgen': 2460, 'documenting': 2461, 'sheets': 2462, 'sass': 2463, 'brackets': 2464, 'raisoni': 2465, 'photography': 2466, 'click': 2467, 'renovated': 2468, 'maintainable': 2469, 'optimised': 2470, 'guidelines': 2471, 'incorporated': 2472, 'integrate': 2473, 'payers': 2474, 'additionally': 2475, 'register': 2476, 'analytica': 2477, 'analytika': 2478, 'shows': 2479, 'liability': 2480, 'tsr': 2481, 'vidarbha': 2482, 'op': 2483, 'gisss': 2484, 'softtrust': 2485, 'jallosh': 2486, 'endeavor': 2487, '10magicalfingers': 2488, 'improvements': 2489, 'grade': 2490, 'stress': 2491, 'shegaon': 2492, 'lighting': 2493, 'lightning': 2494, 'finalize': 2495, 'collaborated': 2496, 'patch': 2497, 'aurus': 2498, 'license': 2499, 'mca': 2500, 'versed': 2501, 'states': 2502, 'compliances': 2503, 'obsolete': 2504, 'commodities': 2505, 'acquiring': 2506, 'housekeeping': 2507, 'executives': 2508, 'reported': 2509, 'land': 2510, 'supervised': 2511, 'soliciting': 2512, 'sorted': 2513, 'item': 2514, 'connection': 2515, 'decisions': 2516, 'railway': 2517, 'salcluster': 2518, 'pages': 2519, 'common': 2520, 'selling': 2521, 'confidence': 2522, 'sit': 2523, 'row': 2524, 'pimpri': 2525, '37': 2526, 'dataiku': 2527, 'storing': 2528, 'lake': 2529, 'reconciliations': 2530, 'recs': 2531, 'previous': 2532, 'ace': 2533, 'andheri': 2534, 'supervision': 2535, 'rfqs': 2536, 'uracy': 2537, 'assign': 2538, 'tenders': 2539, 'obtaining': 2540, 'collaborate': 2541, 'professionally': 2542, 'exact': 2543, 'tender': 2544, 'awareness': 2545, 'lf': 2546, 'pusad': 2547, 'index': 2548, 'labor': 2549, 'interpret': 2550, 'variance': 2551, 'professor': 2552, 'frequency': 2553, 'still': 2554, 'mid': 2555, 'approval': 2556, 'terminal': 2557, 'apply': 2558, 'highway': 2559, 'xoriant': 2560, 'bas': 2561, 'factors': 2562, 'frd': 2563, 'follet': 2564, 'difficult': 2565, 'bca': 2566, 'specs': 2567, 'assists': 2568, 'recommended': 2569, 'kunal': 2570, 'disciplines': 2571, 'yarn': 2572, 'exported': 2573, 'versa': 2574, 'scale': 2575, 'producing': 2576, 'contributors': 2577, 'rave': 2578, 'breaker': 2579, 'vertical': 2580, 'valve': 2581, 'cd': 2582, 'ora': 2583, 'tablespace': 2584, 'pilot': 2585, 'edc': 2586, 'breweries': 2587, 'championship': 2588, 'broad': 2589, 'translate': 2590, 'fun': 2591, 'granting': 2592, 'panchakarma': 2593, 'stocks': 2594, 'datapump': 2595, 'nosql': 2596, 'rlm': 2597, 'importing': 2598, 'rockwell': 2599, 'icici': 2600, 'promotional': 2601, 'intertek': 2602, 'clarifying': 2603, 'stages': 2604, 'inlight': 2605, 'tango': 2606, 'corel': 2607, 'illustrator': 2608, 'virtuous': 2609, 'adobe': 2610, 'studying': 2611, 'gives': 2612, 'skilled': 2613, 'submitted': 2614, 'login': 2615, 'zensar': 2616, 'watching': 2617, 'thus': 2618, 'profiler': 2619, 'failover': 2620, 'trading': 2621, 'indoor': 2622, 'xillinx': 2623, 'modelsim': 2624, 'multisim': 2625, 'fpga': 2626, 'encryption': 2627, 'cryptography': 2628, 'secret': 2629, '230': 2630, 'sorts': 2631, 'rgb': 2632, 'balls': 2633, 'ward': 2634, 'interfacing': 2635, '2002': 2636, 'b1': 2637, 'seattle': 2638, 'symbiosis': 2639, 'cloudformation': 2640, 'template': 2641, 'dynamo': 2642, 'bean': 2643, 'stalk': 2644, 'appdynamics': 2645, 'chance': 2646, 'hired': 2647, 'eip': 2648, 'trigger': 2649, 'puppet': 2650, 'farms': 2651, 'boxes': 2652, 'tsys': 2653, 'rhds': 2654, 'vdi': 2655, 'aix': 2656, 'caters': 2657, 'imaging': 2658, 'scanned': 2659, 'l1': 2660, 'visited': 2661, 'eprocess': 2662, 'trexo': 2663, 'older': 2664, 'canada': 2665, 'dealing': 2666, 'hosting': 2667, 'come': 2668, 'analyse': 2669, 'contractors': 2670, 'specified': 2671, 'preparations': 2672, 'copy': 2673, 'stakeholder': 2674, 'budgeting': 2675, 'removing': 2676, 'desired': 2677, 'strictly': 2678, 'liaison': 2679, 'maintains': 2680, 'audio': 2681, 'efficiently': 2682, 'situations': 2683, 'stp': 2684, 'flash': 2685, 'buy': 2686, 'fixers': 2687, 'sinks': 2688, 'configura': 2689, 'tion': 2690, 'war': 2691, 'ear': 2692, 'jar': 2693, 'mul': 2694, 'tiple': 2695, 'respectively': 2696, 'bangkok': 2697, 'thaitrade': 2698, 'simultaneous': 2699, 'leases': 2700, 'conflicts': 2701, 'propagation': 2702, 'testers': 2703, 'holdings': 2704, 'sellers': 2705, 'bblwtp': 2706, 'subversion': 2707, 'deploys': 2708, 'guard': 2709, 'instruments': 2710, 'press': 2711, 'indexes': 2712, 'option': 2713, 'intent': 2714, 'tidal': 2715, 'debugger': 2716, 'award': 2717, 'sell': 2718, 'debit': 2719, 'attributes': 2720, 'headquartered': 2721, 'city': 2722, 'treasurer': 2723, 'scoe': 2724, 'aissms': 2725, 'random': 2726, 'ccna': 2727, 'hobbies': 2728, 'dapps': 2729, 'mean': 2730, 'seniors': 2731, 'retailers': 2732, 'chandrapur': 2733, 'ensono': 2734, 'passing': 2735, 'supervisor': 2736, 'shri': 2737, '30th': 2738, 'section': 2739, 'ecommerce': 2740, 'mgm': 2741, 'dossier': 2742, 'andrews': 2743, 'dim': 2744, 'brokerage': 2745, 'candidates': 2746, 'germany': 2747, 'dispatch': 2748, 'average': 2749, 'marine': 2750, 'streamlining': 2751, 'drivers': 2752, 'walk': 2753, 'cv': 2754, 'biar': 2755, 'partition': 2756, 'poc': 2757, 'folders': 2758, 'limitations': 2759, 'interactive': 2760, 'rdd': 2761, 'community': 2762, 'confident': 2763, 'words': 2764, 'analytic': 2765, 'gst': 2766, 'posting': 2767, 'trace': 2768, 'estimating': 2769, 'nodejs': 2770, 'zhypility': 2771, 'strategizing': 2772, 'hackthon': 2773, 'rome': 2774, 'jio': 2775, 'nearby': 2776, 'women': 2777, 'kgp': 2778, 'mit': 2779, 'na': 2780, 'numbers': 2781, 'initial': 2782, 'hub': 2783, 'pipeline': 2784, 'agro': 2785, 'hingna': 2786, 'metal': 2787, 'fab': 2788, 'automotive': 2789, 'fresher': 2790, 'experiance': 2791, 'th': 2792, 'semister': 2793, 'kranti': 2794, 'soap': 2795, 'scrapping': 2796, '9x': 2797, 'uae': 2798, 'pcc': 2799, 'assistence': 2800, 'motivated': 2801, 'ready': 2802, '1995': 2803, 'outside': 2804, 'sizing': 2805, 'rotary': 2806, 'fabricated': 2807, 'manufactured': 2808, 'technically': 2809, 'saving': 2810, 'examine': 2811, 'arrival': 2812, 'duncan': 2813, 'petrochemical': 2814, 'fruitful': 2815, 'rotex': 2816, 'assemblies': 2817, '02': 2818, 'utr': 2819, 'scraping': 2820, 'techn': 2821, 'cl': 2822, 'ile': 2823, 'qualitative': 2824, 'productive': 2825, '47': 2826, 'travelled': 2827, 'approvals': 2828, 'mistakes': 2829, '05': 2830, 'inovics': 2831, 'urllib': 2832, 'conglomerate': 2833, 'petronet': 2834, 'dataset': 2835, 'tensor': 2836, 'cms': 2837, 'teacher': 2838, 'collections': 2839, 'dictionary': 2840, 'regularization': 2841, 'fields': 2842, 'displayed': 2843, 'navigated': 2844, 'plants': 2845, 'breakdown': 2846, 'ranging': 2847, 'roi': 2848, 'matter': 2849, 'advantage': 2850, 'gathered': 2851, 'offs': 2852, 'device': 2853, 'answer': 2854, 'apex': 2855, 'vanet': 2856, 'parson': 2857, 'brings': 2858, 'waves': 2859, 'jharkhand': 2860, 'auxledger': 2861, 'lots': 2862, 'otc': 2863, 'ripple': 2864, 'fabric': 2865, 'continue': 2866, 'loyalty': 2867, 'reminder': 2868, 'parking': 2869, 'react': 2870, 'divisions': 2871, 'advert': 2872, 'provisioning': 2873, 'datamart': 2874, 'knn': 2875, 'fetching': 2876, 'sgd': 2877, 'ner': 2878, 'cassandra': 2879, 'relations': 2880, 'reputation': 2881, 'kingdom': 2882, 'capturing': 2883, 'directors': 2884, 'rgpv': 2885, 'generator': 2886, 'servicing': 2887, 'pt': 2888, 'statistics': 2889, 'solidworks': 2890, 'sanarco': 2891, 'jaipur': 2892, 'orgnization': 2893, 'eg': 2894, 'yallaspree': 2895, 'railtiffin': 2896, 'olite': 2897, 'responding': 2898, 'cabling': 2899, 'vfd': 2900, 'loads': 2901, 'tsqlrow': 2902, 'dimension': 2903, 'led': 2904, 'gate': 2905, 'ledger': 2906, 'gained': 2907, 'larsen': 2908, 'bpt': 2909, 'dcmtk': 2910, 'quest': 2911, 'archiving': 2912, 'backlog': 2913, 'collaborative': 2914, 'validated': 2915, 'navi': 2916, 'poona': 2917, 'continuously': 2918, 'seasonal': 2919, 'promotions': 2920, 'aspire': 2921, '360': 2922, 'hexad': 2923, 'consolidation': 2924, 'remediated': 2925, 'must': 2926, 'therefore': 2927, 'fiori': 2928, 'fortinet': 2929, 'latest': 2930, 'prime': 2931, 'ios': 2932, '2960': 2933, 'w': 2934, 'surfing': 2935, 'enhancing': 2936, 'cycles': 2937, 'bus': 2938, 'centos': 2939, 'ignou': 2940, 'organising': 2941, 'essential': 2942, '45': 2943, 'cooling': 2944, 'nutritionist': 2945, 'learnt': 2946, 'segments': 2947, 'command': 2948, 'teachers': 2949, 'airtel': 2950, '7education': 2951, 'clusters': 2952, 'migrating': 2953, 'multitasking': 2954, 'grow': 2955, 'timeline': 2956, 'solve': 2957, 'jalgaon': 2958, 'failed': 2959, 'mutually': 2960, 'captured': 2961, 'ordinating': 2962, 'foot': 2963, 'refreshers': 2964, 'young': 2965, 'initiatives': 2966, 'cloning': 2967, 'logical': 2968, 'standalone': 2969, 'logins': 2970, 'ordinator': 2971, 'notification': 2972, 'emea': 2973, 'exercise': 2974, 'escalations': 2975, 'citi': 2976, 'hsbc': 2977, 'players': 2978, 'lifekonnect': 2979, 'centres': 2980, 'undertaken': 2981, 'palo': 2982, 'alto': 2983, 'ltm': 2984, 'ethernet': 2985, 'vlans': 2986, 'hopping': 2987, 'qualifier': 2988, 'workflows': 2989, 'screens': 2990, 'downstream': 2991, 'put': 2992, 'reusable': 2993, 'police': 2994, 'prototyping': 2995, 'rs': 2996, 'iot': 2997, 'password': 2998, 'correcting': 2999, 'bulk': 3000, 'courts': 3001, 'regards': 3002, 'thakur': 3003, 'transforms': 3004, 'http': 3005, 'shift': 3006, 'equities': 3007, 'mc': 3008, 'eplan': 3009, 'punjab': 3010, 'vidya': 3011, 'diagram': 3012, 'whole': 3013, 'awarded': 3014, 'prakash': 3015, 'reliability': 3016, 'west': 3017, 'agency': 3018, 'schemes': 3019, 'billion': 3020, 'mobilization': 3021, 'owned': 3022, 'sharjah': 3023, 'purchases': 3024, 'purposes': 3025, 'chart': 3026, 'suggest': 3027, 'eta': 3028, 'regions': 3029, 'firm': 3030, 'graphs': 3031, 'msc': 3032, 'deals': 3033, 'converting': 3034, 'sciences': 3035, 'taken': 3036, 'softwares': 3037, 'loans': 3038, 'voice': 3039, 'red': 3040, 'bayes': 3041, 'seamlessly': 3042, 'intermediate': 3043, 'ha': 3044, 'regex': 3045, 'declare': 3046, 'earliest': 3047, 'discipline': 3048, 'mnu': 3049, 'operated': 3050, 'walkthroughs': 3051, 'independently': 3052, 'structural': 3053, 'honesty': 3054, 'om': 3055, 'belief': 3056, 'piping': 3057, 'manuals': 3058, 'reliable': 3059, 'ce': 3060, 'scratch': 3061, 'fault': 3062, 'outcomes': 3063, 'official': 3064, 'exception': 3065, 'pas': 3066, 'liaise': 3067, 'ensures': 3068, 'powerful': 3069, 'heading': 3070, 'variation': 3071, 'ethics': 3072, 'submittal': 3073, 'progressing': 3074, 'thorough': 3075, 'expert': 3076, 'webservices': 3077, 'utilize': 3078, 'hpqc': 3079, 'integrator': 3080, 'electronic': 3081, 'medium': 3082, 'passed': 3083, 'output': 3084, 'suited': 3085, 'marital': 3086, 'assisted': 3087, 'portfolio': 3088, 'targeted': 3089, 'suite': 3090, 'develops': 3091, 'bringing': 3092, 'contents': 3093, 'shivaji': 3094, 'conventional': 3095, 'assistance': 3096, 'extensive': 3097, 'organisational': 3098, 'sybase': 3099, 'siemens': 3100, 'institutions': 3101, 'participation': 3102, 'periodic': 3103, 'pyspark': 3104, 'scd2': 3105, 'churn': 3106, 'moved': 3107, 'golden': 3108, 'mode': 3109, 'enquiry': 3110, 'logging': 3111, 'smec': 3112, 'datacenter': 3113, 'handover': 3114, 'juniors': 3115, 'scan': 3116, '000': 3117, 'vip': 3118, 'e2e': 3119, 'advisor': 3120, 'kt': 3121, '100': 3122, 'duty': 3123, 'supports': 3124, 'many': 3125, 'share': 3126, 'willingness': 3127, 'exhibition': 3128, 'xampp': 3129, 'vodafone': 3130, 'kurla': 3131, 'fire': 3132, 'pf': 3133, 'mi': 3134, 'steady': 3135, 'telephone': 3136, 'stop': 3137, 'japan': 3138, 'totally': 3139, 'tour': 3140, 'measurements': 3141, 'contacting': 3142, 'look': 3143, 'properties': 3144, 'pi': 3145, 'fi': 3146, 'libraries': 3147, 'diabetes': 3148, 'researching': 3149, 'odata': 3150, 'communicator': 3151, 'ise': 3152, 'automatic': 3153, 'craft': 3154, 'bcp': 3155, 'mails': 3156, 'setups': 3157, 'skillset': 3158, 'enable': 3159, '84': 3160, 'scanners': 3161, 'pro': 3162, '97': 3163, '44': 3164, 'hospitality': 3165, 'vmware': 3166, 'symantec': 3167, 'expression': 3168, 'everywhere': 3169, 'trusted': 3170, 'labour': 3171, 'hodoop': 3172, 'wanted': 3173, 'behavior': 3174, 'placed': 3175, 'complied': 3176, 'write': 3177, 'pfizer': 3178, 'ddr': 3179, 'robotics': 3180, 'preprocessing': 3181, 'taught': 3182, 'era': 3183, 'executions': 3184, 'inventories': 3185, 'approve': 3186, 'addition': 3187, 'reading': 3188, 'adaptability': 3189, 'briefing': 3190, 'weblogic12c': 3191, 'webserver': 3192, 'geneva': 3193, 'preformed': 3194, 'staa': 3195, 'weblogic': 3196, 'scom': 3197, 'indira': 3198, 'participating': 3199, 'rca': 3200, 'fund': 3201, 'indent': 3202, 'mailing': 3203, 'introductory': 3204, 'atex': 3205, 'nfpa': 3206, 'iec': 3207, 'nec': 3208, 'sant': 3209, 'gajanan': 3210, 'maharaj': 3211, 'hazardous': 3212, 'outdoor': 3213, 'trench': 3214, 'duct': 3215, 'voltage': 3216, 'bidding': 3217, 'fm': 3218, 'derby': 3219, 'debugged': 3220, 'confirm': 3221, 'alleviate': 3222, '32': 3223, 'programing': 3224, 'mec': 3225, 'forms': 3226, 'technique': 3227, 'detect': 3228, 'firms': 3229, 'carrier': 3230, 'airlines': 3231, 'ordinated': 3232, 'serving': 3233, 'generic': 3234, 'representing': 3235, 'metadata': 3236, 'nordea': 3237, 'wise': 3238, 'scm': 3239, 'prices': 3240, 'lstm': 3241, 'sps12': 3242, 'attribute': 3243, 'boot': 3244, 'beans': 3245, 'achievement': 3246, 'return': 3247, 'omegasoft': 3248, 'technicalskills': 3249, 'springmvc': 3250, 'azureweb': 3251, 'suntechnologies': 3252, 'restapi': 3253, 'opensourcetechnologies': 3254, 'webservers': 3255, 'apachetomcatserver': 3256, 'internettechnologiesand': 3257, 'onesignalwebpushnotifications': 3258, 'azurewebservices': 3259, 'operatingsystem': 3260, 'windowsserver2012r2': 3261, 'winxp': 3262, 'sapkal': 3263, 'replete': 3264, 'samarth': 3265, 'exhibitions': 3266, 'owner': 3267, 'intern': 3268, 'schlumberger': 3269, 'joins': 3270, 'machinery': 3271, 'attract': 3272, 'unravel': 3273, 'hue': 3274, 'lineage': 3275, 'focus': 3276, 'stability': 3277, 'utilizations': 3278, 'benchmark': 3279, 'greenplum': 3280, 'ubc': 3281, 'speed': 3282, 'ds': 3283, 'almighty': 3284, 'beautiful': 3285, '42': 3286, 'quantities': 3287, '1993': 3288, 'trips': 3289, 'question': 3290, 'remain': 3291, 'gauge': 3292, 'matric': 3293, 'fighting': 3294, 'committee': 3295, 'parola': 3296, 'dist': 3297, 'aurangabad': 3298, 'limits': 3299, 'gsk': 3300, 'instruction': 3301, 'geepas': 3302, 'submittals': 3303, 'practices': 3304, 'builders': 3305, 'inception': 3306, 'rnn': 3307, 'similarity': 3308, 'category': 3309, 'dates': 3310, 'ext': 3311, 'soapbox': 3312, 'gondia': 3313, 'hertz': 3314, 'ulhasnagar': 3315, 'hexaware': 3316, 'could': 3317, 'interviews': 3318, 'early': 3319, 'background': 3320, 'lab': 3321, 'iqvia': 3322, 'pay': 3323, 'located': 3324, 'internally': 3325, 'wqr': 3326, 'llb': 3327, 'birth': 3328, 'listed': 3329, 'architects': 3330, 'incentive': 3331, 'gcp': 3332, 'seaborn': 3333, 'cufflinks': 3334, 'emphasis': 3335, 'brief': 3336, 'unstructured': 3337, 'bluemix': 3338, 'sklearn': 3339, 'keras': 3340, 'father': 3341, 'mm': 3342, 'kibana': 3343, 'docker': 3344, 'negative': 3345, 'holy': 3346, 'beyond': 3347, 'finder': 3348, 'sociology': 3349, 'sophia': 3350, 'applicants': 3351, 'grants': 3352, 'attractive': 3353, 'opportunity': 3354, 'millions': 3355, 'assets': 3356, 'contributing': 3357, 'posters': 3358, 'publicity': 3359, 'leaflets': 3360, 'attracting': 3361, 'venue': 3362, 'transmission': 3363, 'interviewees': 3364, 'selecting': 3365, 'presenters': 3366, 'recorded': 3367, 'copyrights': 3368, 'cleared': 3369, 'sonic': 3370, 'xs': 3371, 'kva': 3372, 'kirloskar': 3373, 'relays': 3374, 'sf6': 3375, 'circuit': 3376, 'transformer': 3377, 'battery': 3378, 'kw': 3379, 'contactor': 3380, 'profitability': 3381, 'awr': 3382, 'expdp': 3383, 'san': 3384, 'propose': 3385, 'ghatkopar': 3386, 'ymca': 3387, 'cs': 3388, 'steering': 3389, 'optimum': 3390, 'gulbarga': 3391, 'iii': 3392, 'postgressql': 3393, 'wai': 3394, 'kisanveer': 3395, 'refcon': 3396, 'starters': 3397, 'martial': 3398, 'medals': 3399, 'v10': 3400, 'viability': 3401, 'guiding': 3402, 'notices': 3403, 'tie': 3404, 'specifically': 3405, 'dataguard': 3406, 'toubro': 3407, 'markets': 3408, 'tez': 3409, 'collected': 3410, 'org': 3411, 'even': 3412, 'mms': 3413, 'ax': 3414, 'lecturer': 3415, 'cit': 3416, 'shubhankan': 3417, 'houses': 3418, 'matelabs': 3419, 'conveyor': 3420, 'studies': 3421, 'glyphisoft': 3422, 'exceptional': 3423, 'doors': 3424, 'jformdesigner': 3425, 'd365': 3426, 'questionnaire': 3427, 'allcargo': 3428, 'salesperson': 3429, 'consent': 3430, 'netweaver': 3431, 'sd': 3432, 'translation': 3433, 'nafjan': 3434, 'abad': 3435, 'ofj': 3436, 'showrooms': 3437, 'predict': 3438, 'braindatawire': 3439, 'versions': 3440, 'graphical': 3441, 'owners': 3442, 'complain': 3443, 'china': 3444, 'suggestion': 3445, 'print': 3446, 'weight': 3447, '350': 3448, 'authorization': 3449, 'aware': 3450, 'raise': 3451, 'edge': 3452, 'listening': 3453, 'optimized': 3454, 'conformance': 3455, 'browser': 3456, 'facilitate': 3457, 'prioritizing': 3458, 'pick': 3459, 'generally': 3460, 'creative': 3461, 'failure': 3462, 'scheduler': 3463, 'perspective': 3464, 'eliminated': 3465, 'patients': 3466, 'meraki': 3467, '79': 3468, 'mutual': 3469, 'ldap': 3470, 'fundamentals': 3471, 'wealth': 3472, 'zero': 3473, 'engagements': 3474, 's3': 3475, 'incremental': 3476, 'choice': 3477, 'walchand': 3478, 'exceeded': 3479, 'confluence': 3480, 'eligible': 3481, 'linguistic': 3482, 'frequent': 3483, 'polices': 3484, 'fair': 3485, 'especially': 3486, 'sccm': 3487, 'rhel': 3488, 'balancers': 3489, '3600': 3490, 'catalyst': 3491, '4500': 3492, 'expenditure': 3493, 'formerly': 3494, 'introduction': 3495, 'webdriver': 3496, 'ice': 3497, 'annotations': 3498, 'officeeducation': 3499, 'swift': 3500, 'universal': 3501, 'bt': 3502, 'pp': 3503, 'geo': 3504, 'thermal': 3505, 'niketan': 3506, 'schneider': 3507, 'charge': 3508, 'computerized': 3509, 'ie': 3510, 'sage': 3511, 'lm': 3512, 'wms': 3513, '050education': 3514, 'landmarkgroup': 3515, 'turnover': 3516, '2200': 3517, 'cr': 3518, 'cheque': 3519, 'correctly': 3520, 'underwriting': 3521, 'costings': 3522, 'followups': 3523, 'trippereri': 3524, 'travels': 3525, 'looked': 3526, 'vish': 3527, 'distributor': 3528, 'amenities': 3529, 'incharge': 3530, 'overlooking': 3531, 'cha': 3532, 'quickest': 3533, 'adhered': 3534, 'rebates': 3535, 'availed': 3536, 'exim': 3537, 'satisfied': 3538, 'obstacles': 3539, 'faced': 3540, 'smoothened': 3541, 'hassel': 3542, 'paybles': 3543, 'manufacture': 3544, 'shortfalls': 3545, 'fze': 3546, 'sophisticated': 3547, 'revenues': 3548, 'excess': 3549, 'eur': 3550, 'annually': 3551, 'acquire': 3552, 'economical': 3553, 'eye': 3554, 'negotiate': 3555, 'charges': 3556, 'americas': 3557, 'snag': 3558, 'loopholes': 3559, 'deadline': 3560, 'transporters': 3561, 'clearances': 3562, 'transportation': 3563, 'loss': 3564, 'european': 3565, 'curtail': 3566, 'wastages': 3567, 'disposal': 3568, 'retired': 3569, 'distributions': 3570, 'receipt': 3571, 'affecting': 3572, 'punctuality': 3573, 'vacation': 3574, 'expired': 3575, 'aligned': 3576, 'procuring': 3577, 'registrations': 3578, 'factories': 3579, 'picking': 3580, 'packing': 3581, 'aed': 3582, 'sabic': 3583, 'discrepancy': 3584, 'stocking': 3585, 'abridged': 3586, 'decrease': 3587, 'turnaround': 3588, 'kuehne': 3589, 'nagel': 3590, 'seafreight': 3591, 'airfreight': 3592, 'overland': 3593, 'negotiated': 3594, 'routes': 3595, 'carriers': 3596, 'essayed': 3597, 'nations': 3598, 'marriot': 3599, 'hilton': 3600, 'movements': 3601, 'far': 3602, 'amman': 3603, 'exit': 3604, 'grievances': 3605, 'courrier': 3606, 'wholly': 3607, 'dpwn': 3608, 'deutsche': 3609, 'ountholders': 3610, 'tracing': 3611, 'undelivered': 3612, 'paperworks': 3613, 'warrants': 3614, 'wns': 3615, 'airlink': 3616, 'jebel': 3617, 'ali': 3618, 'barge': 3619, 'loadouts': 3620, 'adhering': 3621, 'dispatching': 3622, 'reorder': 3623, 'par': 3624, 'radiators': 3625, 'coolers': 3626, 'exchangers': 3627, 'circulating': 3628, 'memos': 3629, 'petty': 3630, 'cashiering': 3631, 'combines': 3632, 'respect': 3633, 'bmn': 3634, 'promoter': 3635, 'ugc': 3636, 'diet': 3637, 'comfortable': 3638, 'dance': 3639, 'analysing': 3640, 'individually': 3641, 'suit': 3642, 'udemy': 3643, 'kendoui': 3644, 'groomed': 3645, 'reality': 3646, 'forest': 3647, 'jupyter': 3648, 'anaconda': 3649, 'produce': 3650, 'fanuc': 3651, 'notice': 3652, 'aptech': 3653, 'arrangement': 3654, 'inform': 3655, 'arrive': 3656, '90': 3657, 'sky': 3658, 'subjects': 3659, 'character': 3660, 'synthesize': 3661, 'ification': 3662, 'macros': 3663, 'paced': 3664, 'particularly': 3665, 'formulae': 3666, 'pivots': 3667, 'saints': 3668, 'prudential': 3669, 'multiclient': 3670, 'pheonix': 3671, 'glasgow': 3672, 'transitioned': 3673, 'pmos': 3674, 'robust': 3675, 'saviant': 3676, 'seasoned': 3677, 'supportive': 3678, 'allowed': 3679, 'imaginative': 3680, 'budgeted': 3681, 'dollars': 3682, 'collate': 3683, 'outliers': 3684, 'tl': 3685, 'influence': 3686, 'yearly': 3687, 'publish': 3688, 'ministry': 3689, 'ept': 3690, 'storm': 3691, 'gujarat': 3692, 'workers': 3693, 'ai': 3694, 'practical': 3695, 'comfort': 3696, 'deltannex': 3697, 'integrators': 3698, 'outlays': 3699, 'fostering': 3700, 'teamwork': 3701, 'prioritization': 3702, 'complying': 3703, 'compilation': 3704, 'waivers': 3705, 'concessions': 3706, 'approving': 3707, 'mrn': 3708, 'closeout': 3709, 'constant': 3710, 'earlier': 3711, 'ev': 3712, 'variances': 3713, 'biweekly': 3714, 'adheres': 3715, 'ordinates': 3716, 'tqs': 3717, 'revisions': 3718, 'revision': 3719, 'seoul': 3720, 'south': 3721, 'jas': 3722, 'pc': 3723, 'ja': 3724, 'concerns': 3725, 'sides': 3726, 'invitation': 3727, 'ccvi': 3728, 'permits': 3729, 'teleconference': 3730, 'epc': 3731, 'tbes': 3732, 'fgp': 3733, 'wpmp': 3734, 'tco': 3735, 'mustang': 3736, 'sta': 3737, 'ing': 3738, 'grain': 3739, 'cbi': 3740, 'tanker': 3741, 'miscellaneous': 3742, 'cord': 3743, 'appreciations': 3744, 'mx8800': 3745, 'ccr1': 3746, 'offsites': 3747, 'enppi': 3748, 'ethydco': 3749, 'ethylene': 3750, '2nos': 3751, 'doubts': 3752, 'abu': 3753, 'dhabi': 3754, 'plant6': 3755, 'ml200': 3756, 'tunnel': 3757, 'chevron': 3758, 'oronite': 3759, 'singapore': 3760, 'hmiweb': 3761, '66': 3762, 'noticed': 3763, 'tgi': 3764, 'modernization': 3765, 'kh': 3766, 'nederland': 3767, 'raffinaderji': 3768, 'amsterdam': 3769, 'hg': 3770, 'cmpi': 3771, 'coil': 3772, 'balancing': 3773, 'strategically': 3774, 'ountable': 3775, 'contingency': 3776, 'advises': 3777, 'adopt': 3778, 'freeze': 3779, 'iron': 3780, 'ambiguities': 3781, 'please': 3782, 'annexure': 3783, 'enercon': 3784, 'inverter': 3785, 'converter': 3786, 'igbts': 3787, 'thyristors': 3788, 'inbuilt': 3789, 'grasping': 3790, 'keeps': 3791, 'alarm': 3792, 'utm': 3793, 'hcl': 3794, 'comnet': 3795, 'body': 3796, 'cum': 3797, 'healthy': 3798, 'twice': 3799, 'arya': 3800, 'reduced': 3801, 'overview': 3802, 'indexing': 3803, 'tag': 3804, 'enabling': 3805, 'students': 3806, 'join': 3807, 'wcf': 3808, 'focused': 3809, 'dallas': 3810, 'demonstrated': 3811, 'centric': 3812, 'deft': 3813, 'delinquencies': 3814, 'dexterity': 3815, 'recoveries': 3816, 'bottom': 3817, 'quartile': 3818, 'relate': 3819, 'verticals': 3820, 'measuring': 3821, 'measured': 3822, 'appropriately': 3823, 'ctl': 3824, 'amex': 3825, 'tid': 3826, 'oceans': 3827, '73': 3828, 'pins': 3829, 'chargeback': 3830, 'replied': 3831, 'bankers': 3832, 'stringent': 3833, 'premises': 3834, 'aforesaid': 3835, 'determining': 3836, 'retain': 3837, 'ags': 3838, 'transact': 3839, 'atms': 3840, 'vertex': 3841, 'con': 3842, 'inclusion': 3843, 'cascading': 3844, 'inward': 3845, 'outward': 3846, 'foi': 3847, 'snail': 3848, 'maths': 3849, 'belt': 3850, 'vinayaka': 3851, 'missions': 3852, 'worth': 3853, 'advisors': 3854, 'bs': 3855, 'collects': 3856, '218': 3857, 'brooklyn': 3858, 'pittsburgh': 3859, 'syracuse': 3860, 'collateral': 3861, 'apac': 3862, 'fiserv': 3863, 'firre': 3864, 'tasked': 3865, 'unbilled': 3866, 'resumption': 3867, 'defense': 3868, 'ountability': 3869, 'ore': 3870, 'ordingly': 3871, 'green': 3872, 'eap': 3873, 'underperforming': 3874, 'semiannual': 3875, 'cut': 3876, 'hire': 3877, 'brainshark': 3878, 'encourage': 3879, 'competitive': 3880, 'play': 3881, 'conceptualized': 3882, 'funneling': 3883, 'breakdowns': 3884, 'toll': 3885, 'esses': 3886, 'differentiate': 3887, 'paths': 3888, 'rotation': 3889, 'recognitions': 3890, 'ais': 3891, 'bds': 3892, 'custodian': 3893, 'trustee': 3894, 'paying': 3895, 'registrar': 3896, 'billed': 3897, 'invoiced': 3898, 'mailboxes': 3899, 'equal': 3900, 'spreadsheets': 3901, 'designated': 3902, 'actioned': 3903, 'handoff': 3904, 'counterparts': 3905, 'sigma': 3906, 'ones': 3907, 'corp': 3908, 'tieriii': 3909, 'compiled': 3910, 'stb': 3911, 'flip': 3912, 'span': 3913, 'article': 3914, '29th': 3915, 'customizes': 3916, 'satisfy': 3917, '500': 3918, 'walking': 3919, 'interim': 3920, 'concerning': 3921, 'refunds': 3922, 'credits': 3923, 'queues': 3924, 'intervening': 3925, 'delayed': 3926, 'deriving': 3927, 'hurdles': 3928, 'improvise': 3929, 'expeditious': 3930, 'additions': 3931, 'commonly': 3932, 'urring': 3933, 'motivation': 3934, 'nominated': 3935, 'gecis': 3936, 'lending': 3937, 'leasing': 3938, 'outbound': 3939, 'credibility': 3940, 'absence': 3941, 'dietetics': 3942, 'instructor': 3943, 'dental': 3944, 'tortoise': 3945, 'conversation': 3946, '40': 3947, 'reverse': 3948, 'mrs': 3949, 'cpro': 3950, 'xtraction': 3951, 'rkims': 3952, 'bench': 3953, 'aspiration': 3954, 'crunch': 3955, 'wfm': 3956, 'trended': 3957, 'nld': 3958, 'elevate': 3959, 'trb': 3960, 'te': 3961, 'wims': 3962, 'sims': 3963, 'impacting': 3964, 'coordinates': 3965, 'bu': 3966, 'distribute': 3967, 'ratios': 3968, 'seat': 3969, 'pwd': 3970, 'dob': 3971, '1986': 3972, 'awvpb7123n': 3973, 'passport': 3974, 'j1409038': 3975, 'kannada': 3976, 'konkani': 3977, 'married': 3978, 'faculty': 3979, '24x7': 3980, 'likely': 3981, 'sikuli': 3982, 'expense': 3983, 'wellness': 3984, 'viamedia': 3985, 'maternal': 3986, 'nutritional': 3987, 'partner': 3988, 'secretary': 3989, 'operate': 3990, 'sculpt': 3991, 'campaigns': 3992, 'escalationseducation': 3993, 'icfai': 3994, 'eliminate': 3995, 'controllership': 3996, 'reengineering': 3997, 'charter': 3998, 'ud': 3999, 'sops': 4000, 'impacted': 4001, 'teleperformance': 4002, 'exploring': 4003, 'preferences': 4004, 'conceptualizing': 4005, 'batch': 4006, 'joiners': 4007, 'barging': 4008, 'adhoc': 4009, 'gaia': 4010, 'rsa': 4011, 'golds': 4012, 'associates': 4013, 'subnetting': 4014, 'supernetting': 4015, 'lans': 4016, 'snooping': 4017, 'aaa': 4018, 'bgp': 4019, 'telemetary': 4020, 'fan': 4021, 'sem': 4022, 'simply': 4023, 'senses': 4024, 'moisture': 4025, 'mahatma': 4026, 'acls': 4027, 'rip': 4028, '2900s': 4029, 'exec': 4030, '12d': 4031, 'cloudatix': 4032, 'wifi': 4033, 'asha': 4034, 'mmpc': 4035, 'mp': 4036, 'laptop': 4037, 'integrity': 4038, 'variety': 4039, 'awards': 4040, 'snapshot': 4041, 'relating': 4042, 'ssms': 4043, 'netezza': 4044, 'packs': 4045, 'bots': 4046, 'schemas': 4047, 'exploratory': 4048, 'ies': 4049, 'helped': 4050, 'crash': 4051, 'ids': 4052, 'manipal': 4053, 'things': 4054, 'nettech': 4055, '12k': 4056, 'movie': 4057, 'epi': 4058, 'charni': 4059, 'bills': 4060, 'sgbau': 4061, 'pertaining': 4062, 'academia': 4063, 'collaborator': 4064, 'memory': 4065, 'shop': 4066, 'rack': 4067, 'clinics': 4068, 'sanity': 4069, 'raspberry': 4070, 'speaker': 4071, 'eco': 4072, 'gender': 4073, 'garments': 4074, 'notes': 4075, 'challenging': 4076, 'ernst': 4077, 'pattern': 4078, 'economics': 4079, 'omplishments': 4080, 'rolled': 4081, 'telerik': 4082, 'tnsnames': 4083, 'addm': 4084, 'impdp': 4085, 'bse': 4086, 'disaster': 4087, 'tds': 4088, 'connect': 4089, 'iis': 4090, 'refresh': 4091, 'consistency': 4092, 'blocking': 4093, 'slow': 4094, 'obtained': 4095, 'participants': 4096, 'viewer': 4097, 'text2': 4098, 'codeigniter': 4099, 'augest': 4100, 'pragat': 4101, 'diifernt': 4102, 'ayur': 4103, 'ayurveda': 4104, 'traditionally': 4105, 'classical': 4106, 'ayurvedic': 4107, 'vitsanindia': 4108, 'shooping': 4109, 'iv': 4110, 'mahabaleshwartours': 4111, 'cityspaceindia': 4112, 'vi': 4113, 'fruitsbuddy': 4114, 'fruitbuddy': 4115, 'guaranteed': 4116, 'vii': 4117, 'totalcitee': 4118, 'visitors': 4119, 'viii': 4120, 'golchha': 4121, 'ips': 4122, 'creates': 4123, 'identity': 4124, 'mariadb': 4125, 'temporary': 4126, 'involvement': 4127, '63': 4128, 'consolidated': 4129, 'distance': 4130, 'exporting': 4131, 'schedulers': 4132, 'netbackup': 4133, 'desktop': 4134, 'mysql5': 4135, 'developement': 4136, 'innovesta': 4137, 'priyadarshini': 4138, 'conferring': 4139, 'understood': 4140, 'incorporate': 4141, 'nitka': 4142, 'mintmetrix': 4143, 'tagline': 4144, 'videos': 4145, 'smartbadge': 4146, 'shreekiaspack': 4147, '3staragroproducts': 4148, 'luckystationery': 4149, 'logos': 4150, 'brochures': 4151, 'banners': 4152, 'pamphlet': 4153, 'hoardings': 4154, 'diagnosis': 4155, 'mini': 4156, 'weekends': 4157, 'extc': 4158, 'vashi': 4159, 'fr': 4160, 'agnel': 4161, 'eligibility': 4162, 'enrollment': 4163, 'aggregator': 4164, 'normalizer': 4165, 'sorter': 4166, 'corresponding': 4167, 'figure': 4168, 'membership': 4169, 'kudos': 4170, 'values': 4171, 'navshar': 4172, 'navnirman': 4173, 'festival': 4174, 'none': 4175, 'sns': 4176, 'esd': 4177, 'employability': 4178, 'jscoe': 4179, 'sparkle': 4180, 'avishkar': 4181, 'sponsorship': 4182, 'platinum': 4183, 'enfield': 4184, 'rank': 4185, 'poster': 4186, 'ambulance': 4187, 'arduino': 4188, 'skncoe': 4189, 'competitions': 4190, 'pict': 4191, 'opencv': 4192, 'pil': 4193, 'chess': 4194, 'rubik': 4195, 'cube': 4196, 'jspm': 4197, 'jayawantrao': 4198, 'sawant': 4199, 'productively': 4200, 'wallets': 4201, 'alterations': 4202, 'checked': 4203, 'bit': 4204, 'bucket': 4205, 'ins': 4206, 'rescheduling': 4207, 'faces': 4208, 'ejb': 4209, 'jsf': 4210, 'combined': 4211, 'passionate': 4212, 'holder': 4213, '06th': 4214, 'ul': 4215, 'petroleum': 4216, 'boiler': 4217, 'sincere': 4218, 'rlt': 4219, 'trainee': 4220, 'poi': 4221, 'white': 4222, 'globalization': 4223, 'compatibility': 4224, 'stlc': 4225, 'retesting': 4226, 'ess2007': 4227, 'valuable': 4228, 'bcs': 4229, 'fromjspm': 4230, 'gross': 4231, 'counterpart': 4232, 'workaround': 4233, 'prompt': 4234, 'delay': 4235, 'weather': 4236, 'suggested': 4237, 'visualize': 4238, 'mainly': 4239, 'maharashatra': 4240, 'pal': 4241, 'deloitte': 4242, 'usi': 4243, 'sentence': 4244, 'correction': 4245, 'restructuring': 4246, 'fmcg': 4247, 'decomposition': 4248, 'bobj': 4249, 'segmentation': 4250, 'rfm': 4251, 'python3': 4252, 'verifying': 4253, 'closed': 4254, 'kpis': 4255, 'functionalities': 4256, 'centralized': 4257, 'corda': 4258, 'tendermint': 4259, 'specilaized': 4260, 'reactjs': 4261, 'angulareducation': 4262, 'blood': 4263, 'vidyashram': 4264, 'une': 4265, 'amway': 4266, 'bharti': 4267, 'scholar': 4268, 'tor': 4269, 'vergata': 4270, 'journal': 4271, 'ijar': 4272, '20656': 4273, 'reviewer': 4274, 'revolutionizing': 4275, 'ijsrd': 4276, 'maharastra': 4277, 'interns': 4278, 'drums': 4279, 'positron': 4280, 'equality': 4281, 'violence': 4282, 'native': 4283, 'planviz': 4284, 'sda': 4285, 'fujitsu': 4286, 'modifying': 4287, 'donald': 4288, 'throttle': 4289, 'race': 4290, 'stepcone': 4291, 'contest': 4292, 'gmr': 4293, 'instiute': 4294, 'enthusiast': 4295, 'started': 4296, 'syllabus': 4297, 'mscit': 4298, 'milling': 4299, 'honest': 4300, 'criculum': 4301, 'adani': 4302, 'suzuki': 4303, 'jet': 4304, 'airways': 4305, 'rd': 4306, 'seen': 4307, 'jsw': 4308, 'urja': 4309, 'assembly': 4310, 'disassembly': 4311, 'nd': 4312, 'punching': 4313, 'paddle': 4314, 'sugarcane': 4315, 'juicer': 4316, 'swing': 4317, 'fruit': 4318, 'liabrary': 4319, 'matplolib': 4320, 'ountabilities': 4321, 'testability': 4322, 'liabray': 4323, 'tk': 4324, 'dyanamics': 4325, 'nallasopara': 4326, 'encharge': 4327, 'near': 4328, 'casting': 4329, 'concrete': 4330, 'exterior': 4331, 'manpower': 4332, 'convincing': 4333, 'dependability': 4334, 'taxing': 4335, 'demanding': 4336, 'reasonably': 4337, 'stretchable': 4338, 'slots': 4339, 'cooperatively': 4340, 'shope': 4341, 'telle': 4342, 'caller': 4343, 'finserv': 4344, 'square': 4345, 'ites': 4346, 'directed': 4347, 'mgmt': 4348, 'alternatives': 4349, 'amendment': 4350, 'plotting': 4351, 'bought': 4352, 'thumb': 4353, 'realistic': 4354, 'databanks': 4355, 'readily': 4356, 'dept': 4357, 'submitting': 4358, 'pending': 4359, 'concern': 4360, 'pain': 4361, 'tailor': 4362, 'predesigned': 4363, 'chemtronics': 4364, 'commercially': 4365, 'viable': 4366, 'savings': 4367, 'finalization': 4368, 'comparisons': 4369, 'digitize': 4370, 'incoming': 4371, 'note': 4372, 'buying': 4373, 'finders': 4374, 'ask': 4375, 'quote': 4376, 'substantial': 4377, 'expenditures': 4378, 'dombivali': 4379, 'kaylan': 4380, 'pneumatics': 4381, 'comparing': 4382, 'schrader': 4383, 'modify': 4384, 'assy': 4385, 'assure': 4386, 'conformity': 4387, 'nc': 4388, 'touch': 4389, 'hods': 4390, 'iso9001': 4391, 'dealers': 4392, 'hoist': 4393, 'lifts': 4394, 'joist': 4395, 'mech': 4396, 'rabale': 4397, 'thane': 4398, 'mukand': 4399, 'marking': 4400, 'machining': 4401, 'surface': 4402, 'finishing': 4403, 'proficiencies': 4404, 'fedora': 4405, 'cent': 4406, 'ryk': 4407, 'defence': 4408, 'estimate': 4409, 'fs': 4410, 'ts': 4411, 'utp': 4412, 'ptf': 4413, 'a2': 4414, 'goethe': 4415, 'maples': 4416, 'rpgle': 4417, '6th': 4418, 'cache': 4419, 'memoization': 4420, 'pws': 4421, 'query400': 4422, 'subfiles': 4423, 'printer': 4424, 'drf': 4425, 'sqlite': 4426, 'managent': 4427, 'bamu': 4428, 'sqlit3': 4429, 'collectively': 4430, 'switched': 4431, 'example': 4432, 'templates': 4433, 'templating': 4434, 'navigation': 4435, 'pymysql': 4436, 'crud': 4437, 'routines': 4438, 'navigations': 4439, 'paginations': 4440, 'sqlalchemy': 4441, 'restfull': 4442, 'mvt': 4443, 'ray': 4444, 'glaxo': 4445, 'smith': 4446, 'kline': 4447, 'usd': 4448, 'effluent': 4449, 'method': 4450, 'certificates': 4451, 'observations': 4452, 'assuring': 4453, 'gulf': 4454, 'contracting': 4455, 'inspections': 4456, 'satisfactory': 4457, 'pertinent': 4458, 'dahej': 4459, 'importer': 4460, 'tons': 4461, 'approved': 4462, 'villas': 4463, 'vidisha': 4464, 'leaning': 4465, 'nltk': 4466, 'cosine': 4467, 'oop': 4468, 'linq': 4469, 'kendo': 4470, 'politician': 4471, 'fees': 4472, 'marks': 4473, 'expiry': 4474, 'otherwise': 4475, 'ni': 4476, 'lux': 4477, 'trial': 4478, 'notifications': 4479, 'smes': 4480, 'springernature': 4481, 'akzonobel': 4482, 'visualforce': 4483, 'streaming': 4484, 'steaming': 4485, 'drowsiness': 4486, 'detects': 4487, 'drowsy': 4488, 'condition': 4489, 'sanghavi': 4490, 'shree': 4491, 'mahavir': 4492, 'meri': 4493, 'markup': 4494, 'glassfish': 4495, 'jharnet': 4496, 'elementary': 4497, 'addressing': 4498, 'lease': 4499, 'osi': 4500, 'customize': 4501, 'byte': 4502, 'doc': 4503, 'explore': 4504, 'litecoin': 4505, 'p2p': 4506, 'lavisa': 4507, 'manageable': 4508, 'adhar': 4509, 'dapp': 4510, 'super': 4511, 'technicalproficiencies': 4512, 'domains': 4513, 'headquarters': 4514, 'operates': 4515, 'investments': 4516, 'securities': 4517, 'bonds': 4518, 'fx': 4519, 'modelers': 4520, 'cfoc': 4521, 'infa': 4522, 'powercenter': 4523, 'jun': 4524, 'advertisement': 4525, 'courter': 4526, 'egc': 4527, 'suffice': 4528, 'belonging': 4529, 'rejection': 4530, 'cognos': 4531, 'mart': 4532, 'niche': 4533, 'casualty': 4534, 'documented': 4535, 'uploaded': 4536, 'rayat': 4537, 'bahra': 4538, 'biotechnology': 4539, 'bhawana': 4540, 'aggarwal': 4541, 'bias': 4542, 'vector': 4543, 'unsupervised': 4544, 'reinforcement': 4545, 'google': 4546, 'laterally': 4547, 'reusability': 4548, '78': 4549, 'harnesses': 4550, 'artificial': 4551, 'cognitive': 4552, 'comprises': 4553, 'reasoning': 4554, 'entailed': 4555, 'monster': 4556, 'answered': 4557, 'alll1': 4558, 'nlu': 4559, 'classifications': 4560, 'predicting': 4561, 'mnb': 4562, 'bidirectional': 4563, 'whether': 4564, 'scipy': 4565, 'embedding': 4566, 'dimensionality': 4567, 'lda': 4568, 'nmf': 4569, 'visualizations': 4570, 'd3': 4571, 'investigations': 4572, 'tar': 4573, 'evidence': 4574, 'neutral': 4575, 'chatbot': 4576, 'meta': 4577, 'preforming': 4578, 'investigative': 4579, 'psychology': 4580, 'malappuram': 4581, 'bachelors': 4582, 'adoption': 4583, 'essibility': 4584, 'briefings': 4585, 'advice': 4586, 'starter': 4587, 'mould': 4588, 'alamuri': 4589, 'ratnamala': 4590, 'rajdevi': 4591, 'maharshtra': 4592, '1year': 4593, 'surya': 4594, 'wall': 4595, 'perhaps': 4596, 'ideally': 4597, 'rendering': 4598, 'easier': 4599, 'effortless': 4600, 'mortar': 4601, 'detais': 4602, 'gyandatt': 4603, 'chauhan': 4604, 'datamites': 4605, 'manipulating': 4606, 'golang': 4607, 'culturally': 4608, 'fit': 4609, 'microservices': 4610, 'consensuseducation': 4611, 'malaviya': 4612, 'kolhapur': 4613, 'tradefinex': 4614, 'registry': 4615, 'mh': 4616, 'infactor': 4617, 'factoring': 4618, 'erc': 4619, 'oro': 4620, 'orowealth': 4621, 'commision': 4622, 'mf': 4623, '22k': 4624, 'cakephp': 4625, 'passengers': 4626, 'customisation': 4627, 'endpoints': 4628, 'opencart': 4629, 'ka': 4630, 'birst': 4631, 'acquired': 4632, 'abb': 4633, 'certifications': 4634, 'guru': 4635, 'nanak': 4636, 'emperor': 4637, 'cars': 4638, 'sportsmen': 4639, 'tournaments': 4640, 'workbench': 4641, 'redshift': 4642, 'athena': 4643, 'kochi': 4644, 'francis': 4645, 'tjdbcconfiguration': 4646, 'tjdbcinput': 4647, 'thdfsconfiguration': 4648, 'ts3configuration': 4649, 'tcacheout': 4650, 'tcachein': 4651, 'tfileinputdelimited': 4652, 'tfileoutputdelimited': 4653, 'tjoin': 4654, 'treplicate': 4655, 'tparallelize': 4656, 'tconverttype': 4657, 'taggregate': 4658, 'tsortrow': 4659, 'tflowmeter': 4660, 'tlogcatcher': 4661, 'trowgenerator': 4662, 'tjava': 4663, 'tjavarow': 4664, 'taggregaterow': 4665, 'tfilter': 4666, 'naming': 4667, 'joblets': 4668, 'trunjob': 4669, 'pass': 4670, 'expressions': 4671, 'implicit': 4672, 'variables': 4673, 'counts': 4674, 'tparalleize': 4675, 'thread': 4676, 'subjobs': 4677, 'parallel': 4678, 'increases': 4679, 'tfilelist': 4680, 'ts3put': 4681, 'tftput': 4682, 'tfileexist': 4683, 'tftpconnection': 4684, 'flatfiles': 4685, 'variable': 4686, 'profound': 4687, 'andhra': 4688, 'utilising': 4689, 'ties': 4690, 'integrating': 4691, 'mostly': 4692, 'tweets': 4693, 'evaluated': 4694, 'missing': 4695, 'kanban': 4696, 'extreme': 4697, 'fdd': 4698, 'modular': 4699, 'runner': 4700, 'bugzilla': 4701, 'tcp': 4702, 'https': 4703, '109': 4704, '69': 4705, 'discussed': 4706, 'explained': 4707, 'changing': 4708, 'published': 4709, 'epics': 4710, 'grooming': 4711, 'stand': 4712, 'retrospective': 4713, 'came': 4714, 'controlflash': 4715, 'comparetool': 4716, 'fda': 4717, 'initiating': 4718, 'guided': 4719, 'descriptive': 4720, 'scenario': 4721, 'hdfc': 4722, 'vistaar': 4723, 'referred': 4724, 'sanitary': 4725, 'v2002': 4726, 'approaches': 4727, 'bancs': 4728, 'los': 4729, 'credence': 4730, 'scd1': 4731, 'sever': 4732, 'preserving': 4733, 'sdk': 4734, 'wdeploy': 4735, 'separate': 4736, 'vintela': 4737, 'sso': 4738, 'clock': 4739, 'sec': 4740, 'ramesh': 4741, 'gaarment': 4742, 'tirupur': 4743, 'yashwantrao': 4744, 'chavan': 4745, 'hgs': 4746, '16th': 4747, 'retaing': 4748, 'casa': 4749, 'shopkeeper': 4750, 'signup': 4751, 'mahal': 4752, '04th': 4753, 'gegenerat': 4754, 'bunglows': 4755, 'plots': 4756, 'bookmyflat': 4757, 'outlier': 4758, 'vessel': 4759, 'condenser': 4760, 'khadakwasla': 4761, 'laboratory': 4762, 'harbor': 4763, 'goa': 4764, 'bangladesh': 4765, 'maker': 4766, 'servo': 4767, 'axial': 4768, 'piston': 4769, 'cwprs': 4770, 'v5': 4771, 'proe': 4772, 'curricular': 4773, 'coordinator': 4774, 'readiness': 4775, 'atributes': 4776, 'preferred': 4777, 'minimum': 4778, 'trend': 4779, 'interests': 4780, 'tournament': 4781, 'thee': 4782, 'volunteer': 4783, 'tricks': 4784, 'moledina': 4785, '104': 4786, 'f2': 4787, 'applauded': 4788, 'ranked': 4789, 'superior': 4790, 'honoree': 4791, 'thereby': 4792, 'discount': 4793, 'know': 4794, 'saral': 4795, 'starting': 4796, 'gratuity': 4797, 'ver': 4798, 'btech': 4799, 'willingdon': 4800, 'martin': 4801, 'sdnbvc': 4802, 'anything': 4803, 'litigation': 4804, 'boards': 4805, 'trials': 4806, 'chandigarh': 4807, 'ale': 4808, 'idoc': 4809, 'ewm': 4810, 'apo': 4811, '4hana': 4812, 'intio': 4813, 'yee': 4814, 'football': 4815, 'travelling': 4816, 'factual': 4817, 'manish': 4818, 'prabhakar': 4819, 'bharati': 4820, 'vidyapeeth': 4821, 'khalsa': 4822, 'datastage': 4823, 'infocomm': 4824, 'havevbeen': 4825, '3years': 4826, 'restoring': 4827, 'interval': 4828, 'powertech': 4829, 'dammam': 4830, 'saudi': 4831, 'supervisors': 4832, 'mmrda': 4833, 'chok': 4834, 'buildcon': 4835, 'apartments': 4836, 'atharva': 4837, 'pursuing': 4838, 'anantrao': 4839, 'pawar': 4840, 'cybage': 4841, 'want': 4842, 'gain': 4843, 'kindo': 4844, 'satara': 4845, 'optimistic': 4846, 'teamleader': 4847, 'visualizing': 4848, 'grip': 4849, 'loyal': 4850, 'compatible': 4851, 'amity': 4852, 'cohesive': 4853, 'entrepreneur': 4854, '9i': 4855, 'varying': 4856, 'acting': 4857, 'depth': 4858, 'decommissioning': 4859, 'requested': 4860, 'ao': 4861, 'manually': 4862, 'introduced': 4863, 'cutover': 4864, 'niit': 4865, 'north': 4866, 'explaining': 4867, 'flexible': 4868, 'rms': 4869, 'performs': 4870, 'gets': 4871, 'cgpa': 4872, 'predefined': 4873, 'arrangements': 4874, 'forge': 4875, 'drill': 4876, 'amazon': 4877, 'soa': 4878, 'ooad': 4879, 'ssrs': 4880, 'aditya': 4881, 'maximum': 4882, 'backgrounds': 4883, 'typical': 4884, 'sizes': 4885, 'phases': 4886, 'devising': 4887, 'pg': 4888, '600': 4889, 'pac': 4890, 'label': 4891, 'jabalpur': 4892, 'takshshila': 4893, 'wab': 4894, 'softwere': 4895, 'center8': 4896, 'intellij': 4897, '11geducation': 4898, 'avail': 4899, 'spending': 4900, 'ranges': 4901, 'analyes': 4902, 'regulators': 4903, 'analyses': 4904, 'retrieve': 4905, 'terabytes': 4906, 'trun': 4907, 'vistor': 4908, 'crawl': 4909, 'tabular': 4910, 'oracle11g': 4911, 'etrack': 4912, 'tsp': 4913, 'sadms': 4914, 'gfs': 4915, 'gdo': 4916, 'goes': 4917, 'slows': 4918, 'replace': 4919, 'extracts': 4920, 'upstream': 4921, 'epecs': 4922, 'cdss': 4923, 'rcm': 4924, 'prc': 4925, 'edh': 4926, 'dimensional': 4927, 'aggregators': 4928, 'sorters': 4929, 'dependencies': 4930, 'sk': 4931, 'mapplet': 4932, 'populate': 4933, 'worklets': 4934, 'utc': 4935, 'type1': 4936, 'type2': 4937, 'cdc': 4938, 'jijayi': 4939, 'heights': 4940, '118': 4941, 'narhe': 4942, 'chowki': 4943, '411041': 4944, 'packet': 4945, 'tracer': 4946, 'overcome': 4947, 'shoulder': 4948, 'algo': 4949, 'farming': 4950, 'prakshal': 4951, 'completing': 4952, 'guwahati': 4953, 'gauhati': 4954, 'hindustan': 4955, 'mill': 4956, 'forums': 4957, 'hudson': 4958, 'xcode': 4959, 'sierra': 4960, 'goregaon': 4961, 'vidyalankar': 4962, 'john': 4963, 'formatter': 4964, 'gmf': 4965, 'reads': 4966, 'encapsulation': 4967, 'tlv': 4968, 'validations': 4969, 'cosmoss': 4970, 'ejbs': 4971, 'facing': 4972, 'vm': 4973, 'remove': 4974, 'mphasis': 4975, 'ag': 4976, 'mirror': 4977, 'mastek': 4978, 'tybcom': 4979, 'motilal': 4980, 'oswal': 4981, 'cag': 4982, 'derivative': 4983, 'macro': 4984, 'bd': 4985, 'investors': 4986, 'fss': 4987, 'depa': 4988, 'ment': 4989, 'custodians': 4990, 'percentage': 4991, 'angel': 4992, 'broking': 4993, 'manger': 4994, 'repots': 4995, 'remark': 4996, 'calm': 4997, 'spirit': 4998, 'cope': 4999, 'fluent': 5000, 'dep': 5001, 'prof': 5002, 'jawaleker': 5003, 'nangal': 5004, 'mandir': 5005, '74': 5006, 'osmoflo': 5007, 'overseas': 5008, 'australia': 5009, 'vivid': 5010, 'electromech': 5011, '20th': 5012, 'stabilizers': 5013, 'bust': 5014, 'stabilizer': 5015, 'authorised': 5016, 'ti': 5017, 'ador': 5018, 'welding': 5019, '17th': 5020, 'conversant': 5021, 'etap': 5022, 'csa': 5023, 'iecex': 5024, 'dfmea': 5025, 'bid': 5026, 'sat': 5027, 'yibal': 5028, 'oman': 5029, '6thmay': 5030, 'cfbc': 5031, 'turbine': 5032, 'routine': 5033, '132kv': 5034, 'ac': 5035, 'yard': 5036, 'cadd': 5037, 'jm': 5038, 'oxygen': 5039, 'sonarqube': 5040, 'responsibilitis': 5041, 'adavance': 5042, 'multicultural': 5043, 'continued': 5044, 'osmania': 5045, 'hand': 5046, 'conflict': 5047, 'atom': 5048, 'unanth': 5049, 'solo': 5050, 'uom': 5051, 'reason': 5052, 'dinman': 5053, 'displaying': 5054, 'agri': 5055, 'vegetables': 5056, 'assignment': 5057, 'newspapers': 5058, 'subscriptions': 5059, 'light': 5060, 'advertisements': 5061, 'facebook': 5062, 'keen': 5063, 'solutionseducation': 5064, '210': 5065, 'campus': 5066, 'vj': 5067, 'pharmacy': 5068, 'personality': 5069, 'agricultural': 5070, 'hrs': 5071, 'elringklinger': 5072, 'automotives': 5073, 'kubler': 5074, 'chakan': 5075, 'finanza': 5076, 'pimple': 5077, 'saudagar': 5078, 'sharvari': 5079, 'junner': 5080, 'entrepreneurship': 5081, '168': 5082, 'narayangaon': 5083, '229': 5084, 'adjoining': 5085, 'fashion': 5086, 'haryana': 5087, 'rose': 5088, 'weka': 5089, 'hat': 5090, 'msbte': 5091, 'dnyanganaga': 5092, 'takali': 5093, 'kerberos': 5094, 'securing': 5095, 'dxc': 5096, 'hpe': 5097, 'emr': 5098, 'hdinsight': 5099, 'bent': 5100, 'mind': 5101, 'unlearn': 5102, 'relearn': 5103, 'surely': 5104, 'handy': 5105, 'much': 5106, 'omplish': 5107, 'ethical': 5108, 'medi': 5109, 'caps': 5110, 'division': 5111, 'injecting': 5112, 'govern': 5113, 'increasing': 5114, 'sends': 5115, 'ingest': 5116, 'server2': 5117, 'serde': 5118, 'wm': 5119, 'tws': 5120, 'authentic': 5121, 'morgan': 5122, 'stanley': 5123, 'absa': 5124, 'wmdatalake': 5125, 'become': 5126, 'optimising': 5127, 'pso': 5128, 'pjlce': 5129, 'looking': 5130, 'punctual': 5131, 'respectfulness': 5132, 'true': 5133, 'sciene': 5134, 'amaravti': 5135, 'sprinng': 5136, 'microsft': 5137, 'excell': 5138, 'navy': 5139, 'nuclear': 5140, 'biological': 5141, 'chemical': 5142, '04': 5143, 'infrasoft': 5144, 'detector': 5145, 'deduplication': 5146, 'pointers': 5147, 'oot': 5148, 'pps': 5149, 'ias': 5150, 'cipher': 5151, 'dated': 5152, 'scheme': 5153, 'camp': 5154, 'sponsored': 5155, 'youth': 5156, 'affairs': 5157, '201': 5158, 'faithfully': 5159, 'pia': 5160, 'jetalal': 5161, 'hiralal': 5162, 'gorbanjara': 5163, 'political': 5164, 'sci': 5165, 'bahadarpur': 5166, 'tai': 5167, 'joint': 5168, 'pipe': 5169, 'dues': 5170, 'mortgage': 5171, 'exceleducation': 5172, 'manoharbhai': 5173, 'patel': 5174, 'resrent': 5175, 'portfolios': 5176, 'hit': 5177, 'interfaces': 5178, 'ucs': 5179, 'debug': 5180, 'effect': 5181, 'multifunctional': 5182, 'programmers': 5183, 'bizagi': 5184, 'indigo': 5185, 'waterfall': 5186, 'thadomal': 5187, 'shahani': 5188, 'bbh': 5189, 'brown': 5190, 'brothers': 5191, 'harriman': 5192, 'merger': 5193, 'advisory': 5194, 'custody': 5195, 'financing': 5196, 'describes': 5197, 'aht': 5198, 'calculated': 5199, 'calculating': 5200, 'complexity': 5201, 'considered': 5202, 'licenses': 5203, 'converted': 5204, 'constructing': 5205, 'toward': 5206, 'eptable': 5207, 'fadv': 5208, 'delivers': 5209, 'screenings': 5210, 'flagging': 5211, 'aging': 5212, 'ar': 5213, 'rebill': 5214, 'formal': 5215, 'approvers': 5216, 'translating': 5217, 'collaborating': 5218, 'fulfill': 5219, 'initiation': 5220, 'expected': 5221, 'pat': 5222, 'representations': 5223, 'baseline': 5224, 'eduavenir': 5225, 'procured': 5226, 'sold': 5227, 'returned': 5228, 'invoicesalong': 5229, 'withcustomized': 5230, 'managescustomer': 5231, 'complaint': 5232, 'forecastingis': 5233, 'pod': 5234, 'stay': 5235, 'conjunction': 5236, 'designers': 5237, 'nuances': 5238, 'finally': 5239, 'movement': 5240, 'golive': 5241, 'requires': 5242, 'eliciting': 5243, 'dependency': 5244, 'humana': 5245, 'supplying': 5246, 'citizens': 5247, 'citizen': 5248, 'drug': 5249, 'choose': 5250, 'pharmaceuticals': 5251, 'chemicals': 5252, 'assignments': 5253, 'spent': 5254, 'oops': 5255, '0education': 5256, 'vidyabharati': 5257, 'winsol': 5258, 'premier': 5259, 'biopharmaceutical': 5260, 'produces': 5261, 'va': 5262, 'ines': 5263, 'immunology': 5264, 'oncology': 5265, 'cardiology': 5266, 'endocrinology': 5267, 'neurology': 5268, 'pathways': 5269, 'journey': 5270, 'rare': 5271, 'cdh3': 5272, 'tb': 5273, 'nfs': 5274, 'nn': 5275, 'sparkapi': 5276, 'imported': 5277, 'bucketing': 5278, 'sparkcontext': 5279, 'orc': 5280, 'parquet': 5281, 'serialization': 5282, 'snappy': 5283, 'compression': 5284, 'showing': 5285, 'articulate': 5286, 'cca': 5287, '175': 5288, 'skillseducation': 5289, '1997': 5290, '1996': 5291, 'teresa': 5292, 'convent': 5293, 'theatre': 5294, 'conception': 5295, 'deputy': 5296, 'compelling': 5297, 'convey': 5298, 'charles': 5299, 'wallace': 5300, 'entrepreneurs': 5301, 'chevening': 5302, 'clore': 5303, 'scholarship': 5304, 'shortlisting': 5305, 'fellowships': 5306, 'geographic': 5307, 'officials': 5308, 'partnership': 5309, 'continents': 5310, 'connecting': 5311, 'cultures': 5312, 'bc': 5313, 'ambitious': 5314, 'strengthening': 5315, 'colleagues': 5316, 'longer': 5317, 'performers': 5318, 'artists': 5319, 'performances': 5320, 'authorities': 5321, 'film': 5322, 'outreach': 5323, 'aircheck': 5324, 'intended': 5325, 'metros': 5326, 'pitching': 5327, 'commissions': 5328, 'reporters': 5329, 'mixing': 5330, 'vegas': 5331, 'acid': 5332, 'midi': 5333, 'definitive': 5334, 'continent': 5335, 'surrounds': 5336, 'exclusive': 5337, 'sensibility': 5338, 'editorial': 5339, 'publishing': 5340, 'covers': 5341, 'genre': 5342, 'perspectives': 5343, 'photographers': 5344, 'freelance': 5345, 'writers': 5346, 'storming': 5347, 'decide': 5348, 'primarily': 5349, 'banyan': 5350, 'french': 5351, 'embassy': 5352, 'ghs': 5353, 'bhuli': 5354, 'enigma': 5355, '625': 5356, 'diesel': 5357, 'provision': 5358, 'interlocking': 5359, 'vacuum': 5360, '5000': 5361, '2000a': 5362, 'wtp': 5363, 'blower': 5364, 'eot': 5365, 'crane': 5366, 'mono': 5367, 'rail': 5368, 'centrifugal': 5369, 'pumps': 5370, 'rolling': 5371, 'lath': 5372, 'ahu': 5373, 'chiller': 5374, 'charger': 5375, '450': 5376, '110v': 5377, 'resetting': 5378, 'factor': 5379, '55': 5380, 'submersible': 5381, 'auxiliary': 5382, 'effecting': 5383, 'uptime': 5384, '33': 5385, '22kv': 5386, 'feeder': 5387, '11kv': 5388, 'maint': 5389, 'aspect': 5390, 'familiar': 5391, 'lockout': 5392, 'permit': 5393, 'protective': 5394, 'ident': 5395, 'progressive': 5396, '11gr2': 5397, 'silent': 5398, 'dbca': 5399, 'archive': 5400, 'undo': 5401, 'netmgr': 5402, 'netca': 5403, 'ash': 5404, 'diagnose': 5405, 'psu': 5406, 'marketplace': 5407, 'emc': 5408, 'transactional': 5409, 'migrations': 5410, 'passive': 5411, 'rachana': 5412, 'sansad': 5413, 'deign': 5414, 'jungle': 5415, 'cubs': 5416, 'slipstream': 5417, 'grant': 5418, 'smsql': 5419, 'deletion': 5420, 'shrinking': 5421, 'entries': 5422, 'jhulelal': 5423, 'dayanand': 5424, 'kanya': 5425, 'december': 5426, 'medicinal': 5427, 'ailments': 5428, 'surgical': 5429, 'wholesalers': 5430, 'ordering': 5431, 'debtor': 5432, 'freelancers': 5433, 'oldest': 5434, 'fulfil': 5435, 'ease': 5436, 'matched': 5437, 'relocate': 5438, 'vtu': 5439, 'vishweshwariya': 5440, 'mahavidyalay': 5441, 'kohlapur': 5442, 'greenfield': 5443, 'libs': 5444, 'braseries': 5445, 'burkena': 5446, 'faso': 5447, 'africa': 5448, 'citrus': 5449, 'carlsberg': 5450, 'myanmar': 5451, 'yangon': 5452, 'mysore': 5453, 'haldiram': 5454, 'tetra': 5455, 'pak': 5456, 'amreli': 5457, 'instrument': 5458, 'philosophy': 5459, 'trays': 5460, 'apfc': 5461, 'metering': 5462, 'pts': 5463, 'acbs': 5464, 'analog': 5465, 'floating': 5466, 'alignment': 5467, 'route': 5468, 'tray': 5469, 'danfoss': 5470, 'schnider': 5471, 'vacon': 5472, 's7': 5473, '1200': 5474, '1500': 5475, 'et': 5476, '200s': 5477, 'allen': 5478, 'bready': 5479, 'logix5000': 5480, 'modulating': 5481, 'solenoid': 5482, 'meter': 5483, 'sugars': 5484, 'erection': 5485, 'allied': 5486, 'overhauling': 5487, 'shunt': 5488, 'switchgears': 5489, 'vfds': 5490, 'dg': 5491, 'amf': 5492, 'acb': 5493, 'vcb': 5494, 'fcbc': 5495, 'microprocessor': 5496, 'numerical': 5497, '2021': 5498, 'entermediate': 5499, 'sunbeam': 5500, 'samne': 5501, 'ghat': 5502, 'varanasi': 5503, 'dan': 5504, 'represented': 5505, 'croatia': 5506, 'v11': 5507, 'v12': 5508, 'foundations': 5509, 'revoking': 5510, 'weekend': 5511, 'oim': 5512, 'oam': 5513, 'ohs': 5514, '99': 5515, 'contributed': 5516, 'crontab': 5517, 'tectia': 5518, 'notebool': 5519, 'unixeducation': 5520, 'dbs': 5521, 'srm': 5522, 'technosoft': 5523, 'citibank': 5524, 'aml': 5525, 'tm': 5526, 'icg': 5527, 'responesbilities': 5528, 'layered': 5529, 'workspace': 5530, 'suspicious': 5531, 'fraudulent': 5532, 'ran': 5533, 'horton': 5534, 'hdp2': 5535, 'alcatel': 5536, 'lucent': 5537, '1x': 5538, 'ruckus': 5539, 'wireless': 5540, 'mediation': 5541, 'oms': 5542, 'rf': 5543, 'boost': 5544, 'framwe': 5545, '56': 5546, 'highly': 5547, 'infiniteworx': 5548, 'omnichannel': 5549, 'redo': 5550, 'rent': 5551, 'sawitribai': 5552, 'ides': 5553, 'trimurti': 5554, 'realestate': 5555, 'vimay': 5556, '58': 5557, 'fluency': 5558, 'relationeducation': 5559, 'rivzi': 5560, 'allana': 5561, 'canossa': 5562, 'interdependencies': 5563, 'derivable': 5564, 'commversion': 5565, '07education': 5566, 'artist': 5567, 'atd': 5568, 'bfa': 5569, 'mfa': 5570, 'rangoli': 5571, 'summer': 5572, 'disability': 5573, 'orthopedically': 5574, 'opening': 5575, 'settlement': 5576, 'ware': 5577, 'becomes': 5578, 'zookeeper': 5579, 'latin': 5580, 'principles': 5581, 'affect': 5582, 'tpt': 5583, 'partitions': 5584, 'launching': 5585, 'websphere': 5586, 'v8': 5587, 'discover': 5588, 'hiveql': 5589, 'partitioning': 5590, 'de': 5591, 'normalized': 5592, 'avro': 5593, 'standardizations': 5594, 'orchestrate': 5595, 'jdk': 5596, 'repo': 5597, 'customization': 5598, 'gradation': 5599, 'resizing': 5600, 'renaming': 5601, 'datafiles': 5602, 'restoration': 5603, 'disks': 5604, 'sync': 5605, 'oem': 5606, 'citrix': 5607, 'v9': 5608, 'artifact': 5609, 'vlsi': 5610, '75': 5611, 'frds': 5612, 'walkthrough': 5613, 'assess': 5614, 'importers': 5615, 'exporters': 5616, 'scoring': 5617, 'assessed': 5618, 'certain': 5619, 'brds': 5620, 'fsds': 5621, 'bureau': 5622, 'discontinued': 5623, 'schenker': 5624, 'impart': 5625, 'mwb': 5626, 'legs': 5627, 'leg': 5628, 'november': 5629, 'mansa': 5630, 'cpu': 5631, 'lagging': 5632, 'archives': 5633, 'brose': 5634, 'sultan': 5635, 'fino': 5636, 'cometchat': 5637, 'trimax': 5638, 'problematic': 5639, 'myisam': 5640, 'innodb': 5641, 'shifting': 5642, 'parameter': 5643, 'purging': 5644, 'xtrabackup': 5645, 'rplus': 5646, 'uses': 5647, 'sentiments': 5648, 'derive': 5649, 'identifies': 5650, 'hordes': 5651, 'selects': 5652, 'datasets': 5653, 'ec': 5654, 'hydrocarbon': 5655, 'netscreen': 5656, 'fwsm': 5657, 'familiarity': 5658, 'zenoss': 5659, 'solarwinds': 5660, '1800': 5661, '1900': 5662, '2500': 5663, '2600': 5664, '2800': 5665, 'nexus': 5666, '5k': 5667, '7k': 5668, '3750': 5669, 'bluecoat': 5670, 'sinhgad': 5671, 'boys': 5672, 'loadbalncing': 5673, 'undergo': 5674, 'caab': 5675, 'downgrade': 5676, 'decommission': 5677, 'l3vpn': 5678, 'ebs': 5679, 'assam': 5680, 'numerous': 5681, 'adapt': 5682, 'enjoy': 5683, 'acquisition': 5684, '9yrs': 5685, 'contribute': 5686, 'lectureship': 5687, 'served': 5688, 'sufficiently': 5689, 'busy': 5690, 'startups': 5691, 'clubs': 5692, 'articles': 5693, 'volunteering': 5694, 'asking': 5695, 'representatives': 5696, 'seamless': 5697, 'schools': 5698, 'mcm': 5699, 'certainly': 5700, 'polite': 5701, 'careful': 5702, 'considerate': 5703, 'thrive': 5704, 'enthusiasm': 5705, 'creativity': 5706, 'uncover': 5707, 'tenacious': 5708, 'akbar': 5709, 'peerbhoy': 5710, 'comm': 5711, 'janta': 5712, 'karvy': 5713, 'innotech': 5714, 'diagnostics': 5715, 'wi': 5716, 'administer': 5717, 'url': 5718, 'appliances': 5719, 'isps': 5720, 'sify': 5721, 'tikona': 5722, 'ho': 5723, 'crimping': 5724, 'mounting': 5725, 'ciso': 5726, 'diplomatically': 5727, 'seema': 5728, 'ansalon': 5729, 'massage': 5730, 'scalp': 5731, 'swedish': 5732, 'reflexology': 5733, 'aromatherapy': 5734, 'aerobics': 5735, 'radio': 5736, 'bhavan': 5737, 'slender': 5738, 'raymond': 5739, 'aroma': 5740, 'rudraaksh': 5741, 'plaza': 5742, 'windsor': 5743, 'holiday': 5744, 'inn': 5745, 'juhu': 5746, 'aromathai': 5747, 'khana': 5748, 'imitation': 5749, 'jewellery': 5750, 'beverage': 5751, 'indicators': 5752, 'vb6': 5753, 'debt': 5754, 'physiology': 5755, 'fl': 5756, 'florida': 5757, 'microbiology': 5758, 'abasaheb': 5759, 'garware': 5760, 'cardiovascular': 5761, 'cycling': 5762, 'ommodating': 5763, 'age': 5764, 'ompanying': 5765, 'metabolic': 5766, 'hypertension': 5767, 'obesity': 5768, 'comprising': 5769, 'continuity': 5770, 'comparative': 5771, 'smt': 5772, 'vhd': 5773, 'homescience': 5774, 'sas': 5775, 'subscribers': 5776, 'healthier': 5777, 'karma': 5778, 'innovations': 5779, 'jointly': 5780, 'campaign': 5781, 'glaxosmithkline': 5782, 'camps': 5783, 'practicing': 5784, 'gynaecologists': 5785, 'allotted': 5786, 'conveying': 5787, 'importance': 5788, 'nutrient': 5789, 'contain': 5790, 'nutrients': 5791, 'checkups': 5792, '800': 5793, 'cities': 5794, '3000': 5795, 'leaders': 5796, 'looks': 5797, 'medicals': 5798, 'whose': 5799, 'regulation': 5800, 'irda': 5801, 'mnyl': 5802, 'iinsurance': 5803, 'baxa': 5804, 'metlife': 5805, 'canara': 5806, 'deferrals': 5807, 'professionalism': 5808, 'vlcc': 5809, 'instructions': 5810, 'eating': 5811, 'distributors': 5812, 'slimming': 5813, 'filling': 5814, 'ultimate': 5815, 'tripod': 5816, 'arena': 5817, 'considering': 5818, 'recruiting': 5819, 'rotas': 5820, 'retaining': 5821, 'emergencies': 5822, 'often': 5823, 'cashing': 5824, 'supplements': 5825, 'exciting': 5826, 'grouper': 5827, 'projections': 5828, 'legislation': 5829, 'endurance': 5830, 'interview': 5831, 'splat': 5832, 'csm': 5833, 'panorama': 5834, 'balancer': 5835, 'rsaenvision': 5836, 'bmc': 5837, 'scriptingeducation': 5838, '89': 5839, '5500': 5840, 'pools': 5841, 'offloading': 5842, 'renewals': 5843, 'pulse': 5844, 'realm': 5845, 'hld': 5846, 'lld': 5847, 'resiliency': 5848, 'lockdown': 5849, 'r75': 5850, 'r77': 5851, 'belongs': 5852, '29xx': 5853, '28xx': 5854, '19xx': 5855, '3560': 5856, 'dealt': 5857, 'moitoring': 5858, 'envision': 5859, 'siem': 5860, 'false': 5861, 'positives': 5862, 'malicious': 5863, 'qualis': 5864, 'correlation': 5865, 'parsers': 5866, 'uds': 5867, 'unsupported': 5868, 'consisting': 5869, '3845': 5870, '3750e': 5871, 'chassis': 5872, '5550': 5873, 'sa': 5874, '6500': 5875, 'entrust': 5876, '2fa': 5877, '1992': 5878, 'micheal': 5879, 'level3': 5880, 'flora': 5881, 'heart': 5882, 'saver': 5883, 'reps': 5884, 'commensurate': 5885, 'malaysia': 5886, 'conversion': 5887, 'mediums': 5888, 'ipv4': 5889, 'reconnaissance': 5890, 'ccnp': 5891, 'spanning': 5892, 'queuing': 5893, 'penultimate': 5894, 'ntp': 5895, 'netflow': 5896, 'fundamental': 5897, 'limit': 5898, 'damages': 5899, 'heating': 5900, 'watering': 5901, 'enginner': 5902, 'access': 5903, 'dm': 5904, 'failovers': 5905, 'stormfur': 5906, 'stromfur': 5907, 'intervlan': 5908, 'ripv2': 5909, 'ripng': 5910, 'acl': 5911, 'vtp': 5912, 'ehterchannel': 5913, 'hsrp': 5914, 'ipv6': 5915, '1800s': 5916, '1900s': 5917, '2600s': 5918, '3600s': 5919, '3800s': 5920, '7200s': 5921, '3700s': 5922, '4850s': 5923, 'proliant': 5924, 'lenovo': 5925, 'modem': 5926, 'rodc': 5927, 'wds': 5928, 'ris': 5929, 'virtualisation': 5930, 'esxi': 5931, 'workstation': 5932, 'virtualbox': 5933, 'gns3': 5934, 'simulator': 5935, 'aisect': 5936, 'jiwaji': 5937, 'railwire': 5938, 'railtel': 5939, 'trenching': 5940, 'handing': 5941, 'bali': 5942, 'pali': 5943, 'dpmcu': 5944, 'milknet': 5945, 'ems': 5946, 'qms': 5947, 'scindia': 5948, 'fort': 5949, 'gwalior': 5950, 'teva': 5951, 'bhind': 5952, 'endpoint': 5953, 'unicenter': 5954, 'outlook': 5955, 'token': 5956, 'desktops': 5957, 'laptops': 5958, 'differential': 5959, 'corrupted': 5960, 'deleted': 5961, 'identally': 5962, 'nava': 5963, 'helpdesk': 5964, 'erp9': 5965, '017': 5966, 'pdf': 5967, 'bba': 5968, 'lovely': 5969, 'typewriting': 5970, 'tora': 5971, 'spsseducation': 5972, 'chidambaram': 5973, 'sav': 5974, 'sslc': 5975, 'kamaraj': 5976, 'matriculation': 5977, 'phioenix': 5978, 'microsystem': 5979, 'enter': 5980, 'week': 5981, 'jboss': 5982, 'retailer': 5983, 'registered': 5984, 'ddsm': 5985, 'zz': 5986, 'jagiroad': 5987, 'tribunals': 5988, 'bodies': 5989, 'forum': 5990, 'judge': 5991, 'nagaon': 5992, '2d': 5993, '3deducation': 5994, 'talreja': 5995, 'hoping': 5996, 'thanks': 5997, 'apeksha': 5998, 'naharkar': 5999, 'dairy': 6000, 'wheeler': 6001, 'mlrit': 6002, 'bcom': 6003, 'srimedhav': 6004, 'nani': 6005, 'valuelabs': 6006, 'rrf': 6007, 'dlt': 6008, 'candidate': 6009, 'udt': 6010, 'sqleducation': 6011, 'suisse': 6012, 'swiss': 6013, 'pruning': 6014, 'tct': 6015, 'xi': 6016, 'sp6': 6017, 'tab': 6018, 'avoid': 6019, 'catalogue': 6020, 'warner': 6021, 'bros': 6022, 'marvin': 6023, 'pictures': 6024, 'hpsm': 6025, 'dvd': 6026, 'comic': 6027, 'pointing': 6028, 'messages': 6029, 'seek': 6030, 'investigation': 6031, 'tracks': 6032, 'criteria': 6033, 'precise': 6034, 'blocks': 6035, 'formatting': 6036, 'mat': 6037, 'intra': 6038, 'lumira': 6039, 'pgdm': 6040, 'great': 6041, 'lakes': 6042, 'illinois': 6043, 'horizon': 6044, 'visvesvaraya': 6045, 'historic': 6046, 'geographies': 6047, 'infer': 6048, 'blockades': 6049, 'handwriting': 6050, 'handwritten': 6051, 'enough': 6052, 'argus': 6053, 'lot': 6054, 'consumption': 6055, 'flowers': 6056, 'cbp': 6057, 'segmented': 6058, 'categorize': 6059, 'buckets': 6060, 'anaconda3': 6061, 'classify': 6062, 'enabled': 6063, 'ipa': 6064, 'spearheaded': 6065, 'reuse': 6066, 'took': 6067, 'ownership': 6068, 'elerator': 6069, 'atas': 6070, 'apart': 6071, 'clarified': 6072, 'normalization': 6073, 'lean': 6074, 'ratnagiri': 6075, 'vba': 6076, 'authorizations': 6077, 'su53': 6078, 'grc': 6079, 'adaptable': 6080, 'keys': 6081, 'ymcaust': 6082, 'faridabad': 6083, 'itechpower': 6084, 'reservoir': 6085, 'characterization': 6086, 'drilling': 6087, 'dry': 6088, 'runs': 6089, 'currency': 6090, 'conversions': 6091, 'ecuador': 6092, 'hpalm': 6093, 'charm': 6094, 'solmon': 6095, 'aero': 6096, 'slt': 6097, 'landscape': 6098, 'solved': 6099, 'exiting': 6100, 'july2013to': 6101, 'june2014': 6102, 'folder': 6103, 'ecc': 6104, 'logon': 6105, 'q': 6106, 'aeronautics': 6107, 'satish': 6108, 'hangar': 6109, 'mirage': 6110, 'fighter': 6111, 'aircraft': 6112, 'labview': 6113, 'webframework': 6114, 'ltspice': 6115, 'mipower': 6116, 'gitbash': 6117, 'notebook': 6118, 'interpreters': 6119, 'python2': 6120, 'pycharm': 6121, 'debian': 6122, 'kali': 6123, 'deeksha': 6124, 'little': 6125, 'flower': 6126, 'mathematics': 6127, 'themathcompany': 6128, 'casino': 6129, 'operator': 6130, 'disclosed': 6131, 'macau': 6132, 'segment': 6133, 'patrons': 6134, 'prove': 6135, 'henceforth': 6136, 'sepsoft': 6137, '24th': 6138, 'detailexperiences': 6139, 'alia': 6140, 'yashwant': 6141, 'orichids': 6142, '400097': 6143, 'indiaeducation': 6144, 'marol': 6145, 'depot': 6146, '400093': 6147, 'nova': 6148, '301': 6149, 'maha': 6150, 'muweilah': 6151, 'alfalah': 6152, 'excavation': 6153, 'waterproofing': 6154, 'rcc': 6155, 'shuttering': 6156, 'masonry': 6157, 'brick': 6158, 'tile': 6159, 'minor': 6160, 'slabs': 6161, 'requisition': 6162, 'ground': 6163, 'verify': 6164, 'sincerity': 6165, 'capability': 6166, '5m': 6167, 'minutes': 6168, 'thank': 6169, 'viewing': 6170, 'kherwadi': 6171, '400051': 6172, 'radha': 6173, 'dadar': 6174, 'hindu': 6175, 'colony': 6176, '400014': 6177, 'lodha': 6178, 'eternis': 6179, 'estado': 6180, 'anna': 6181, 'jacobs': 6182, '150': 6183, 'medicine': 6184, 'etp': 6185, 'drain': 6186, 'shall': 6187, 'vise': 6188, 'itr': 6189, 'checklist': 6190, 'issued': 6191, 'punch': 6192, 'dossiers': 6193, 'progression': 6194, 'chawla': 6195, 'architectural': 6196, '2b': 6197, 'roof': 6198, 'upcoming': 6199, 'entered': 6200, 'guinness': 6201, 'gac': 6202, 'arm': 6203, 'dollar': 6204, 'rp': 6205, 'pour': 6206, '793': 6207, 'cu': 6208, 'dh600': 6209, '163': 6210, 'rise': 6211, 'barsha': 6212, 'western': 6213, 'amendments': 6214, 'recall': 6215, 'hold': 6216, 'uncorrected': 6217, 'cancel': 6218, 'upon': 6219, 'noted': 6220, 'deficiencies': 6221, 'ncr': 6222, 'deviated': 6223, 'normal': 6224, 'retention': 6225, 'prm': 6226, 'toyo': 6227, 'liquefied': 6228, 'biggest': 6229, 'hike': 6230, 'metric': 6231, 'heater': 6232, 'room': 6233, 'comply': 6234, 'cary': 6235, 'follows': 6236, 'turned': 6237, 'flats': 6238, 'regard': 6239, 'ppe': 6240, 'safely': 6241, 'undertake': 6242, 'grasp': 6243, 'truba': 6244, 'rkdf': 6245, 'sati': 6246, 'thesis': 6247, 'bmch': 6248, 'ganj': 6249, 'basoda': 6250, 'rnt': 6251, 'recurrent': 6252, 'matplotliv': 6253, 'tf': 6254, 'idf': 6255, 'lsa': 6256, 'soup': 6257, 'ado': 6258, 'mozilla': 6259, 'firefox10': 6260, 'biography': 6261, 'gallery': 6262, 'contactus': 6263, 'hms': 6264, 'conceivable': 6265, 'importantly': 6266, 'backed': 6267, 'dependable': 6268, 'multispecialty': 6269, 'cover': 6270, 'bess': 6271, 'sms': 6272, 'exams': 6273, 'calendar': 6274, 'parents': 6275, 'paperless': 6276, 'today': 6277, 'uhs': 6278, 'cmus': 6279, 'overdrafts': 6280, 'sblc': 6281, 'fg': 6282, 'cheques': 6283, 'nbf': 6284, 'cb': 6285, 'davv': 6286, 'cognizant': 6287, 'imcost': 6288, 'menon': 6289, 'springer': 6290, 'smartforms': 6291, 'lenm': 6292, 'netherland': 6293, 'dsp': 6294, 'dsm': 6295, 'sinochem': 6296, 'paints': 6297, 'coatings': 6298, 'producer': 6299, 'baramati': 6300, 'highschool': 6301, 'singhad': 6302, 'vasundhara': 6303, 'nirmiti': 6304, 'balaji': 6305, 'ganesh': 6306, 'chd': 6307, '09876971076': 6308, 'vversatile': 6309, 'targeting': 6310, 'netbeans': 6311, 'notebooks': 6312, 'ug': 6313, 'schooling': 6314, 'xii': 6315, 'moti': 6316, 'ram': 6317, 'valley': 6318, 'experince': 6319, 'suffering': 6320, 'third': 6321, 'prize': 6322, 'ifications': 6323, 'coursera': 6324, 'tirlok': 6325, 'yyyy': 6326, 'dd': 6327, 'trees': 6328, 'boosting': 6329, 'pca': 6330, 'nets': 6331, 'elasticsearch': 6332, 'plotly': 6333, 'ggplot': 6334, 'logstash': 6335, 'kafka': 6336, 'dispute': 6337, 'elerating': 6338, 'discovery': 6339, 'implements': 6340, 'resulting': 6341, 'lawyers': 6342, 'outputs': 6343, 'precision': 6344, 'ey': 6345, 'flags': 6346, 'tfidf': 6347, 'word2vec': 6348, 'doc2vec': 6349, 'vader': 6350, 'blob': 6351, 'matplot': 6352, 'lib': 6353, 'plotted': 6354, 'reservation': 6355, 'serves': 6356, 'recommendation': 6357, 'asks': 6358, 'spacy': 6359, 'synthesizes': 6360, 'facilitates': 6361, 'positioned': 6362, 'counter': 6363, 'parse': 6364, 'rot': 6365, 'outdated': 6366, 'trivial': 6367, 'pii': 6368, 'identifiable': 6369, 'addresses': 6370, 'frequently': 6371, 'cyber': 6372, 'flag': 6373, 'fap': 6374, 'interrogate': 6375, 'anomalies': 6376, 'specialization': 6377, 'behaviour': 6378, 'calicut': 6379, 'thrissur': 6380, 'prajyoti': 6381, 'foster': 6382, 'breads': 6383, 'kinfra': 6384, 'santhwana': 6385, 'psychotherapy': 6386, 'cochin': 6387, 'counsellor': 6388, 'dibrugarh': 6389, 'ssis': 6390, 'iabac': 6391, 'versatile': 6392, 'advocator': 6393, 'augmented': 6394, 'fahed': 6395, 'mohali': 6396, 'indo': 6397, 'querying': 6398, 'cleaning': 6399, 'heretic': 6400, 'cleansing': 6401, 'conclusions': 6402, 'without': 6403, 'highlight': 6404, 'drills': 6405, 'acn': 6406, 'mgt': 6407, 'angular1': 6408, 'typescript': 6409, 'kakinada': 6410, 'knockout': 6411, 'consuming': 6412, 'alternative': 6413, 'cooperation': 6414, 'tiebar': 6415, 'destination': 6416, 'luxury': 6417, 'menswear': 6418, 'premium': 6419, 'dress': 6420, 'shirts': 6421, 'bow': 6422, 'second': 6423, 'spots': 6424, 'tourists': 6425, 'tourist': 6426, 'hamsa': 6427, 'hitech': 6428, 'switzerland': 6429, 'norway': 6430, 'relation': 6431, 'appointment': 6432, 'personalization': 6433, 'interpretation': 6434, 'forecasts': 6435, 'pgp': 6436, 'teaching': 6437, 'appointments': 6438, 'teach': 6439, 'undergraduate': 6440, 'adjunct': 6441, 'furnish': 6442, 'lex': 6443, 'offered': 6444, 'scrap': 6445, 'messaging': 6446, 'qliksense': 6447, 'recognize': 6448, 'recognizing': 6449, 'compared': 6450, 'somewhere': 6451, 'else': 6452, 'hiding': 6453, 'prevent': 6454, 'frauds': 6455, 'pretend': 6456, 'twitter': 6457, 'expressed': 6458, 'opinion': 6459, 'emotions': 6460, 'quantifiable': 6461, 'mentored': 6462, 'gone': 6463, 'papers': 6464, 'congress': 6465, 'let': 6466, 'blumix': 6467, 'watson': 6468, 'spearheading': 6469, 'ambedkar': 6470, 'panvel': 6471, 'ryan': 6472, 'bp': 6473, 'bottlenecks': 6474, 'saiba': 6475, 'softwareeducation': 6476, 'bharathiar': 6477, 'pa': 6478, 'insured': 6479, 'spinning': 6480, 'mills': 6481, 'staffs': 6482, 'labors': 6483, 'automobile': 6484, 'collision': 6485, 'avoidance': 6486, 'blackbox': 6487, 'workload': 6488, 'allocate': 6489, 'monorail': 6490, 'uit': 6491, 'statsmodels': 6492, 'ml': 6493, 'dummies': 6494, 'enthusiasts': 6495, 'koramangala': 6496, '5th': 6497, 'behind': 6498, 'sukh': 6499, 'sagar': 6500, 'encoding': 6501, 'linkedin': 6502, 'rathore': 6503, 'b4600b146': 6504, 'reasearch': 6505, 'arima': 6506, 'sarimax': 6507, 'holt': 6508, 'winter': 6509, 'prophet': 6510, 'rathorology': 6511, 'mixed': 6512, 'utilise': 6513, 'convert': 6514, 'contacts': 6515, 'later': 6516, 'worker': 6517, 'pivot': 6518, 'applicationseducation': 6519, 'queen': 6520, 'margaret': 6521, 'edinburg': 6522, 'atri': 6523, 'checklists': 6524, 'leaves': 6525, 'salaries': 6526, 'esic': 6527, 'deduction': 6528, '24q': 6529, 'topics': 6530, 'shops': 6531, 'establishments': 6532, '1972': 6533, 'naukri': 6534, 'preliminary': 6535, 'orientation': 6536, 'facilitation': 6537, 'pms': 6538, 'disbursement': 6539, 'kra': 6540, 'welfare': 6541, 'celebration': 6542, 'diwali': 6543, 'dhamaka': 6544, 'offsite': 6545, 'md': 6546, 'offering': 6547, 'reimbursement': 6548, 'resigned': 6549, 'ireport': 6550, 'llm': 6551, 'operative': 6552, 'deed': 6553, 'representation': 6554, 'disputes': 6555, 'injury': 6556, 'death': 6557, 'former': 6558, 's4hana': 6559, 'edi': 6560, 'extensibility': 6561, 'varies': 6562, 'prince2': 6563, 'practitioner': 6564, 'implementations': 6565, 'america': 6566, 'fricew': 6567, 'ps': 6568, 'qm': 6569, 'solman': 6570, 'gts': 6571, 'vistex': 6572, 'proship': 6573, 'managenow': 6574, 'loftware': 6575, 'pocs': 6576, 'roll': 6577, 'ecc6': 6578, 'unicode': 6579, 'complicated': 6580, 'estimations': 6581, 'ghatkesar': 6582, 'aurora': 6583, 'scientific': 6584, 'warangal': 6585, 'valid': 6586, '2006education': 6587, 'oxford': 6588, 'banglore': 6589, 'nabinagar': 6590, 'bihar': 6591, 'ntpc': 6592, 'brbcl': 6593, 'stc': 6594, 'qatif': 6595, '2065864': 6596, 'arif': 6597, 'kinfolk': 6598, 'king': 6599, 'fahad': 6600, 'airport': 6601, 'dar': 6602, 'hadassah': 6603, 'dpf': 6604, 'eleven': 6605, 'arabian': 6606, 'army': 6607, 'ommodation': 6608, 'arabia': 6609, 'foremen': 6610, 'subsequently': 6611, 'rfi': 6612, 'realizing': 6613, 'ducting': 6614, 'chilled': 6615, 'fittings': 6616, 'insulation': 6617, 'padke': 6618, 'pba': 6619, 'tipu': 6620, 'santnamdev': 6621, 'jammu': 6622, 'takeoff': 6623, 'plumbing': 6624, 'paintha': 6625, 'chock': 6626, 'paripora': 6627, 'nagar': 6628, 'tubro': 6629, 'inplant': 6630, 'ashoka': 6631, 'decor': 6632, 'girija': 6633, 'devolopers': 6634, 'outfit': 6635, 'photographs': 6636, 'maps': 6637, 'continual': 6638, 'practicality': 6639, 'adjust': 6640, 'budgetary': 6641, 'cohesion': 6642, 'fluidity': 6643, 'inspect': 6644, 'sonia': 6645, 'renovation': 6646, 'malls': 6647, 'compiling': 6648, 'tendering': 6649, 'complies': 6650, 'sustainability': 6651, 'grandeurs': 6652, 'realetors': 6653, 'materails': 6654, 'labours': 6655, 'regulated': 6656, 'subcontractor': 6657, 'equipement': 6658, 'cheack': 6659, 'progrees': 6660, 'devolopment': 6661, 'adviser': 6662, 'craftspeople': 6663, 'operatives': 6664, 'planners': 6665, 'surveyors': 6666, 'barc': 6667, 'motion': 6668, 'daigram': 6669, 'graduation': 6670, 'ifix': 6671, 'inscripts': 6672, 'contains': 6673, 'langages': 6674, 'posse': 6675, 'adichunchanagiri': 6676, 'chikmagalur': 6677, 'truly': 6678, 'jayashree': 6679, 'stadio': 6680, 'thergaon': 6681, 'entityframewok': 6682, 'corecode': 6683, 'inetsoft': 6684, 'formulating': 6685, 'litespeed': 6686, 'idera': 6687, 'infopa': 6688, 'tivoli': 6689, 'tdp': 6690, 'databasesms': 6691, '110': 6692, 'availabiity': 6693, 'sip': 6694, 'dbas': 6695, 'trainees': 6696, 'pci': 6697, 'vulnerability': 6698, 'holmes': 6699, 'ls': 6700, 'failback': 6701, 'deeply': 6702, 'pursued': 6703, 'pe8': 6704, 'ee11': 6705, 'forward': 6706, 'ada': 6707, 'annet': 6708, 'birla': 6709, 'northbound': 6710, 'eclerx': 6711, 'wwf': 6712, '8i': 6713, 'info': 6714, 'solid': 6715, 'technologists': 6716, 'redolog': 6717, 'duplicate': 6718, 'flashback': 6719, 'oracle11gr2': 6720, 'crsctl': 6721, 'srvctl': 6722, 'upgraded': 6723, 'capable': 6724, 'dy': 6725, '61': 6726, 'eboss': 6727, 'datafeed': 6728, 'mfdb': 6729, 'indiainx': 6730, 'fastest': 6731, 'seconds': 6732, 'transparent': 6733, 'equity': 6734, 'currencies': 6735, 'derivatives': 6736, '250': 6737, 'continues': 6738, 'pace': 6739, 'pacemaker': 6740, 'blockings': 6741, 'gssapi': 6742, 'connections': 6743, 'fdw': 6744, 'extensions': 6745, 'pitr': 6746, 'rollouts': 6747, 'aag': 6748, 'raid': 6749, 'ase': 6750, 'winds': 6751, 'dpa': 6752, 'dbartisan': 6753, '3t': 6754, 'pdacoe': 6755, 'autonomous': 6756, 'uploading': 6757, 'rdls': 6758, 'orphaned': 6759, 'purge': 6760, 'shipped': 6761, 'intervention': 6762, 'escalate': 6763, 'next': 6764, 'clones': 6765, 'hewlett': 6766, 'packard': 6767, 'softenger': 6768, 'unused': 6769, 'orphan': 6770, 'rebuild': 6771, 'reorganize': 6772, 'deadlocks': 6773, 'costly': 6774, 'deadlock': 6775, 'alwayson': 6776, 'restart': 6777, 'tns': 6778, 'edvancer': 6779, 'eduventures': 6780, 'sensitive': 6781, 'improved': 6782, 'courage': 6783, 'sadvidya': 6784, 'massachusetts': 6785, 'elicitation': 6786, 'diligently': 6787, 'checkouts': 6788, '101': 6789, 'lite': 6790, 'invest': 6791, 'employs': 6792, 'approximately': 6793, 'organised': 6794, 'barclaycard': 6795, 'troubleshoooting': 6796, 'locking': 6797, 'kakatiya': 6798, 'maintenances': 6799, 'upgradation': 6800, 'ord': 6801, 'fintech': 6802, 'sanpada': 6803, 'attach': 6804, 'detach': 6805, 'dbcc': 6806, 'dmv': 6807, 'analyzer': 6808, 'dts': 6809, 'rebuilds': 6810, 'reorganizes': 6811, 'devopseducation': 6812, '108': 6813, 'quite': 6814, 'extended': 6815, 'maximized': 6816, 'p1': 6817, 'p2': 6818, 'produced': 6819, 'fw': 6820, 'openings': 6821, 'loadbalancer': 6822, 'smtp': 6823, 'ocm': 6824, 'protected': 6825, 'sod': 6826, 'rcu': 6827, 'expanded': 6828, 'france': 6829, 'compressions': 6830, 'imp': 6831, 'duplication': 6832, 'itskills': 6833, 'mcs': 6834, 'periodically': 6835, 'criticality': 6836, 'impo': 6837, 'expo': 6838, 'degine': 6839, 'configuraing': 6840, 'administered': 6841, 'quota': 6842, 'default': 6843, 'cumulative': 6844, 'intervals': 6845, 'ddl': 6846, 'dml': 6847, 'appraising': 6848, 'backround': 6849, 'innovativetechnologies': 6850, 'knoxed': 6851, 'extending': 6852, 'rh': 6853, 'quotas': 6854, 'rollback': 6855, 'extents': 6856, 'constructive': 6857, 'practically': 6858, 'elya': 6859, 'kale': 6860, 'patches': 6861, 'demands': 6862, 'cronjobs': 6863, 'raising': 6864, 'links': 6865, 'directories': 6866, 'scp': 6867, 'rebuilding': 6868, 'stats': 6869, 'deleting': 6870, 'diskgroups': 6871, 'insolutions': 6872, 'switchover': 6873, 'allocating': 6874, 'enrolling': 6875, 'snap': 6876, 'validity': 6877, 'resize': 6878, 'temp': 6879, 'occ': 6880, 'sqlplus': 6881, 'vsphere': 6882, 'windowseducation': 6883, '130': 6884, 'eagle': 6885, 'path': 6886, 'persists': 6887, 'rfs': 6888, 'mrp': 6889, 'centralize': 6890, 'refreshing': 6891, 'outage': 6892, 'rotational': 6893, 'shifts': 6894, 'refreshes': 6895, 'migrate': 6896, 'yogesh': 6897, 'tikhat': 6898, 'raj': 6899, 'ahmad': 6900, 'g2': 6901, '702': 6902, 'dreams': 6903, 'aakruti': 6904, 'kalepadal': 6905, 'hadapsar': 6906, '411028': 6907, 'aofpt5052c': 6908, 'commission': 6909, 'comprise': 6910, 'optimazation': 6911, 'alm': 6912, 'iseries': 6913, '98': 6914, 'loader': 6915, 'authorized': 6916, 'hydrocarbons': 6917, 'exceeding': 6918, 'majors': 6919, '18c': 6920, 'link': 6921, 'reclaim': 6922, 'statically': 6923, 'elb': 6924, 'vpc': 6925, 'route53': 6926, 'iam': 6927, 'automationtesting': 6928, 'phoenix': 6929, 'microsystems': 6930, 'swb': 6931, 'profitable': 6932, 'satisfying': 6933, 'splits': 6934, 'inserts': 6935, 'ibatis': 6936, 'seam': 6937, 'intelligen': 6938, 'mobileapp': 6939, 'kauapc': 6940, 'ims': 6941, 'essible': 6942, 'empower': 6943, 'rich': 6944, 'jersey': 6945, 'lelo': 6946, 'lo': 6947, 'divider': 6948, 'pom': 6949, 'morigaon': 6950, 'subordinate': 6951, 'penchant': 6952, 'situation': 6953, 'extrovert': 6954, 'prefer': 6955, 'walks': 6956, 'strata': 6957, 'rapport': 6958, 'hpc': 6959, 'counsels': 6960, 'cachar': 6961, 'nagaland': 6962, 'pulp': 6963, 'vetting': 6964, 'nibs': 6965, 'nits': 6966, 'formulation': 6967, 'disciplinary': 6968, 'liaisoning': 6969, 'somaiya': 6970, 'asmita': 6971, 'girls': 6972, 'bhawan': 6973, 'journalist': 6974, 'lawyer': 6975, 'skillful': 6976, 'typing': 6977, 'refined': 6978, 'xslt': 6979, 'connector': 6980, 'biztalk': 6981, '147': 6982, 'opex': 6983, 'ipad': 6984, 'administering': 6985, 'genentech': 6986, 'biogen': 6987, 'astellas': 6988, 'pharma': 6989, 'polaris': 6990, 'hibernet': 6991, 'prasanna': 6992, 'vc': 6993, 'extraeducation': 6994, 'literature': 6995, 'tirunelveli': 6996, 'manonmaniam': 6997, 'sundaranar': 6998, 'practiced': 6999, 'judicature': 7000, 'madras': 7001, 'tribunal': 7002, 'christian': 7003, 'ruah': 7004, 'church': 7005, 'nessa': 7006, 'submit': 7007, 'smashingday': 7008, 'grapheducation': 7009, 'goregoan': 7010, 'proteus': 7011, 'installations': 7012, 'plastics': 7013, 'wings': 7014, 'infonet': 7015, 'comprehensive': 7016, 'hiral': 7017, 'tektronix': 7018, 'relates': 7019, 'hrms': 7020, 'observation': 7021, 'researcher': 7022, 'laweducation': 7023, 'criminology': 7024, 'federal': 7025, 'finalising': 7026, 'agreements': 7027, 'intimation': 7028, 'suits': 7029, 'attorney': 7030, 'indemnity': 7031, 'marriage': 7032, 'divorce': 7033, 'ession': 7034, 'lok': 7035, 'adalat': 7036, 'judicial': 7037, 'knows': 7038, 'ielts': 7039, 'bilingual': 7040, 'punjabi': 7041, 'clearly': 7042, 'concisely': 7043, 'peers': 7044, 'pretrial': 7045, 'appellate': 7046, 'competent': 7047, 'laws': 7048, 'bikaner': 7049, 'maharaja': 7050, 'ganga': 7051, 'singh': 7052, 'bio': 7053, 'informatics': 7054, 'panjab': 7055, 'newcomer': 7056, 'licensed': 7057, 'admitted': 7058, 'aibe': 7059, 'bci': 7060, 'sole': 7061, 'counsel': 7062, 'plaintiff': 7063, 'respondents': 7064, 'prosecuted': 7065, 'conclusion': 7066, 'claim': 7067, 'opted': 7068, 'plead': 7069, 'precedents': 7070, 'bail': 7071, 'petitions': 7072, 'appeals': 7073, 'divorces': 7074, 'negotiates': 7075, 'settlements': 7076, 'mediator': 7077, 'conciliator': 7078, 'commissioner': 7079, 'arbitrator': 7080, 'malad': 7081, 'tanks': 7082, 'anushaktinagar': 7083, 'trombay': 7084, 'kalyan': 7085, 'tank': 7086, 'float': 7087, 'bottle': 7088, 'crashing': 7089, 'separated': 7090, 'sensors': 7091, 'transmitters': 7092, 'pid': 7093, 'brands': 7094, 'nippon': 7095, 'selec': 7096, 'dol': 7097, 'induction': 7098, 'eletrical': 7099, 'specialized': 7100, 'engineered': 7101, 'manufacturers': 7102, 'vessels': 7103, 'igg': 7104, 'inert': 7105, 'calibrations': 7106, '8th': 7107, 'underwent': 7108, 'tuv': 7109, 'rheinland': 7110, 'omron': 7111, 'ladder': 7112, 'intouch': 7113, 'vijeo': 7114, 'citect': 7115, 'wincc': 7116, 'talkview': 7117, 'opc': 7118, 'kepware': 7119, 'altivar': 7120, 'druck': 7121, 'injector': 7122, 'dp': 7123, 'tubes': 7124, 'fitting': 7125, 'glanding': 7126, 'robotic': 7127, 'kuka': 7128, 'kr': 7129, 'rk': 7130, 'electricals': 7131, 'twido': 7132, 'step7': 7133, 'microwin': 7134, 'sp2': 7135, 'unity': 7136, 'xl': 7137, 'cx': 7138, 'wpl': 7139, 'codesys': 7140, 'wonderware': 7141, 'citectscada7': 7142, 'proficy': 7143, 'factotytalk': 7144, 'spoken': 7145, 'tutorial': 7146, 'phython': 7147, 'codestrike': 7148, 'conformiq': 7149, 'measure': 7150, 'tl9k': 7151, 'concerned': 7152, 'artifacts': 7153, 'fsd': 7154, 'cug': 7155, 'configurations': 7156, 'onboard': 7157, 'bau': 7158, 'arriving': 7159, 'crs': 7160, 'paytech': 7161, 'zambia': 7162, 'capa': 7163, 'parivartan': 7164, 'vbs': 7165, 'purvanchal': 7166, 'redwood': 7167, 'triage': 7168, 'short': 7169, 'exponentially': 7170, 'drastically': 7171, 'games': 7172, 'apps': 7173, 'messenger': 7174, 'omplishment': 7175, 'reminders': 7176, 'hayaan': 7177, 'neighborhood': 7178, 'packaging': 7179, 'slip': 7180, 'inquiry': 7181, 'haayan': 7182, 'clacutta': 7183, 'burdwan': 7184, 'taxation': 7185, 'plaint': 7186, 'hear': 7187, 'learnereducation': 7188, 'vidishtra': 7189, 'bscit': 7190, 'airoli': 7191, 'uloom': 7192, 'recently': 7193, 'savvy': 7194, 'lrc': 7195, 'ravichander': 7196, 'committed': 7197, 'independent': 7198, 'bput': 7199, 'brahmapur': 7200, 'orissa': 7201, 'banner': 7202, 'handles': 7203, '115': 7204, 'spread': 7205, 'whitacre': 7206, 'downtown': 7207, 'texas': 7208, 'csi': 7209, 'cam': 7210, 'centralised': 7211, 'myatt': 7212, 'maintaing': 7213, 'autoit': 7214, 'manging': 7215, 'xaml': 7216, 'dhtml': 7217, 'vbscript': 7218, 'mvp': 7219, 'tfs': 7220, 'collabnet': 7221, 'qlikview': 7222, 'centreon': 7223, 'bam': 7224, 'thinker': 7225, 'planner': 7226, 'recent': 7227, 'managereducation': 7228, 'sikkim': 7229, '92': 7230, '76': 7231, 'apr': 7232, 'capex': 7233, 'surveillance': 7234, 'wearable': 7235, 'nextgen': 7236, 'aria': 7237, 'apple': 7238, 'iphone': 7239, 'sunnyvale': 7240, 'ohio': 7241, 'nunit': 7242, 'moss': 7243, 'biztalk2006': 7244, 'dreamweaver': 7245, 'biz': 7246, 'wachovia': 7247, 'carolina': 7248, 'cript': 7249, 'zd': 7250, 'doll': 7251, 'newcastle': 7252, 'tokyo': 7253, 'macromedia': 7254, 'sql2000': 7255, 'lotus': 7256, 'fuel': 7257, 'density': 7258, 'measurement': 7259, 'cmcs': 7260, 'himalaya': 7261, 'mapco': 7262, 'berco': 7263, 'anjular': 7264, 'mws': 7265, 'laravel': 7266, 'profiled': 7267, 'monitors': 7268, 'sponsor': 7269, 'revise': 7270, 'regulatory': 7271, 'venturus': 7272, 'adhere': 7273, 'viralsocials': 7274, 'xento': 7275, 'familylink': 7276, 'propertysolutions': 7277, 'speedyceus': 7278, 'ceus': 7279, 'nursing': 7280, 'stplafricaonline': 7281, 'stplafrica': 7282, '1stexpert': 7283, 'rimsys': 7284, 'eu': 7285, 'prayerlister': 7286, 'promark': 7287, 'justbe': 7288, 'mtpian': 7289, 'sababa': 7290, 'nl': 7291, 'physicaltherapy': 7292, 'hiu': 7293, '7cees': 7294, 'golwin': 7295, 'maza': 7296, 'rfe': 7297, 'rally': 7298, 'td': 7299, 'devsecops': 7300, 'profit': 7301, 'maximization': 7302, 'tulu': 7303, 'harvard': 7304, 'thunderbird': 7305, 'catering': 7306, 'esign': 7307, 'countersign': 7308, 'ampd': 7309, 'cru': 7310, 'bizcomp': 7311, 'comp': 7312, 'discounts': 7313, 'cxmt': 7314, 'lets': 7315, 'centrex': 7316, 'shadow': 7317, 'signoff': 7318, 'smp': 7319, 'scorecard': 7320, 'vqi': 7321, 'subcon': 7322, 'offshoring': 7323, 'leakage': 7324, 'tail': 7325, 'oscar': 7326, 'expand': 7327, 'developments': 7328, 'resourcing': 7329, 'csl': 7330, 'kms': 7331, 'pmr': 7332, 'sqa': 7333, 'gates': 7334, 'csat': 7335, 'rehearsal': 7336, 'prevention': 7337, 'exercises': 7338, 'rebadged': 7339, 'ex': 7340, 'esaya': 7341, 'lisa': 7342, 'catdm': 7343, 'versioning': 7344, 'disha': 7345, 'poland': 7346, 'specialize': 7347, 'cbil': 7348, 'oat': 7349, 'proving': 7350, 'cucumber': 7351, 'bdd': 7352, 'tosca': 7353, 'tdm': 7354, 'onboarding': 7355, 'ontrack': 7356}\n",
            "[44, 7, 628, 294, 250, 132, 452, 171, 4892, 1243, 646, 4893, 237, 67, 25, 23, 26, 7, 25, 128, 2, 13, 56, 7, 3, 4894, 4895, 40, 21, 6, 1205, 25, 23]\n",
            "[46, 34, 214, 225, 25, 583, 377, 322, 3244, 59, 67, 395, 460, 238, 128, 130, 223, 1898, 16, 64, 940, 226, 629, 322, 226, 3642, 146, 3245, 1459, 455, 5048, 163, 14, 102, 493, 169, 275, 190, 3246, 25, 23, 603, 5049, 46, 237, 25, 603, 5050, 633, 2948, 526, 4051, 643, 603, 3643, 100, 7, 44, 7, 31, 258, 35, 29, 15, 29, 53, 31, 188, 92, 35, 806, 15, 806, 53, 31, 207, 432, 35, 806, 15, 806, 53, 31, 294, 35, 806, 15, 806, 53, 25, 23, 1175, 1860, 25, 23, 26, 7, 198, 2, 19, 9, 12, 5, 223, 2, 19, 9, 12, 5, 583, 2, 19, 9, 12, 5, 395, 2, 19, 9, 12, 5, 322, 2, 19, 9, 12, 5, 25, 2, 19, 9, 12, 5, 130, 2, 19, 9, 12, 5, 377, 2, 19, 9, 12, 5, 128, 2, 19, 9, 12, 5, 238, 2, 19, 9, 12, 5, 322, 3244, 2, 19, 9, 12, 56, 7, 3, 2518, 52, 6, 65, 25, 23, 117, 80, 75, 22, 25, 583, 377, 223, 59, 52, 3, 2518, 52, 1554, 6, 67, 270, 25, 583, 377, 395, 460, 238, 128, 130, 223, 238, 4, 7, 324, 2766, 38, 211, 3037, 352, 113, 384, 9, 119, 5, 1969, 59, 28, 293, 22, 25, 583, 377, 128, 130, 223, 64, 434, 97, 24, 178, 71, 211, 444, 2766, 211, 366, 3446, 1306, 1237, 519, 2519, 1144, 2520, 2519, 1345, 886, 49, 519, 2514, 519, 5051, 519, 624, 519, 5052, 519, 2520, 2519, 60, 38, 209, 1176, 38, 3247, 1306, 324, 5053, 1309, 178, 352, 113, 384, 9, 5, 1969, 178, 4, 22, 25, 583, 377, 128, 130, 223, 64, 434, 97, 138, 178, 71, 5054, 280, 1555, 455, 1309, 324, 5055, 10, 178, 352, 113, 384, 9, 119, 5, 1969, 178, 4, 22, 25, 583, 377, 128, 130, 223, 64, 434, 97, 71, 2021, 2521, 5056, 48, 3, 3248, 52, 40, 21, 6, 3, 216, 3248, 52, 40, 21, 962, 724, 3, 384, 119, 5, 67, 25, 322, 404, 1898, 223, 3644, 238, 463, 351, 463, 116, 72, 214, 4, 833, 2615, 1688, 66, 5057, 1176, 1234, 4, 7, 324, 2425, 1171, 352, 113, 384, 79, 5, 1969, 178, 4, 22, 25, 322, 404, 487, 400, 223, 64, 434, 97, 24, 178, 71, 2767, 5058, 48, 260, 364, 529, 514, 70, 813, 2767, 5059, 3125, 5060, 3447, 178, 1098, 22, 351, 463, 116, 72, 463, 147, 545, 5061, 178, 3126, 1309, 5062, 1125, 571, 1113, 276, 833, 106, 1057, 304, 1176, 280, 2719, 381, 877, 70, 1413]\n"
          ]
        }
      ]
    },
    {
      "cell_type": "code",
      "metadata": {
        "id": "10PldKNSprXW",
        "colab": {
          "base_uri": "https://localhost:8080/"
        },
        "outputId": "50a6e77d-5e38-409c-92f2-a24591d5e39f"
      },
      "source": [
        "# Tokenize label data and print label dictionary\n",
        "label_tokenizer = Tokenizer(lower=True)\n",
        "label_tokenizer.fit_on_texts(labels)\n",
        "\n",
        "label_index = label_tokenizer.word_index\n",
        "print(dict(list(label_index.items())))\n",
        "\n",
        "# Print example label encodings from train and test datasets\n",
        "train_label_sequences = label_tokenizer.texts_to_sequences(train_labels)\n",
        "print(train_label_sequences[0])\n",
        "\n",
        "test_label_sequences = label_tokenizer.texts_to_sequences(test_labels)\n",
        "print(test_label_sequences[0])"
      ],
      "execution_count": null,
      "outputs": [
        {
          "output_type": "stream",
          "name": "stdout",
          "text": [
            "{'javadeveloper': 1, 'devopsengineer': 2, 'pythondeveloper': 3, 'webdesigning': 4, 'hr': 5, 'hadoop': 6, 'etldeveloper': 7, 'blockchain': 8, 'operationsmanager': 9, 'datascience': 10, 'mechanicalengineer': 11, 'sales': 12, 'arts': 13, 'database': 14, 'electricalengineering': 15, 'healthandfitness': 16, 'pmo': 17, 'dotnetdeveloper': 18, 'businessanalyst': 19, 'automationtesting': 20, 'networksecurityengineer': 21, 'civilengineer': 22, 'sapdeveloper': 23, 'advocate': 24}\n",
            "[1]\n",
            "[1]\n"
          ]
        }
      ]
    },
    {
      "cell_type": "code",
      "metadata": {
        "id": "SvHlL7PXpzBX",
        "colab": {
          "base_uri": "https://localhost:8080/"
        },
        "outputId": "d0bafe2c-9b30-487d-bb05-163a5c13afcf"
      },
      "source": [
        "# Pad sequences for feature data\n",
        "max_length = 300\n",
        "trunc_type = 'post'\n",
        "pad_type = 'post'\n",
        "\n",
        "train_feature_padded = pad_sequences(train_feature_sequences, maxlen=max_length, padding=pad_type, truncating=trunc_type)\n",
        "test_feature_padded = pad_sequences(test_feature_sequences, maxlen=max_length, padding=pad_type, truncating=trunc_type)\n",
        "\n",
        "# Print example padded sequences from train and test datasets\n",
        "print(train_feature_padded[0])\n",
        "print(test_feature_padded[0])"
      ],
      "execution_count": null,
      "outputs": [
        {
          "output_type": "stream",
          "name": "stdout",
          "text": [
            "[  44    7  628  294  250  132  452  171 4892 1243  646 4893  237   67\n",
            "   25   23   26    7   25  128    2   13   56    7    3 4894 4895   40\n",
            "   21    6 1205   25   23    0    0    0    0    0    0    0    0    0\n",
            "    0    0    0    0    0    0    0    0    0    0    0    0    0    0\n",
            "    0    0    0    0    0    0    0    0    0    0    0    0    0    0\n",
            "    0    0    0    0    0    0    0    0    0    0    0    0    0    0\n",
            "    0    0    0    0    0    0    0    0    0    0    0    0    0    0\n",
            "    0    0    0    0    0    0    0    0    0    0    0    0    0    0\n",
            "    0    0    0    0    0    0    0    0    0    0    0    0    0    0\n",
            "    0    0    0    0    0    0    0    0    0    0    0    0    0    0\n",
            "    0    0    0    0    0    0    0    0    0    0    0    0    0    0\n",
            "    0    0    0    0    0    0    0    0    0    0    0    0    0    0\n",
            "    0    0    0    0    0    0    0    0    0    0    0    0    0    0\n",
            "    0    0    0    0    0    0    0    0    0    0    0    0    0    0\n",
            "    0    0    0    0    0    0    0    0    0    0    0    0    0    0\n",
            "    0    0    0    0    0    0    0    0    0    0    0    0    0    0\n",
            "    0    0    0    0    0    0    0    0    0    0    0    0    0    0\n",
            "    0    0    0    0    0    0    0    0    0    0    0    0    0    0\n",
            "    0    0    0    0    0    0    0    0    0    0    0    0    0    0\n",
            "    0    0    0    0    0    0    0    0    0    0    0    0    0    0\n",
            "    0    0    0    0    0    0    0    0    0    0    0    0    0    0\n",
            "    0    0    0    0    0    0]\n",
            "[  46   34  214  225   25  583  377  322 3244   59   67  395  460  238\n",
            "  128  130  223 1898   16   64  940  226  629  322  226 3642  146 3245\n",
            " 1459  455 5048  163   14  102  493  169  275  190 3246   25   23  603\n",
            " 5049   46  237   25  603 5050  633 2948  526 4051  643  603 3643  100\n",
            "    7   44    7   31  258   35   29   15   29   53   31  188   92   35\n",
            "  806   15  806   53   31  207  432   35  806   15  806   53   31  294\n",
            "   35  806   15  806   53   25   23 1175 1860   25   23   26    7  198\n",
            "    2   19    9   12    5  223    2   19    9   12    5  583    2   19\n",
            "    9   12    5  395    2   19    9   12    5  322    2   19    9   12\n",
            "    5   25    2   19    9   12    5  130    2   19    9   12    5  377\n",
            "    2   19    9   12    5  128    2   19    9   12    5  238    2   19\n",
            "    9   12    5  322 3244    2   19    9   12   56    7    3 2518   52\n",
            "    6   65   25   23  117   80   75   22   25  583  377  223   59   52\n",
            "    3 2518   52 1554    6   67  270   25  583  377  395  460  238  128\n",
            "  130  223  238    4    7  324 2766   38  211 3037  352  113  384    9\n",
            "  119    5 1969   59   28  293   22   25  583  377  128  130  223   64\n",
            "  434   97   24  178   71  211  444 2766  211  366 3446 1306 1237  519\n",
            " 2519 1144 2520 2519 1345  886   49  519 2514  519 5051  519  624  519\n",
            " 5052  519 2520 2519   60   38  209 1176   38 3247 1306  324 5053 1309\n",
            "  178  352  113  384    9    5 1969  178    4   22   25  583  377  128\n",
            "  130  223   64  434   97  138  178   71 5054  280 1555  455 1309  324\n",
            " 5055   10  178  352  113  384]\n"
          ]
        }
      ]
    },
    {
      "cell_type": "code",
      "metadata": {
        "id": "89LGoDoqp39S",
        "colab": {
          "base_uri": "https://localhost:8080/"
        },
        "outputId": "fc764f05-8605-4a70-e8ef-a93258c15d6e"
      },
      "source": [
        "# Define the neural network\n",
        "embedding_dim = 64\n",
        "\n",
        "model = tf.keras.Sequential([\n",
        "  # Add an Embedding layer expecting input vocab of size 6000, and output embedding dimension of size 64 we set at the top\n",
        "  tf.keras.layers.Embedding(vocab_size, embedding_dim, input_length=300),\n",
        "  tf.keras.layers.Bidirectional(tf.keras.layers.LSTM(embedding_dim)),\n",
        "  #tf.keras.layers.Dense(embedding_dim, activation='relu'),\n",
        "\n",
        "  # use ReLU in place of tanh function since they are very good alternatives of each other.\n",
        "  #tf.keras.layers.Dropout(0.5),\n",
        "  tf.keras.layers.Dense(embedding_dim, activation='relu'),\n",
        "\n",
        "  # Add a Dense layer with 25 units and softmax activation for probability distribution\n",
        "  tf.keras.layers.Dense(25, activation='softmax')\n",
        "])\n",
        "\n",
        "model.summary()"
      ],
      "execution_count": null,
      "outputs": [
        {
          "output_type": "stream",
          "name": "stdout",
          "text": [
            "Model: \"sequential\"\n",
            "_________________________________________________________________\n",
            " Layer (type)                Output Shape              Param #   \n",
            "=================================================================\n",
            " embedding (Embedding)       (None, 300, 64)           384000    \n",
            "                                                                 \n",
            " bidirectional (Bidirectiona  (None, 128)              66048     \n",
            " l)                                                              \n",
            "                                                                 \n",
            " dense (Dense)               (None, 64)                8256      \n",
            "                                                                 \n",
            " dense_1 (Dense)             (None, 25)                1625      \n",
            "                                                                 \n",
            "=================================================================\n",
            "Total params: 459,929\n",
            "Trainable params: 459,929\n",
            "Non-trainable params: 0\n",
            "_________________________________________________________________\n"
          ]
        }
      ]
    },
    {
      "cell_type": "code",
      "metadata": {
        "id": "N7lkMhVa2JCV",
        "colab": {
          "base_uri": "https://localhost:8080/",
          "height": 295
        },
        "outputId": "be062a19-e3a0-42cb-e4c0-6183ba8dc5b9"
      },
      "source": [
        "\n",
        "# Alternative model\n",
        "embedding_dim = 64\n",
        "num_categories = 25\n",
        "\n",
        "model = tf.keras.Sequential([\n",
        "  tf.keras.layers.Embedding(input_dim=vocab_size, output_dim=embedding_dim, input_length=300),\n",
        "  tf.keras.layers.GlobalMaxPooling1D(),\n",
        "\n",
        "  # use ReLU in place of tanh function since they are very good alternatives of each other.\n",
        "  tf.keras.layers.Dense(128, activation='relu'),\n",
        "  # Add a Dense layer with 25 units and softmax activation for probability distribution\n",
        "  tf.keras.layers.Dense(num_categories, activation='softmax'),])\n",
        "\n",
        "model.summary()\n"
      ],
      "execution_count": null,
      "outputs": [
        {
          "output_type": "stream",
          "text": [
            "Model: \"sequential_4\"\n",
            "_________________________________________________________________\n",
            "Layer (type)                 Output Shape              Param #   \n",
            "=================================================================\n",
            "embedding_4 (Embedding)      (None, 300, 64)           384000    \n",
            "_________________________________________________________________\n",
            "global_max_pooling1d_3 (Glob (None, 64)                0         \n",
            "_________________________________________________________________\n",
            "dense_8 (Dense)              (None, 128)               8320      \n",
            "_________________________________________________________________\n",
            "dense_9 (Dense)              (None, 25)                3225      \n",
            "=================================================================\n",
            "Total params: 395,545\n",
            "Trainable params: 395,545\n",
            "Non-trainable params: 0\n",
            "_________________________________________________________________\n"
          ],
          "name": "stdout"
        }
      ]
    },
    {
      "cell_type": "code",
      "metadata": {
        "id": "BgCN2tjmp8a0"
      },
      "source": [
        "# Compile the model and convert train/test data into NumPy arrays\n",
        "model.compile(loss='sparse_categorical_crossentropy', optimizer='adam', metrics=['accuracy'])\n",
        "\n",
        "# Features\n",
        "train_feature_padded = np.array(train_feature_padded)\n",
        "test_feature_padded = np.array(test_feature_padded)\n",
        "\n",
        "# Labels\n",
        "train_label_sequences = np.array(train_label_sequences)\n",
        "test_label_sequences = np.array(test_label_sequences)\n",
        "\n",
        "# Print example values\n",
        "#print(train_feature_padded[0])\n",
        "#print(train_label_sequences[0])\n",
        "#print(test_feature_padded[0])\n",
        "#print(test_label_sequences[0])"
      ],
      "execution_count": null,
      "outputs": []
    },
    {
      "cell_type": "code",
      "metadata": {
        "id": "HjkpyftMp_gj",
        "colab": {
          "base_uri": "https://localhost:8080/"
        },
        "outputId": "8bebb89f-59b1-45c7-f0b3-77418fae4b8c"
      },
      "source": [
        "# Train the neural network\n",
        "num_epochs = 25\n",
        "\n",
        "history = model.fit(train_feature_padded, train_label_sequences, epochs=num_epochs, shuffle = True, validation_data=(test_feature_padded, test_label_sequences), verbose=2)"
      ],
      "execution_count": null,
      "outputs": [
        {
          "output_type": "stream",
          "name": "stdout",
          "text": [
            "Epoch 1/25\n",
            "23/23 - 12s - loss: 3.1527 - accuracy: 0.1038 - val_loss: 3.1034 - val_accuracy: 0.1955 - 12s/epoch - 532ms/step\n",
            "Epoch 2/25\n",
            "23/23 - 7s - loss: 2.8419 - accuracy: 0.1935 - val_loss: 2.6977 - val_accuracy: 0.2346 - 7s/epoch - 314ms/step\n",
            "Epoch 3/25\n",
            "23/23 - 7s - loss: 2.4021 - accuracy: 0.2959 - val_loss: 2.2395 - val_accuracy: 0.2235 - 7s/epoch - 313ms/step\n",
            "Epoch 4/25\n",
            "23/23 - 7s - loss: 1.9474 - accuracy: 0.4053 - val_loss: 1.7432 - val_accuracy: 0.4134 - 7s/epoch - 313ms/step\n",
            "Epoch 5/25\n",
            "23/23 - 7s - loss: 1.4856 - accuracy: 0.5414 - val_loss: 1.5580 - val_accuracy: 0.5363 - 7s/epoch - 312ms/step\n",
            "Epoch 6/25\n",
            "23/23 - 7s - loss: 1.2451 - accuracy: 0.6438 - val_loss: 1.0891 - val_accuracy: 0.6648 - 7s/epoch - 314ms/step\n",
            "Epoch 7/25\n",
            "23/23 - 7s - loss: 0.8702 - accuracy: 0.7854 - val_loss: 0.7355 - val_accuracy: 0.8659 - 7s/epoch - 315ms/step\n",
            "Epoch 8/25\n",
            "23/23 - 7s - loss: 0.5942 - accuracy: 0.9018 - val_loss: 0.5257 - val_accuracy: 0.8939 - 7s/epoch - 312ms/step\n",
            "Epoch 9/25\n",
            "23/23 - 7s - loss: 0.4113 - accuracy: 0.9158 - val_loss: 0.3669 - val_accuracy: 0.9777 - 7s/epoch - 315ms/step\n",
            "Epoch 10/25\n",
            "23/23 - 7s - loss: 0.2723 - accuracy: 0.9355 - val_loss: 0.2568 - val_accuracy: 0.9721 - 7s/epoch - 318ms/step\n",
            "Epoch 11/25\n",
            "23/23 - 7s - loss: 0.1857 - accuracy: 0.9790 - val_loss: 0.1888 - val_accuracy: 0.9944 - 7s/epoch - 315ms/step\n",
            "Epoch 12/25\n",
            "23/23 - 7s - loss: 0.3357 - accuracy: 0.9299 - val_loss: 0.3325 - val_accuracy: 0.9497 - 7s/epoch - 313ms/step\n",
            "Epoch 13/25\n",
            "23/23 - 7s - loss: 0.2134 - accuracy: 0.9804 - val_loss: 0.1768 - val_accuracy: 0.9944 - 7s/epoch - 314ms/step\n",
            "Epoch 14/25\n",
            "23/23 - 7s - loss: 0.1193 - accuracy: 0.9902 - val_loss: 0.1196 - val_accuracy: 0.9888 - 7s/epoch - 313ms/step\n",
            "Epoch 15/25\n",
            "23/23 - 7s - loss: 0.0827 - accuracy: 0.9944 - val_loss: 0.0768 - val_accuracy: 1.0000 - 7s/epoch - 312ms/step\n",
            "Epoch 16/25\n",
            "23/23 - 7s - loss: 0.0558 - accuracy: 0.9958 - val_loss: 0.0522 - val_accuracy: 1.0000 - 7s/epoch - 311ms/step\n",
            "Epoch 17/25\n",
            "23/23 - 7s - loss: 0.0381 - accuracy: 0.9972 - val_loss: 0.0385 - val_accuracy: 1.0000 - 7s/epoch - 311ms/step\n",
            "Epoch 18/25\n",
            "23/23 - 7s - loss: 0.0270 - accuracy: 1.0000 - val_loss: 0.0287 - val_accuracy: 1.0000 - 7s/epoch - 312ms/step\n",
            "Epoch 19/25\n",
            "23/23 - 7s - loss: 0.0200 - accuracy: 1.0000 - val_loss: 0.0227 - val_accuracy: 1.0000 - 7s/epoch - 313ms/step\n",
            "Epoch 20/25\n",
            "23/23 - 7s - loss: 0.0160 - accuracy: 1.0000 - val_loss: 0.0188 - val_accuracy: 1.0000 - 7s/epoch - 312ms/step\n",
            "Epoch 21/25\n",
            "23/23 - 7s - loss: 0.0132 - accuracy: 1.0000 - val_loss: 0.0158 - val_accuracy: 1.0000 - 7s/epoch - 311ms/step\n",
            "Epoch 22/25\n",
            "23/23 - 7s - loss: 0.0113 - accuracy: 1.0000 - val_loss: 0.0135 - val_accuracy: 1.0000 - 7s/epoch - 312ms/step\n",
            "Epoch 23/25\n",
            "23/23 - 7s - loss: 0.0099 - accuracy: 1.0000 - val_loss: 0.0118 - val_accuracy: 1.0000 - 7s/epoch - 315ms/step\n",
            "Epoch 24/25\n",
            "23/23 - 7s - loss: 0.0087 - accuracy: 1.0000 - val_loss: 0.0105 - val_accuracy: 1.0000 - 7s/epoch - 314ms/step\n",
            "Epoch 25/25\n",
            "23/23 - 7s - loss: 0.0078 - accuracy: 1.0000 - val_loss: 0.0095 - val_accuracy: 1.0000 - 7s/epoch - 313ms/step\n"
          ]
        }
      ]
    },
    {
      "cell_type": "code",
      "metadata": {
        "id": "ChtkGnwGyHXe",
        "colab": {
          "base_uri": "https://localhost:8080/",
          "height": 573
        },
        "outputId": "b39419fd-27d5-47f3-da74-206282af94a5"
      },
      "source": [
        "# Plot the training and validation loss \n",
        "plt.plot(history.history['accuracy'])\n",
        "plt.plot(history.history['val_accuracy'])\n",
        "plt.title('model accuracy')\n",
        "plt.ylabel('accuracy')\n",
        "plt.xlabel('epoch')\n",
        "plt.legend(['train', 'test'], loc='upper left')\n",
        "plt.show()\n",
        "# summarize history for loss\n",
        "plt.plot(history.history['loss'])\n",
        "plt.plot(history.history['val_loss'])\n",
        "plt.title('model loss')\n",
        "plt.ylabel('loss')\n",
        "plt.xlabel('epoch')\n",
        "plt.legend(['train', 'test'], loc='upper left')\n",
        "plt.show()"
      ],
      "execution_count": null,
      "outputs": [
        {
          "output_type": "display_data",
          "data": {
            "text/plain": [
              "<Figure size 432x288 with 1 Axes>"
            ],
            "image/png": "[encoded data removed]"
          },
          "metadata": {
            "needs_background": "light"
          }
        },
        {
          "output_type": "display_data",
          "data": {
            "text/plain": [
              "<Figure size 432x288 with 1 Axes>"
            ],
            "image/png": "[encoded data removed]"
          },
          "metadata": {
            "needs_background": "light"
          }
        }
      ]
    },
    {
      "cell_type": "code",
      "metadata": {
        "id": "YfTvLMAKqpWV",
        "colab": {
          "base_uri": "https://localhost:8080/"
        },
        "outputId": "667e37b4-fcd4-484e-862f-77c296848b45"
      },
      "source": [
        "# print example feature and its correct label\n",
        "print(test_features[5])\n",
        "print(test_labels[5])"
      ],
      "execution_count": null,
      "outputs": [
        {
          "output_type": "stream",
          "name": "stdout",
          "text": [
            "education details may 1999 september 2002 diploma mechanical engg mumbai maharashtra institute mechanical engg may 1998 may 1999 diploma mechanical engg services ites may 1993 may 1995 mumbai maharashtra industrial training institute sr executive mechanical engineering automation projects consultant sr executive mechanical engineering automation projects consultant mechanical engineering skill details microsoft office word excel auto cad micro station j erp 3d modeling software exprience 120 monthscompany details company mechanical engineering description role responsibilities application engineering pre sales inside sales provide applications support inside sales personnel outside sales channels provide product selection materials construction technical recommendations participate necessary training activities establish technical competency also participate field service trips directed top mgmt assist brand managers product managers needed takes active role support projects quotations team responsible technical part project quotation including selection sizing costing pneumatic automation products valves linear rotary actuator field fabrication equipment basis customer data sheets engineering drawing travel required support field sales channel promote company products services perform detailed reviews customer specifications providing comments clarifications alternatives customer requirements sizing selection valves actuators prepare cost effective techno commercial quotations solutions per customers technical requirements coordinate technical departments required order minimize technical cost risk sending quotations urately time including technical commercial per customer documentation requests participate customer negotiation process including commercial technical negotiations follow quotations close order also follow payment collection perform po reviews ensure critical elements correct take senior top managements customer case discrepancies get po amendment required create order transfer file submission factory ordance po support factory post order activities sales service necessary develop maintain good customer service role responsibilities proposal estimation engineering products costing review receive rfqs company products solutions estimation pneumatic automation products projects valves linear rotary actuator field equipment piping fabricated equipment etc plotting enquiries vendors critical bought items continuous follow vendors quotations applying thumb rule standard practice design estimating achieving uracy less time analyzing evaluating estimated cost actual cost jobs already manufactured past arrive realistic cost estimates maintaining databanks quotations readily available others also coordinating instrumentation electrical dept costing handling estimation department submitting offers time visit site site projects required co ordination purchase process departments attending customer enquiries meeting development vendors preparation statement enquiries pending estimation progress understand client concern pain area requirement offer suitable optimized tailor made predesigned chemtronics solution techno commercial proposal technically feasible commercially viable assign work jr proposal executives engineers guide coordinate design cad sales marketing project commercial department role responsibilities engg procurement purchase vendor development supply chain procurement steel raw material semi finish products based projects requirement continuous improvement negotiation process cost saving opportunities turn round time improvement new vendor development contract management tenders achieve target savings budget last purchase rates develop new vendors obtaining quotation finalization research evaluate potential vendors suppliers request quotes technical comparisons prices also maintain good relationships vendors suppliers examine review products supplies ensure quality digitize procurement processes track incoming future purchasing plans projects inventory delivery arrival time note actual arrival time organize update database suppliers delivery times invoices quantity supplies collaborate financial team members contracts invoicing financial matters finding suppliers buying various materials products finders well internet source create rfq materials projects departments project materials equipment services review vendor evaluation vendor registration supply time quality products company proposal estimation description duncan engineering ltd pune ranjangaon midc role responsibilities project execution vendor development supply chain management interacting vendors ensure timely action order negotiating vendor work directly customer understand process develop best solution requirement lead proposal engineering team technical support customer work sales team professionally represent company customer gather data ask right question define project work engineers designer develop quote cost effective solution cost estimation preparing proposal quotation base technical specification customer requirement identify production process machines brought item requirements co ordinate customer understand exact requirements identification critical problem work proper solution specified time frames production design new manufacturing process new product development developing customized manufacturing solutions steel power cement petrochemical sector executing cost saving techniques measures modifications achieve substantial reduction expenditures work within budget maintaining fruitful relationships existing customers company rotex engineers manufacturing pvt ltd description nov 2015 june 2016 rotex engineers manufacturing pvt ltd dombivali midc kaylan role responsibilities manage enhance activity related proposal pneumatics fabrication projects products project execution vendor development supply chain management interacting vendors ensure timely action order negotiating vendor production design new manufacturing process new product development developing customized manufacturing solutions steel power cement petrochemical sector preparation technical data sheets per tender specification calculate price structure analyze cost proposals monitoring progress throughout job comparing schedule work maintaining fruitful relationships existing customers review vendor evaluation vendor registration supply time quality products examine review products supplies ensure quality company design proposal engineering description schrader duncan ltd pune ranjangaon midc role responsibilities project execution vendor development supply chain management interacting vendors ensure timely action order negotiating vendor design modify mechanical assemblies hydraulic pneumatic assemblies fabricated assy along layouts schematics detailed drawings per specification generate electrical mechanical product specifications standard operating procedures maintenance manuals basic mechanical design required participate growth developing innovative solutions design development sales marketing team define coordinate perform generate engineering test reports engineering analysis co ordination production manager implement assure manufacturing processes followed ording process flow relevant departments maintain records non conformity nc raised internal audits close corrective actions maintain records obsolete documents remain touch hods maintain iso documents pertaining iso9001 2015 bring awareness among employees coordinate communicate channel partners e dealers consultants end customers design offer technically feasible carry internal audit per audit plan schedule maintain record controlled drawings company fabrication field hoist goods lifts description joist mech engg pvt ltd rabale midc thane role responsibilities detailing drawing preparations bom raw material inspection prototype manufacturing 3d modeling company fabrication field description company mukand ltd kurla description role responsibilities raw material inspection preparations gauge inspection marking housing machining checking surface finishing\n",
            "mechanicalengineer\n"
          ]
        }
      ]
    },
    {
      "cell_type": "code",
      "metadata": {
        "id": "DAqRBYLsqsS3",
        "colab": {
          "base_uri": "https://localhost:8080/"
        },
        "outputId": "e33a8dde-cdb0-47a9-b1b5-08377534929c"
      },
      "source": [
        "# Create padded sequence for example\n",
        "resume_example = test_features[5]\n",
        "example_sequence = feature_tokenizer.texts_to_sequences([resume_example])\n",
        "example_padded = pad_sequences(example_sequence, maxlen=max_length, padding=pad_type, truncating=trunc_type)\n",
        "example_padded = np.array(example_padded)\n",
        "print(example_padded)"
      ],
      "execution_count": null,
      "outputs": [
        {
          "output_type": "stream",
          "name": "stdout",
          "text": [
            "[[  55   35   35   59  201 2001   14  512    0    0    0    0    0    0\n",
            "     0    0    0    0    0    0    0    0    0    0    0    0    0    0\n",
            "     0    0    0    0    0    0    0    0    0    0    0    0    0    0\n",
            "     0    0    0    0    0    0    0    0    0    0    0    0    0    0\n",
            "     0    0    0    0    0    0    0    0    0    0    0    0    0    0\n",
            "     0    0    0    0    0    0    0    0    0    0    0    0    0    0\n",
            "     0    0    0    0    0    0    0    0    0    0    0    0    0    0\n",
            "     0    0    0    0    0    0    0    0    0    0    0    0    0    0\n",
            "     0    0    0    0    0    0    0    0    0    0    0    0    0    0\n",
            "     0    0    0    0    0    0    0    0    0    0    0    0    0    0\n",
            "     0    0    0    0    0    0    0    0    0    0    0    0    0    0\n",
            "     0    0    0    0    0    0    0    0    0    0    0    0    0    0\n",
            "     0    0    0    0    0    0    0    0    0    0    0    0    0    0\n",
            "     0    0    0    0    0    0    0    0    0    0    0    0    0    0\n",
            "     0    0    0    0    0    0    0    0    0    0    0    0    0    0\n",
            "     0    0    0    0    0    0    0    0    0    0    0    0    0    0\n",
            "     0    0    0    0    0    0    0    0    0    0    0    0    0    0\n",
            "     0    0    0    0    0    0    0    0    0    0    0    0    0    0\n",
            "     0    0    0    0    0    0    0    0    0    0    0    0    0    0\n",
            "     0    0    0    0    0    0    0    0    0    0    0    0    0    0\n",
            "     0    0    0    0    0    0    0    0    0    0    0    0    0    0\n",
            "     0    0    0    0    0    0]]\n"
          ]
        }
      ]
    },
    {
      "cell_type": "code",
      "metadata": {
        "id": "hIKf8crUq8wx"
      },
      "source": [
        "# Make a prediction\n",
        "prediction = model.predict(example_padded)"
      ],
      "execution_count": null,
      "outputs": []
    },
    {
      "cell_type": "code",
      "metadata": {
        "id": "OWYVziHMrCav",
        "colab": {
          "base_uri": "https://localhost:8080/"
        },
        "outputId": "88001723-9899-49ff-c3bf-f5567be9e53f"
      },
      "source": [
        "# Verify that prediction has correct format\n",
        "print(prediction[0])\n",
        "print(len(prediction[0]))  # should be 25\n",
        "print(np.sum(prediction[0]))  # should be 1"
      ],
      "execution_count": null,
      "outputs": [
        {
          "output_type": "stream",
          "name": "stdout",
          "text": [
            "[1.9579e-07 7.4474e-07 5.5082e-06 7.1034e-06 7.4175e-05 7.3988e-05\n",
            " 2.7556e-07 3.8635e-06 5.0459e-06 1.6288e-05 9.2647e-04 9.6903e-01\n",
            " 1.2270e-02 1.6589e-03 2.8200e-06 6.3843e-05 6.0209e-06 3.5412e-07\n",
            " 1.3193e-05 1.4608e-07 8.1571e-03 4.2625e-03 1.2698e-03 3.1279e-04\n",
            " 1.8411e-03]\n",
            "25\n",
            "0.99999994\n"
          ]
        }
      ]
    },
    {
      "cell_type": "code",
      "metadata": {
        "id": "7yf4KnNjrGcV",
        "colab": {
          "base_uri": "https://localhost:8080/"
        },
        "outputId": "c42b0be9-d58c-4742-dd3f-ce4cfc95ba7c"
      },
      "source": [
        "# Find maximum value in prediction and its index\n",
        "print(max(prediction[0]))  # confidence in prediction (as a fraction of 1)\n",
        "print(np.argmax(prediction[0])) # should be 3 which corresponds to python developer"
      ],
      "execution_count": null,
      "outputs": [
        {
          "output_type": "stream",
          "name": "stdout",
          "text": [
            "0.9690281\n",
            "11\n"
          ]
        }
      ]
    },
    {
      "cell_type": "code",
      "metadata": {
        "id": "Y-DNi39XxqCN",
        "colab": {
          "base_uri": "https://localhost:8080/"
        },
        "outputId": "5491262c-dcc3-4f06-8583-82c5d35e758c"
      },
      "source": [
        "# Indices of top 5 most probable solutions\n",
        "indices = np.argpartition(prediction[0], -5)[-5:]\n",
        "indices = indices[np.argsort(prediction[0][indices])]\n",
        "indices = list(reversed(indices))\n",
        "print(indices)"
      ],
      "execution_count": null,
      "outputs": [
        {
          "output_type": "stream",
          "name": "stdout",
          "text": [
            "[11, 12, 20, 21, 24]\n"
          ]
        }
      ]
    },
    {
      "cell_type": "code",
      "source": [
        "# Save reverse dictionary of labels to encodings\n",
        "label_to_encoding = dict(list(label_index.items()))\n",
        "print(label_to_encoding)\n",
        "\n",
        "encoding_to_label = {}\n",
        "for k, v in label_to_encoding.items():\n",
        "  encoding_to_label[v] = k\n",
        "print(encoding_to_label)"
      ],
      "metadata": {
        "colab": {
          "base_uri": "https://localhost:8080/"
        },
        "id": "cK33Nvur5k__",
        "outputId": "a1dddd7b-7142-457e-95cc-c736d83c49a4"
      },
      "execution_count": null,
      "outputs": [
        {
          "output_type": "stream",
          "name": "stdout",
          "text": [
            "{'javadeveloper': 1, 'devopsengineer': 2, 'pythondeveloper': 3, 'webdesigning': 4, 'hr': 5, 'hadoop': 6, 'etldeveloper': 7, 'blockchain': 8, 'operationsmanager': 9, 'datascience': 10, 'mechanicalengineer': 11, 'sales': 12, 'arts': 13, 'database': 14, 'electricalengineering': 15, 'healthandfitness': 16, 'pmo': 17, 'dotnetdeveloper': 18, 'businessanalyst': 19, 'automationtesting': 20, 'networksecurityengineer': 21, 'civilengineer': 22, 'sapdeveloper': 23, 'advocate': 24}\n",
            "{1: 'javadeveloper', 2: 'devopsengineer', 3: 'pythondeveloper', 4: 'webdesigning', 5: 'hr', 6: 'hadoop', 7: 'etldeveloper', 8: 'blockchain', 9: 'operationsmanager', 10: 'datascience', 11: 'mechanicalengineer', 12: 'sales', 13: 'arts', 14: 'database', 15: 'electricalengineering', 16: 'healthandfitness', 17: 'pmo', 18: 'dotnetdeveloper', 19: 'businessanalyst', 20: 'automationtesting', 21: 'networksecurityengineer', 22: 'civilengineer', 23: 'sapdeveloper', 24: 'advocate'}\n"
          ]
        }
      ]
    },
    {
      "cell_type": "code",
      "source": [
        "for x in indices:\n",
        "  print(encoding_to_label[x])"
      ],
      "metadata": {
        "colab": {
          "base_uri": "https://localhost:8080/"
        },
        "id": "igAofFuc5nfr",
        "outputId": "477ff773-bd29-4ea5-a042-8250d0b9650c"
      },
      "execution_count": null,
      "outputs": [
        {
          "output_type": "stream",
          "name": "stdout",
          "text": [
            "mechanicalengineer\n",
            "sales\n",
            "automationtesting\n",
            "networksecurityengineer\n",
            "advocate\n"
          ]
        }
      ]
    },
    {
      "cell_type": "code",
      "metadata": {
        "id": "pRxAe_QkrW_2"
      },
      "source": [
        "# Save model\n",
        "model.save('model.h5')"
      ],
      "execution_count": null,
      "outputs": []
    },
    {
      "cell_type": "markdown",
      "source": [
        "**LOAD THE MODEL**"
      ],
      "metadata": {
        "id": "1ruM3HK4me7_"
      }
    },
    {
      "cell_type": "code",
      "source": [
        "load_model = tf.keras.models.load_model('drive/MyDrive/Bangkit 2022/Capstone Project/model.h5')"
      ],
      "metadata": {
        "id": "Xyszg3VwmiLG"
      },
      "execution_count": null,
      "outputs": []
    },
    {
      "cell_type": "code",
      "source": [
        "resume_example = 'design'\n",
        "example_sequence = feature_tokenizer.texts_to_sequences([resume_example])\n",
        "example_padded = pad_sequences(example_sequence, maxlen=max_length, padding=pad_type, truncating=trunc_type)\n",
        "example_padded = np.array(example_padded)\n",
        "print(example_padded)"
      ],
      "metadata": {
        "colab": {
          "base_uri": "https://localhost:8080/"
        },
        "id": "j-_qYJvmm9BC",
        "outputId": "4e03ff74-a57e-431b-b801-86c6bb427b26"
      },
      "execution_count": null,
      "outputs": [
        {
          "output_type": "stream",
          "name": "stdout",
          "text": [
            "[[51  0  0  0  0  0  0  0  0  0  0  0  0  0  0  0  0  0  0  0  0  0  0  0\n",
            "   0  0  0  0  0  0  0  0  0  0  0  0  0  0  0  0  0  0  0  0  0  0  0  0\n",
            "   0  0  0  0  0  0  0  0  0  0  0  0  0  0  0  0  0  0  0  0  0  0  0  0\n",
            "   0  0  0  0  0  0  0  0  0  0  0  0  0  0  0  0  0  0  0  0  0  0  0  0\n",
            "   0  0  0  0  0  0  0  0  0  0  0  0  0  0  0  0  0  0  0  0  0  0  0  0\n",
            "   0  0  0  0  0  0  0  0  0  0  0  0  0  0  0  0  0  0  0  0  0  0  0  0\n",
            "   0  0  0  0  0  0  0  0  0  0  0  0  0  0  0  0  0  0  0  0  0  0  0  0\n",
            "   0  0  0  0  0  0  0  0  0  0  0  0  0  0  0  0  0  0  0  0  0  0  0  0\n",
            "   0  0  0  0  0  0  0  0  0  0  0  0  0  0  0  0  0  0  0  0  0  0  0  0\n",
            "   0  0  0  0  0  0  0  0  0  0  0  0  0  0  0  0  0  0  0  0  0  0  0  0\n",
            "   0  0  0  0  0  0  0  0  0  0  0  0  0  0  0  0  0  0  0  0  0  0  0  0\n",
            "   0  0  0  0  0  0  0  0  0  0  0  0  0  0  0  0  0  0  0  0  0  0  0  0\n",
            "   0  0  0  0  0  0  0  0  0  0  0  0]]\n"
          ]
        }
      ]
    },
    {
      "cell_type": "code",
      "source": [
        "prediction = load_model.predict(example_padded)"
      ],
      "metadata": {
        "id": "zsjbo5mWm9Em"
      },
      "execution_count": null,
      "outputs": []
    },
    {
      "cell_type": "code",
      "source": [
        "# Indices of top 5 most probable solutions\n",
        "indices = np.argpartition(prediction[0], -5)[-5:]\n",
        "indices = indices[np.argsort(prediction[0][indices])]\n",
        "indices = list(reversed(indices))\n",
        "print(indices)"
      ],
      "metadata": {
        "colab": {
          "base_uri": "https://localhost:8080/"
        },
        "id": "ogo-cweTnYqc",
        "outputId": "5f2974c3-87e3-490a-f670-afec53202a1f"
      },
      "execution_count": null,
      "outputs": [
        {
          "output_type": "stream",
          "name": "stdout",
          "text": [
            "[11, 24, 12, 20, 21]\n"
          ]
        }
      ]
    },
    {
      "cell_type": "code",
      "source": [
        "for x in indices:\n",
        "  print(encoding_to_label[x])"
      ],
      "metadata": {
        "colab": {
          "base_uri": "https://localhost:8080/"
        },
        "id": "1X4yWmxGnoh1",
        "outputId": "4c82c1b4-970c-4646-cbeb-d508732a9799"
      },
      "execution_count": null,
      "outputs": [
        {
          "output_type": "stream",
          "name": "stdout",
          "text": [
            "mechanicalengineer\n",
            "advocate\n",
            "sales\n",
            "automationtesting\n",
            "networksecurityengineer\n"
          ]
        }
      ]
    },
    {
      "cell_type": "markdown",
      "source": [
        "**EXTRAS**"
      ],
      "metadata": {
        "id": "HY07EsIanQMv"
      }
    },
    {
      "cell_type": "code",
      "metadata": {
        "id": "Xo584Smdr4ps"
      },
      "source": [
        "# Save feature tokenizer\n",
        "with open('feature_tokenizer.pickle', 'wb') as handle:\n",
        "    pickle.dump(feature_tokenizer, handle, protocol=pickle.HIGHEST_PROTOCOL)"
      ],
      "execution_count": null,
      "outputs": []
    },
    {
      "cell_type": "code",
      "metadata": {
        "id": "Ul39OZ10sJCC",
        "colab": {
          "base_uri": "https://localhost:8080/",
          "height": 72
        },
        "outputId": "ef21da9c-2632-4418-b0dc-919acd24faad"
      },
      "source": [
        "# Save reverse dictionary of labels to encodings\n",
        "label_to_encoding = dict(list(label_index.items()))\n",
        "print(label_to_encoding)\n",
        "\n",
        "encoding_to_label = {}\n",
        "for k, v in label_to_encoding.items():\n",
        "  encoding_to_label[v] = k\n",
        "print(encoding_to_label)\n",
        "\n",
        "with open('dictionary.pickle', 'wb') as handle:\n",
        "    pickle.dump(encoding_to_label, handle, protocol=pickle.HIGHEST_PROTOCOL)"
      ],
      "execution_count": null,
      "outputs": [
        {
          "output_type": "stream",
          "text": [
            "{'javadeveloper': 1, 'devopsengineer': 2, 'pythondeveloper': 3, 'webdesigning': 4, 'hr': 5, 'hadoop': 6, 'blockchain': 7, 'mechanicalengineer': 8, 'operationsmanager': 9, 'etldeveloper': 10, 'sales': 11, 'datascience': 12, 'arts': 13, 'database': 14, 'electricalengineering': 15, 'pmo': 16, 'healthandfitness': 17, 'dotnetdeveloper': 18, 'businessanalyst': 19, 'automationtesting': 20, 'networksecurityengineer': 21, 'civilengineer': 22, 'sapdeveloper': 23, 'advocate': 24}\n",
            "{1: 'javadeveloper', 2: 'devopsengineer', 3: 'pythondeveloper', 4: 'webdesigning', 5: 'hr', 6: 'hadoop', 7: 'blockchain', 8: 'mechanicalengineer', 9: 'operationsmanager', 10: 'etldeveloper', 11: 'sales', 12: 'datascience', 13: 'arts', 14: 'database', 15: 'electricalengineering', 16: 'pmo', 17: 'healthandfitness', 18: 'dotnetdeveloper', 19: 'businessanalyst', 20: 'automationtesting', 21: 'networksecurityengineer', 22: 'civilengineer', 23: 'sapdeveloper', 24: 'advocate'}\n"
          ],
          "name": "stdout"
        }
      ]
    },
    {
      "cell_type": "code",
      "metadata": {
        "id": "7rFzn7JcuOVz",
        "colab": {
          "base_uri": "https://localhost:8080/",
          "height": 35
        },
        "outputId": "3f1e86c2-8c33-4a61-9416-b8b87895b6ae"
      },
      "source": [
        "print(encoding_to_label[np.argmax(prediction[0])])"
      ],
      "execution_count": null,
      "outputs": [
        {
          "output_type": "stream",
          "text": [
            "automationtesting\n"
          ],
          "name": "stdout"
        }
      ]
    }
  ]
}