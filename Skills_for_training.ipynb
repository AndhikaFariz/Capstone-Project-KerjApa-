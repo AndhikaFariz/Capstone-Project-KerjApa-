{
  "nbformat": 4,
  "nbformat_minor": 0,
  "metadata": {
    "colab": {
      "name": "Skills_for_training.ipynb",
      "provenance": []
    },
    "kernelspec": {
      "name": "python3",
      "display_name": "Python 3"
    },
    "language_info": {
      "name": "python"
    }
  },
  "cells": [
    {
      "cell_type": "code",
      "execution_count": 1,
      "metadata": {
        "colab": {
          "base_uri": "https://localhost:8080/",
          "height": 35
        },
        "id": "dC9I4OAgFCH1",
        "outputId": "0c02166b-eaf4-4ba5-843b-ef488ebcd4b4"
      },
      "outputs": [
        {
          "output_type": "execute_result",
          "data": {
            "text/plain": [
              "'1.0.2'"
            ],
            "application/vnd.google.colaboratory.intrinsic+json": {
              "type": "string"
            }
          },
          "metadata": {},
          "execution_count": 1
        }
      ],
      "source": [
        "#import sklearn\n",
        "#sklearn.__version__"
      ]
    },
    {
      "cell_type": "code",
      "source": [
        "#pip uninstall scikit-learn"
      ],
      "metadata": {
        "colab": {
          "base_uri": "https://localhost:8080/"
        },
        "id": "Kv8b8SU8HbGH",
        "outputId": "2613d815-4d37-49de-9a4f-f15e6bba6d58"
      },
      "execution_count": null,
      "outputs": [
        {
          "output_type": "stream",
          "name": "stdout",
          "text": [
            "Found existing installation: scikit-learn 1.0.2\n",
            "Uninstalling scikit-learn-1.0.2:\n",
            "  Would remove:\n",
            "    /usr/local/lib/python3.7/dist-packages/scikit_learn-1.0.2.dist-info/*\n",
            "    /usr/local/lib/python3.7/dist-packages/scikit_learn.libs/libgomp-a34b3233.so.1.0.0\n",
            "    /usr/local/lib/python3.7/dist-packages/sklearn/*\n",
            "Proceed (y/n)? y\n",
            "  Successfully uninstalled scikit-learn-1.0.2\n"
          ]
        }
      ]
    },
    {
      "cell_type": "code",
      "source": [
        "!pip install scikit-learn\n",
        "!pip install fuzzywuzzy\n",
        "!pip install Levenshtein\n",
        "import nltk\n",
        "nltk.download('stopwords')\n",
        "#!pip install pickle"
      ],
      "metadata": {
        "colab": {
          "base_uri": "https://localhost:8080/"
        },
        "id": "wDCTBhQ1HnH9",
        "outputId": "c511d45e-d53c-4ec4-d410-aaac43089c6d"
      },
      "execution_count": 2,
      "outputs": [
        {
          "output_type": "stream",
          "name": "stdout",
          "text": [
            "Looking in indexes: https://pypi.org/simple, https://us-python.pkg.dev/colab-wheels/public/simple/\n",
            "Requirement already satisfied: scikit-learn in /usr/local/lib/python3.7/dist-packages (1.0.2)\n",
            "Requirement already satisfied: scipy>=1.1.0 in /usr/local/lib/python3.7/dist-packages (from scikit-learn) (1.4.1)\n",
            "Requirement already satisfied: numpy>=1.14.6 in /usr/local/lib/python3.7/dist-packages (from scikit-learn) (1.21.6)\n",
            "Requirement already satisfied: joblib>=0.11 in /usr/local/lib/python3.7/dist-packages (from scikit-learn) (1.1.0)\n",
            "Requirement already satisfied: threadpoolctl>=2.0.0 in /usr/local/lib/python3.7/dist-packages (from scikit-learn) (3.1.0)\n",
            "Looking in indexes: https://pypi.org/simple, https://us-python.pkg.dev/colab-wheels/public/simple/\n",
            "Requirement already satisfied: fuzzywuzzy in /usr/local/lib/python3.7/dist-packages (0.18.0)\n",
            "Looking in indexes: https://pypi.org/simple, https://us-python.pkg.dev/colab-wheels/public/simple/\n",
            "Requirement already satisfied: Levenshtein in /usr/local/lib/python3.7/dist-packages (0.18.1)\n",
            "Requirement already satisfied: rapidfuzz<3.0.0,>=2.0.1 in /usr/local/lib/python3.7/dist-packages (from Levenshtein) (2.0.11)\n",
            "Requirement already satisfied: jarowinkler<1.1.0,>=1.0.2 in /usr/local/lib/python3.7/dist-packages (from rapidfuzz<3.0.0,>=2.0.1->Levenshtein) (1.0.2)\n",
            "[nltk_data] Downloading package stopwords to /root/nltk_data...\n",
            "[nltk_data]   Unzipping corpora/stopwords.zip.\n"
          ]
        },
        {
          "output_type": "execute_result",
          "data": {
            "text/plain": [
              "True"
            ]
          },
          "metadata": {},
          "execution_count": 2
        }
      ]
    },
    {
      "cell_type": "code",
      "source": [
        "import pandas as pd\n",
        "import numpy as np\n",
        "import warnings\n",
        "warnings.filterwarnings('ignore')\n",
        "import string\n",
        "from nltk import word_tokenize\n",
        "from nltk.corpus import stopwords\n",
        "from nltk.stem.porter import PorterStemmer\n",
        "from nltk.tokenize import RegexpTokenizer\n",
        "from nltk.stem import WordNetLemmatizer\n",
        "from nltk import pos_tag\n",
        "from scipy import stats\n",
        "from ast import literal_eval\n",
        "from sklearn.feature_extraction.text import TfidfVectorizer, CountVectorizer\n",
        "from sklearn.metrics.pairwise import linear_kernel, cosine_similarity\n",
        "import Levenshtein\n",
        "from fuzzywuzzy import process, fuzz"
      ],
      "metadata": {
        "id": "xqcIv5wAHK-i",
        "colab": {
          "base_uri": "https://localhost:8080/"
        },
        "outputId": "d6857aa8-2f37-4080-8300-ec039e55387e"
      },
      "execution_count": 3,
      "outputs": [
        {
          "output_type": "stream",
          "name": "stdout",
          "text": [
            "[nltk_data] Downloading package stopwords to /root/nltk_data...\n",
            "[nltk_data]   Package stopwords is already up-to-date!\n"
          ]
        },
        {
          "output_type": "execute_result",
          "data": {
            "text/plain": [
              "True"
            ]
          },
          "metadata": {},
          "execution_count": 3
        }
      ]
    },
    {
      "cell_type": "code",
      "source": [
        "from google.colab import drive\n",
        "drive.mount('/content/drive')"
      ],
      "metadata": {
        "colab": {
          "base_uri": "https://localhost:8080/"
        },
        "id": "qmVdMVguGXmh",
        "outputId": "d3364646-d332-4613-967d-ac72e20dbb6c"
      },
      "execution_count": 4,
      "outputs": [
        {
          "output_type": "stream",
          "name": "stdout",
          "text": [
            "Mounted at /content/drive\n"
          ]
        }
      ]
    },
    {
      "cell_type": "code",
      "source": [
        "dataset = 'drive/MyDrive/Bangkit 2022/Capstone Project/dice_com-job_us_sample.csv'"
      ],
      "metadata": {
        "id": "3DlB-upTKN0W"
      },
      "execution_count": 5,
      "outputs": []
    },
    {
      "cell_type": "code",
      "source": [
        "data = pd.read_csv(dataset)\n",
        "df = data.copy()"
      ],
      "metadata": {
        "id": "XGZhbBgPKUla"
      },
      "execution_count": 6,
      "outputs": []
    },
    {
      "cell_type": "code",
      "source": [
        "df_skills = df.copy()\n",
        "df_skills = df_skills[df_skills['skills'].notnull()]"
      ],
      "metadata": {
        "id": "RxwUSNaTKrs9"
      },
      "execution_count": 7,
      "outputs": []
    },
    {
      "cell_type": "code",
      "source": [
        "def preprocess_skills(text):\n",
        "  text = text.lower()\n",
        "\n",
        "  tokenizer = RegexpTokenizer(r'\\w+')\n",
        "  text = tokenizer.tokenize(text)\n",
        "  stop_words = stopwords.words('english')\n",
        "  filtered_words = [word for word in text if word not in stop_words]\n",
        "\n",
        "  return ' '.join(word for word in filtered_words)"
      ],
      "metadata": {
        "id": "i4LpN4csK-Tq"
      },
      "execution_count": 8,
      "outputs": []
    },
    {
      "cell_type": "code",
      "source": [
        "df_skills['skills'] = df_skills['skills'].apply(lambda x: preprocess_skills(x))"
      ],
      "metadata": {
        "id": "ijnKjtfrLCO_"
      },
      "execution_count": 9,
      "outputs": []
    },
    {
      "cell_type": "code",
      "source": [
        "tf = TfidfVectorizer(analyzer='word', ngram_range=(1,2), min_df=0, stop_words='english')\n",
        "tfidf_matrix = tf.fit_transform(df_skills['skills'])"
      ],
      "metadata": {
        "id": "mBB2seAjMRig"
      },
      "execution_count": 10,
      "outputs": []
    },
    {
      "cell_type": "code",
      "source": [
        "import pickle\n",
        "pickle.dump(tfidf_matrix, open('tfidf_vectorizer_skills.pickle', 'wb'))"
      ],
      "metadata": {
        "id": "OwJ_rADRMreP"
      },
      "execution_count": 12,
      "outputs": []
    },
    {
      "cell_type": "code",
      "source": [
        "cosine_sim = linear_kernel(tfidf_matrix, tfidf_matrix)"
      ],
      "metadata": {
        "id": "bHWRMrN-OZ36"
      },
      "execution_count": 13,
      "outputs": []
    },
    {
      "cell_type": "code",
      "source": [
        "df_skills = df_skills.reset_index()\n",
        "skills = df_skills['skills']\n",
        "indices = pd.Series(df_skills.index, index=df_skills['skills'])\n",
        "df_skills.to_csv('jobs_recommends.csv')\n",
        "indices.to_csv('skills_indices.csv')\n",
        "skills.to_csv('skills.csv')"
      ],
      "metadata": {
        "id": "lAIF_lHpxXC3"
      },
      "execution_count": 18,
      "outputs": []
    },
    {
      "cell_type": "code",
      "source": [
        "def get_most_similar_skills(skills):\n",
        "  return indices[process.extractOne(skills, indices.index, scorer=fuzz.token_sort_ratio)[0]]"
      ],
      "metadata": {
        "id": "DlCQ1quxyorD"
      },
      "execution_count": 24,
      "outputs": []
    },
    {
      "cell_type": "code",
      "source": [
        "def get_recommendation(input_skills):\n",
        "  idx = get_most_similar_skills(input_skills.lower())\n",
        "  sim_scores = list(enumerate(cosine_sim[idx]))\n",
        "  sim_scores = sorted(sim_scores, key=lambda x: x[1], reverse=True)\n",
        "  job_indices = [i[0] for i in sim_scores]\n",
        "  skills = df_skills['skills']\n",
        "  return skills.iloc[job_indices]"
      ],
      "metadata": {
        "id": "9j76Snbhzr09"
      },
      "execution_count": 25,
      "outputs": []
    },
    {
      "cell_type": "code",
      "source": [
        "def get_recommendation(input_skills, tfidf_matrix, df_skills, indices):\n",
        "  cosine_sim = linear_kernel(tfidf_matrix, tfidf_matrix)\n",
        "  idx = indices[process.extractOne(input_skill.lower(), indices.index, scorer=fuzz.token_sort_ratio)[0]]\n",
        "\n",
        "  if isinstance(idx, pd.Series):\n",
        "    idx = idx[0]\n",
        "\n",
        "  sim_scores = list(enumerate(cosine_sim[idx]))\n",
        "  sim_scores = sorted(sim_scores, key=lambda x: x[1], reverse=True)\n",
        "  job_indices = [i[0] for i in sim_scores]\n",
        "  return indices.iloc[job_indices], job_indices"
      ],
      "metadata": {
        "id": "PphUHJwt1tXI"
      },
      "execution_count": 26,
      "outputs": []
    },
    {
      "cell_type": "code",
      "source": [
        "#if __name__ == '__main__':\n",
        "df_skills = pd.read_csv('skills.csv', usecols=['skills'])\n",
        "main_df = pd.read_csv('jobs_recommends.csv', index_col='index')\n",
        "indices = pd.read_csv('skills_indices.csv')\n",
        "indices = pd.Series(indices.index, index=indices['skills'])\n",
        "\n",
        "with open('tfidf_vectorizer_skills.pickle', 'rb') as f:\n",
        "  tfidf_matrix = pickle.load(f)\n",
        "input_skill = input('Enter the skills ')\n",
        "recommendation, job_indices = get_recommendation(input_skill, tfidf_matrix, df_skills, indices)"
      ],
      "metadata": {
        "colab": {
          "base_uri": "https://localhost:8080/"
        },
        "id": "LTCrab1J2_57",
        "outputId": "b1b91d1e-15e9-449d-f492-4d7dc4e76564"
      },
      "execution_count": 31,
      "outputs": [
        {
          "name": "stdout",
          "output_type": "stream",
          "text": [
            "Enter the skills python\n"
          ]
        }
      ]
    },
    {
      "cell_type": "code",
      "source": [
        "main_df.iloc[job_indices, :].head()"
      ],
      "metadata": {
        "colab": {
          "base_uri": "https://localhost:8080/",
          "height": 579
        },
        "id": "sxHMdVOR4TTd",
        "outputId": "dbc9c1c6-7d21-41bc-acb1-0e26ae5a5259"
      },
      "execution_count": 32,
      "outputs": [
        {
          "output_type": "execute_result",
          "data": {
            "text/plain": [
              "       Unnamed: 0                                      advertiserurl  \\\n",
              "index                                                                  \n",
              "1338         1335  https://www.dice.com/jobs/detail/Software-Test...   \n",
              "1809         1806  https://www.dice.com/jobs/detail/Sr-Python-Dev...   \n",
              "2854         2851  https://www.dice.com/jobs/detail/C%252B%252B-%...   \n",
              "3401         3398  https://www.dice.com/jobs/detail/Python-Develo...   \n",
              "4554         4538  https://www.dice.com/jobs/detail/C%252B%252B-D...   \n",
              "\n",
              "                       company  \\\n",
              "index                            \n",
              "1338               Stowe Group   \n",
              "1809              Loganbritton   \n",
              "2854      COESYS Solutions Inc   \n",
              "3401   MphasiS Corporation USA   \n",
              "4554     United Software Group   \n",
              "\n",
              "                                employmenttype_jobstatus  \\\n",
              "index                                                      \n",
              "1338           C2H Independent, C2H W2, 6 Months to Perm   \n",
              "1809   Full Time, Contract Corp-To-Corp, Contract Ind...   \n",
              "2854                   Contract Independent, Contract W2   \n",
              "3401                                           Full Time   \n",
              "4554   Full Time, Contract Corp-To-Corp, Contract Ind...   \n",
              "\n",
              "                                          jobdescription                jobid  \\\n",
              "index                                                                           \n",
              "1338   US Citizen and GC onlyProject Description:  My...  Dice Id : 10291975A   \n",
              "1809   • 5+ years as an Object Oriented Software Deve...   Dice Id : 10109326   \n",
              "2854   C++ and python DeveloperDescriptionDesign and ...   Dice Id : 10220327   \n",
              "3401    We are seeking an hands-on technologist with ...  Dice Id : 501494924   \n",
              "4554   Hi,This is Siva from United Software Group Inc...   Dice Id : 10204540   \n",
              "\n",
              "      joblocation_address                jobtitle     postdate  \\\n",
              "index                                                            \n",
              "1338       Manchester, NH  Software Test Engineer   1 week ago   \n",
              "1809           Boston, MA     Sr Python Developer  3 weeks ago   \n",
              "2854       Orangeburg, NY   C++ /Python Developer  3 weeks ago   \n",
              "3401         Brooklyn, NY        Python Developer  2 weeks ago   \n",
              "4554          Redmond, WA           C++ Developer  2 hours ago   \n",
              "\n",
              "                                                 shift     site_name  \\\n",
              "index                                                                  \n",
              "1338   Telecommuting not available|Travel not required  www.dice.com   \n",
              "1809   Telecommuting not available|Travel not required  www.dice.com   \n",
              "2854   Telecommuting not available|Travel not required           NaN   \n",
              "3401   Telecommuting not available|Travel not required           NaN   \n",
              "4554   Telecommuting not available|Travel not required           NaN   \n",
              "\n",
              "         skills                           uniq_id  \n",
              "index                                              \n",
              "1338   c python  93cd95261c4f2cff338524547dd89641  \n",
              "1809     python  ba1347f82f63753afd2391ed51be81de  \n",
              "2854   c python  144c5e14781a896e5a80f4263070e6fc  \n",
              "3401     python  fb653dca4c49045fa78962780717e10a  \n",
              "4554   c python  7bf931e53acbb984c4b88b3dbd6512c9  "
            ],
            "text/html": [
              "\n",
              "  <div id=\"df-32e65e87-6cbb-46be-aed5-2c95c3276469\">\n",
              "    <div class=\"colab-df-container\">\n",
              "      <div>\n",
              "<style scoped>\n",
              "    .dataframe tbody tr th:only-of-type {\n",
              "        vertical-align: middle;\n",
              "    }\n",
              "\n",
              "    .dataframe tbody tr th {\n",
              "        vertical-align: top;\n",
              "    }\n",
              "\n",
              "    .dataframe thead th {\n",
              "        text-align: right;\n",
              "    }\n",
              "</style>\n",
              "<table border=\"1\" class=\"dataframe\">\n",
              "  <thead>\n",
              "    <tr style=\"text-align: right;\">\n",
              "      <th></th>\n",
              "      <th>Unnamed: 0</th>\n",
              "      <th>advertiserurl</th>\n",
              "      <th>company</th>\n",
              "      <th>employmenttype_jobstatus</th>\n",
              "      <th>jobdescription</th>\n",
              "      <th>jobid</th>\n",
              "      <th>joblocation_address</th>\n",
              "      <th>jobtitle</th>\n",
              "      <th>postdate</th>\n",
              "      <th>shift</th>\n",
              "      <th>site_name</th>\n",
              "      <th>skills</th>\n",
              "      <th>uniq_id</th>\n",
              "    </tr>\n",
              "    <tr>\n",
              "      <th>index</th>\n",
              "      <th></th>\n",
              "      <th></th>\n",
              "      <th></th>\n",
              "      <th></th>\n",
              "      <th></th>\n",
              "      <th></th>\n",
              "      <th></th>\n",
              "      <th></th>\n",
              "      <th></th>\n",
              "      <th></th>\n",
              "      <th></th>\n",
              "      <th></th>\n",
              "      <th></th>\n",
              "    </tr>\n",
              "  </thead>\n",
              "  <tbody>\n",
              "    <tr>\n",
              "      <th>1338</th>\n",
              "      <td>1335</td>\n",
              "      <td>https://www.dice.com/jobs/detail/Software-Test...</td>\n",
              "      <td>Stowe Group</td>\n",
              "      <td>C2H Independent, C2H W2, 6 Months to Perm</td>\n",
              "      <td>US Citizen and GC onlyProject Description:  My...</td>\n",
              "      <td>Dice Id : 10291975A</td>\n",
              "      <td>Manchester, NH</td>\n",
              "      <td>Software Test Engineer</td>\n",
              "      <td>1 week ago</td>\n",
              "      <td>Telecommuting not available|Travel not required</td>\n",
              "      <td>www.dice.com</td>\n",
              "      <td>c python</td>\n",
              "      <td>93cd95261c4f2cff338524547dd89641</td>\n",
              "    </tr>\n",
              "    <tr>\n",
              "      <th>1809</th>\n",
              "      <td>1806</td>\n",
              "      <td>https://www.dice.com/jobs/detail/Sr-Python-Dev...</td>\n",
              "      <td>Loganbritton</td>\n",
              "      <td>Full Time, Contract Corp-To-Corp, Contract Ind...</td>\n",
              "      <td>• 5+ years as an Object Oriented Software Deve...</td>\n",
              "      <td>Dice Id : 10109326</td>\n",
              "      <td>Boston, MA</td>\n",
              "      <td>Sr Python Developer</td>\n",
              "      <td>3 weeks ago</td>\n",
              "      <td>Telecommuting not available|Travel not required</td>\n",
              "      <td>www.dice.com</td>\n",
              "      <td>python</td>\n",
              "      <td>ba1347f82f63753afd2391ed51be81de</td>\n",
              "    </tr>\n",
              "    <tr>\n",
              "      <th>2854</th>\n",
              "      <td>2851</td>\n",
              "      <td>https://www.dice.com/jobs/detail/C%252B%252B-%...</td>\n",
              "      <td>COESYS Solutions Inc</td>\n",
              "      <td>Contract Independent, Contract W2</td>\n",
              "      <td>C++ and python DeveloperDescriptionDesign and ...</td>\n",
              "      <td>Dice Id : 10220327</td>\n",
              "      <td>Orangeburg, NY</td>\n",
              "      <td>C++ /Python Developer</td>\n",
              "      <td>3 weeks ago</td>\n",
              "      <td>Telecommuting not available|Travel not required</td>\n",
              "      <td>NaN</td>\n",
              "      <td>c python</td>\n",
              "      <td>144c5e14781a896e5a80f4263070e6fc</td>\n",
              "    </tr>\n",
              "    <tr>\n",
              "      <th>3401</th>\n",
              "      <td>3398</td>\n",
              "      <td>https://www.dice.com/jobs/detail/Python-Develo...</td>\n",
              "      <td>MphasiS Corporation USA</td>\n",
              "      <td>Full Time</td>\n",
              "      <td>We are seeking an hands-on technologist with ...</td>\n",
              "      <td>Dice Id : 501494924</td>\n",
              "      <td>Brooklyn, NY</td>\n",
              "      <td>Python Developer</td>\n",
              "      <td>2 weeks ago</td>\n",
              "      <td>Telecommuting not available|Travel not required</td>\n",
              "      <td>NaN</td>\n",
              "      <td>python</td>\n",
              "      <td>fb653dca4c49045fa78962780717e10a</td>\n",
              "    </tr>\n",
              "    <tr>\n",
              "      <th>4554</th>\n",
              "      <td>4538</td>\n",
              "      <td>https://www.dice.com/jobs/detail/C%252B%252B-D...</td>\n",
              "      <td>United Software Group</td>\n",
              "      <td>Full Time, Contract Corp-To-Corp, Contract Ind...</td>\n",
              "      <td>Hi,This is Siva from United Software Group Inc...</td>\n",
              "      <td>Dice Id : 10204540</td>\n",
              "      <td>Redmond, WA</td>\n",
              "      <td>C++ Developer</td>\n",
              "      <td>2 hours ago</td>\n",
              "      <td>Telecommuting not available|Travel not required</td>\n",
              "      <td>NaN</td>\n",
              "      <td>c python</td>\n",
              "      <td>7bf931e53acbb984c4b88b3dbd6512c9</td>\n",
              "    </tr>\n",
              "  </tbody>\n",
              "</table>\n",
              "</div>\n",
              "      <button class=\"colab-df-convert\" onclick=\"convertToInteractive('df-32e65e87-6cbb-46be-aed5-2c95c3276469')\"\n",
              "              title=\"Convert this dataframe to an interactive table.\"\n",
              "              style=\"display:none;\">\n",
              "        \n",
              "  <svg xmlns=\"http://www.w3.org/2000/svg\" height=\"24px\"viewBox=\"0 0 24 24\"\n",
              "       width=\"24px\">\n",
              "    <path d=\"M0 0h24v24H0V0z\" fill=\"none\"/>\n",
              "    <path d=\"M18.56 5.44l.94 2.06.94-2.06 2.06-.94-2.06-.94-.94-2.06-.94 2.06-2.06.94zm-11 1L8.5 8.5l.94-2.06 2.06-.94-2.06-.94L8.5 2.5l-.94 2.06-2.06.94zm10 10l.94 2.06.94-2.06 2.06-.94-2.06-.94-.94-2.06-.94 2.06-2.06.94z\"/><path d=\"M17.41 7.96l-1.37-1.37c-.4-.4-.92-.59-1.43-.59-.52 0-1.04.2-1.43.59L10.3 9.45l-7.72 7.72c-.78.78-.78 2.05 0 2.83L4 21.41c.39.39.9.59 1.41.59.51 0 1.02-.2 1.41-.59l7.78-7.78 2.81-2.81c.8-.78.8-2.07 0-2.86zM5.41 20L4 18.59l7.72-7.72 1.47 1.35L5.41 20z\"/>\n",
              "  </svg>\n",
              "      </button>\n",
              "      \n",
              "  <style>\n",
              "    .colab-df-container {\n",
              "      display:flex;\n",
              "      flex-wrap:wrap;\n",
              "      gap: 12px;\n",
              "    }\n",
              "\n",
              "    .colab-df-convert {\n",
              "      background-color: #E8F0FE;\n",
              "      border: none;\n",
              "      border-radius: 50%;\n",
              "      cursor: pointer;\n",
              "      display: none;\n",
              "      fill: #1967D2;\n",
              "      height: 32px;\n",
              "      padding: 0 0 0 0;\n",
              "      width: 32px;\n",
              "    }\n",
              "\n",
              "    .colab-df-convert:hover {\n",
              "      background-color: #E2EBFA;\n",
              "      box-shadow: 0px 1px 2px rgba(60, 64, 67, 0.3), 0px 1px 3px 1px rgba(60, 64, 67, 0.15);\n",
              "      fill: #174EA6;\n",
              "    }\n",
              "\n",
              "    [theme=dark] .colab-df-convert {\n",
              "      background-color: #3B4455;\n",
              "      fill: #D2E3FC;\n",
              "    }\n",
              "\n",
              "    [theme=dark] .colab-df-convert:hover {\n",
              "      background-color: #434B5C;\n",
              "      box-shadow: 0px 1px 3px 1px rgba(0, 0, 0, 0.15);\n",
              "      filter: drop-shadow(0px 1px 2px rgba(0, 0, 0, 0.3));\n",
              "      fill: #FFFFFF;\n",
              "    }\n",
              "  </style>\n",
              "\n",
              "      <script>\n",
              "        const buttonEl =\n",
              "          document.querySelector('#df-32e65e87-6cbb-46be-aed5-2c95c3276469 button.colab-df-convert');\n",
              "        buttonEl.style.display =\n",
              "          google.colab.kernel.accessAllowed ? 'block' : 'none';\n",
              "\n",
              "        async function convertToInteractive(key) {\n",
              "          const element = document.querySelector('#df-32e65e87-6cbb-46be-aed5-2c95c3276469');\n",
              "          const dataTable =\n",
              "            await google.colab.kernel.invokeFunction('convertToInteractive',\n",
              "                                                     [key], {});\n",
              "          if (!dataTable) return;\n",
              "\n",
              "          const docLinkHtml = 'Like what you see? Visit the ' +\n",
              "            '<a target=\"_blank\" href=https://colab.research.google.com/notebooks/data_table.ipynb>data table notebook</a>'\n",
              "            + ' to learn more about interactive tables.';\n",
              "          element.innerHTML = '';\n",
              "          dataTable['output_type'] = 'display_data';\n",
              "          await google.colab.output.renderOutput(dataTable, element);\n",
              "          const docLink = document.createElement('div');\n",
              "          docLink.innerHTML = docLinkHtml;\n",
              "          element.appendChild(docLink);\n",
              "        }\n",
              "      </script>\n",
              "    </div>\n",
              "  </div>\n",
              "  "
            ]
          },
          "metadata": {},
          "execution_count": 32
        }
      ]
    },
    {
      "cell_type": "code",
      "source": [
        ""
      ],
      "metadata": {
        "id": "8lqV8GJd5T5K"
      },
      "execution_count": null,
      "outputs": []
    }
  ]
}